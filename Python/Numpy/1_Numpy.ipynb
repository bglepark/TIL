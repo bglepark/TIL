{
 "cells": [
  {
   "cell_type": "markdown",
   "id": "ab9702da",
   "metadata": {},
   "source": [
    "C언어로 구현된 파이썬 라이브러리\n",
    "고성능 수치계산을 위해 만들엊ㄴ 파이썬 라이브러리\n",
    "Vector , matrix , n-th array(ndarray) 등의 데이터 분석을 위한 패키지\n",
    "벡터 및 행렬 연산에 있어서 매우 편리한 기능을 제공\n",
    "\n",
    "1 차원의 Numpy array : Vector\n",
    "\n",
    "2 차원의 Numpy array : Matrix\n",
    "\n",
    "3 차원 이상의 Numpy array : Tensor\n",
    "\n",
    "numpy 는 Element-wise operation : 각각의 원소에 접근해 연산한다.\n"
   ]
  },
  {
   "cell_type": "markdown",
   "id": "699bf14d",
   "metadata": {},
   "source": [
    "# numpy 모듈 선언"
   ]
  },
  {
   "cell_type": "code",
   "execution_count": 5,
   "id": "9997dd04",
   "metadata": {},
   "outputs": [],
   "source": [
    "import numpy as np"
   ]
  },
  {
   "cell_type": "code",
   "execution_count": 6,
   "id": "ba6e1fe2",
   "metadata": {},
   "outputs": [
    {
     "data": {
      "text/plain": [
       "'1.20.1'"
      ]
     },
     "execution_count": 6,
     "metadata": {},
     "output_type": "execute_result"
    }
   ],
   "source": [
    "np.__version__"
   ]
  },
  {
   "cell_type": "markdown",
   "id": "0e49a21e",
   "metadata": {},
   "source": [
    "# Array 정의 및 사용\n",
    "- 시퀀스 데이터(리스트, 튜플 등) 으로부터 배열 생성\n",
    "\n",
    "## array(object , dtype)\n",
    "형식 : arr_obj = np.array(seq_data)"
   ]
  },
  {
   "cell_type": "code",
   "execution_count": 7,
   "id": "b163884f",
   "metadata": {},
   "outputs": [
    {
     "data": {
      "text/plain": [
       "[1, 2, 3]"
      ]
     },
     "execution_count": 7,
     "metadata": {},
     "output_type": "execute_result"
    }
   ],
   "source": [
    "data1 = [1,2,3]\n",
    "data1"
   ]
  },
  {
   "cell_type": "code",
   "execution_count": 8,
   "id": "e1cfbcdf",
   "metadata": {},
   "outputs": [
    {
     "data": {
      "text/plain": [
       "[1, 2, 3, 3.5, 5]"
      ]
     },
     "execution_count": 8,
     "metadata": {},
     "output_type": "execute_result"
    }
   ],
   "source": [
    "data2 = [1,2,3,3.5,5]\n",
    "data2"
   ]
  },
  {
   "cell_type": "code",
   "execution_count": 9,
   "id": "b512caa7",
   "metadata": {},
   "outputs": [
    {
     "data": {
      "text/plain": [
       "array([1, 2, 3])"
      ]
     },
     "execution_count": 9,
     "metadata": {},
     "output_type": "execute_result"
    }
   ],
   "source": [
    "# 리스트 객체를 이용하여 array 생성\n",
    "arr1 = np.array(data1)\n",
    "arr1"
   ]
  },
  {
   "cell_type": "markdown",
   "id": "dacbe499",
   "metadata": {},
   "source": [
    "## array 크기 확인 : shape\n",
    "## array 차원 확인 : ndim\n",
    "## array itemsize 확인 : itemsize\n",
    "## array 내 element 수 확인 : size"
   ]
  },
  {
   "cell_type": "code",
   "execution_count": 10,
   "id": "8930e86d",
   "metadata": {},
   "outputs": [
    {
     "data": {
      "text/plain": [
       "(3,)"
      ]
     },
     "execution_count": 10,
     "metadata": {},
     "output_type": "execute_result"
    }
   ],
   "source": [
    "# array 크기 확인\n",
    "arr1.shape"
   ]
  },
  {
   "cell_type": "code",
   "execution_count": 11,
   "id": "e21a7c83",
   "metadata": {},
   "outputs": [
    {
     "data": {
      "text/plain": [
       "array([1, 2, 3, 4, 5])"
      ]
     },
     "execution_count": 11,
     "metadata": {},
     "output_type": "execute_result"
    }
   ],
   "source": [
    "# 리스트를 직접 입력하여 array 생성\n",
    "arr2 = np.array([1,2,3,4,5])\n",
    "arr2"
   ]
  },
  {
   "cell_type": "code",
   "execution_count": 12,
   "id": "3157d280",
   "metadata": {},
   "outputs": [
    {
     "data": {
      "text/plain": [
       "(5,)"
      ]
     },
     "execution_count": 12,
     "metadata": {},
     "output_type": "execute_result"
    }
   ],
   "source": [
    "arr2.shape"
   ]
  },
  {
   "cell_type": "code",
   "execution_count": 17,
   "id": "2c1ea75c",
   "metadata": {},
   "outputs": [
    {
     "data": {
      "text/plain": [
       "1"
      ]
     },
     "execution_count": 17,
     "metadata": {},
     "output_type": "execute_result"
    }
   ],
   "source": [
    "arr2.ndim"
   ]
  },
  {
   "cell_type": "code",
   "execution_count": 23,
   "id": "fb1883a9",
   "metadata": {},
   "outputs": [
    {
     "data": {
      "text/plain": [
       "4"
      ]
     },
     "execution_count": 23,
     "metadata": {},
     "output_type": "execute_result"
    }
   ],
   "source": [
    "arr2.itemsize # 8bits가 4번 들어감"
   ]
  },
  {
   "cell_type": "code",
   "execution_count": 24,
   "id": "66b230bd",
   "metadata": {},
   "outputs": [
    {
     "data": {
      "text/plain": [
       "dtype('int32')"
      ]
     },
     "execution_count": 24,
     "metadata": {},
     "output_type": "execute_result"
    }
   ],
   "source": [
    "arr2.dtype"
   ]
  },
  {
   "cell_type": "code",
   "execution_count": 25,
   "id": "d45f1a67",
   "metadata": {},
   "outputs": [
    {
     "data": {
      "text/plain": [
       "5"
      ]
     },
     "execution_count": 25,
     "metadata": {},
     "output_type": "execute_result"
    }
   ],
   "source": [
    "arr2.size"
   ]
  },
  {
   "cell_type": "markdown",
   "id": "88e92e8d",
   "metadata": {},
   "source": [
    "## array 자료형 확인 : dtype"
   ]
  },
  {
   "cell_type": "code",
   "execution_count": 17,
   "id": "ef4f7b3e",
   "metadata": {},
   "outputs": [
    {
     "data": {
      "text/plain": [
       "dtype('int32')"
      ]
     },
     "execution_count": 17,
     "metadata": {},
     "output_type": "execute_result"
    }
   ],
   "source": [
    "# array의 자료형 확인\n",
    "arr2.dtype"
   ]
  },
  {
   "cell_type": "code",
   "execution_count": 21,
   "id": "d15488c2",
   "metadata": {},
   "outputs": [
    {
     "data": {
      "text/plain": [
       "array([1. , 2. , 3. , 3.5, 4. ])"
      ]
     },
     "execution_count": 21,
     "metadata": {},
     "output_type": "execute_result"
    }
   ],
   "source": [
    "arr3 = np.array([1,2,3,3.5,4])\n",
    "arr3"
   ]
  },
  {
   "cell_type": "code",
   "execution_count": 23,
   "id": "2fa46b96",
   "metadata": {},
   "outputs": [
    {
     "data": {
      "text/plain": [
       "dtype('float64')"
      ]
     },
     "execution_count": 23,
     "metadata": {},
     "output_type": "execute_result"
    }
   ],
   "source": [
    "arr3.dtype"
   ]
  },
  {
   "cell_type": "code",
   "execution_count": 25,
   "id": "b289d6c5",
   "metadata": {},
   "outputs": [
    {
     "data": {
      "text/plain": [
       "(5,)"
      ]
     },
     "execution_count": 25,
     "metadata": {},
     "output_type": "execute_result"
    }
   ],
   "source": [
    "arr3.shape"
   ]
  },
  {
   "cell_type": "code",
   "execution_count": 31,
   "id": "6035f91c",
   "metadata": {},
   "outputs": [
    {
     "data": {
      "text/plain": [
       "array([[ 1,  2,  3,  4],\n",
       "       [ 4,  5,  6,  7],\n",
       "       [ 7,  8,  9, 10]])"
      ]
     },
     "execution_count": 31,
     "metadata": {},
     "output_type": "execute_result"
    }
   ],
   "source": [
    "arr4 = np.array([[1,2,3,4] , [4,5,6,7] , [7,8,9,10]])\n",
    "arr4"
   ]
  },
  {
   "cell_type": "code",
   "execution_count": 33,
   "id": "5dfc6eca",
   "metadata": {},
   "outputs": [
    {
     "data": {
      "text/plain": [
       "(3, 4)"
      ]
     },
     "execution_count": 33,
     "metadata": {},
     "output_type": "execute_result"
    }
   ],
   "source": [
    "arr4.shape #큰 괄호가 3개 , 안에 숫자 4개 =>(3,4)"
   ]
  },
  {
   "cell_type": "code",
   "execution_count": 35,
   "id": "3a97b8fa",
   "metadata": {},
   "outputs": [
    {
     "data": {
      "text/plain": [
       "dtype('int32')"
      ]
     },
     "execution_count": 35,
     "metadata": {},
     "output_type": "execute_result"
    }
   ],
   "source": [
    "arr4.dtype"
   ]
  },
  {
   "cell_type": "markdown",
   "id": "26bf202c",
   "metadata": {},
   "source": [
    "# 범위를 지정해 배열 생성(1) : np.arange() 함수\n",
    "## 형식 : arr_obj = np.arange([start] , stop , step])\n",
    "arange 는 정수값 , linspace는 실수값"
   ]
  },
  {
   "cell_type": "code",
   "execution_count": 37,
   "id": "1bb8b10c",
   "metadata": {},
   "outputs": [
    {
     "data": {
      "text/plain": [
       "array([0, 1, 2, 3, 4, 5, 6, 7, 8, 9])"
      ]
     },
     "execution_count": 37,
     "metadata": {},
     "output_type": "execute_result"
    }
   ],
   "source": [
    "np.arange(10)"
   ]
  },
  {
   "cell_type": "code",
   "execution_count": 39,
   "id": "f133f4a4",
   "metadata": {},
   "outputs": [
    {
     "data": {
      "text/plain": [
       "array([1, 2, 3, 4])"
      ]
     },
     "execution_count": 39,
     "metadata": {},
     "output_type": "execute_result"
    }
   ],
   "source": [
    "np.arange(1,5)"
   ]
  },
  {
   "cell_type": "code",
   "execution_count": 41,
   "id": "03b0f067",
   "metadata": {},
   "outputs": [
    {
     "data": {
      "text/plain": [
       "array([1, 3, 5, 7, 9])"
      ]
     },
     "execution_count": 41,
     "metadata": {},
     "output_type": "execute_result"
    }
   ],
   "source": [
    "np.arange(1,10,2)"
   ]
  },
  {
   "cell_type": "code",
   "execution_count": 43,
   "id": "99b9a77c",
   "metadata": {},
   "outputs": [
    {
     "data": {
      "text/plain": [
       "array([[ 0,  1,  2,  3],\n",
       "       [ 4,  5,  6,  7],\n",
       "       [ 8,  9, 10, 11]])"
      ]
     },
     "execution_count": 43,
     "metadata": {},
     "output_type": "execute_result"
    }
   ],
   "source": [
    "np.arange(12).reshape(3,4)"
   ]
  },
  {
   "cell_type": "code",
   "execution_count": 45,
   "id": "7599c432",
   "metadata": {},
   "outputs": [
    {
     "data": {
      "text/plain": [
       "(3, 4)"
      ]
     },
     "execution_count": 45,
     "metadata": {},
     "output_type": "execute_result"
    }
   ],
   "source": [
    "b1 = np.arange(12).reshape(3,4)\n",
    "b1.shape"
   ]
  },
  {
   "cell_type": "code",
   "execution_count": 48,
   "id": "1f32a026",
   "metadata": {},
   "outputs": [
    {
     "data": {
      "text/plain": [
       "array([[ 0,  1,  2],\n",
       "       [ 3,  4,  5],\n",
       "       [ 6,  7,  8],\n",
       "       [ 9, 10, 11]])"
      ]
     },
     "execution_count": 48,
     "metadata": {},
     "output_type": "execute_result"
    }
   ],
   "source": [
    "b3 = b1.reshape(4,3)\n",
    "b3"
   ]
  },
  {
   "cell_type": "markdown",
   "id": "77d3fc89",
   "metadata": {},
   "source": [
    "## 범위를 지정해 배열 생성(2) : linspace() 함수\n",
    "### 형식 : arr.obj = np.linspace(start,stop[,num=50])"
   ]
  },
  {
   "cell_type": "code",
   "execution_count": 50,
   "id": "48cf4dd7",
   "metadata": {},
   "outputs": [
    {
     "data": {
      "text/plain": [
       "array([ 1.,  2.,  3.,  4.,  5.,  6.,  7.,  8.,  9., 10.])"
      ]
     },
     "execution_count": 50,
     "metadata": {},
     "output_type": "execute_result"
    }
   ],
   "source": [
    "np.linspace(1,10,10) #뒤에 10은 나눈값"
   ]
  },
  {
   "cell_type": "code",
   "execution_count": 53,
   "id": "390308bc",
   "metadata": {},
   "outputs": [
    {
     "data": {
      "text/plain": [
       "array([0.        , 0.16534698, 0.33069396, 0.49604095, 0.66138793,\n",
       "       0.82673491, 0.99208189, 1.15742887, 1.32277585, 1.48812284,\n",
       "       1.65346982, 1.8188168 , 1.98416378, 2.14951076, 2.31485774,\n",
       "       2.48020473, 2.64555171, 2.81089869, 2.97624567, 3.14159265])"
      ]
     },
     "execution_count": 53,
     "metadata": {},
     "output_type": "execute_result"
    }
   ],
   "source": [
    "np.linspace(0,np.pi,20)"
   ]
  },
  {
   "cell_type": "code",
   "execution_count": 58,
   "id": "09e9505e",
   "metadata": {},
   "outputs": [
    {
     "data": {
      "text/plain": [
       "(50,)"
      ]
     },
     "execution_count": 58,
     "metadata": {},
     "output_type": "execute_result"
    }
   ],
   "source": [
    "a = np.linspace(1,10)\n",
    "a\n",
    "a.shape\n",
    "# 갯수는 기본값이 50개"
   ]
  },
  {
   "cell_type": "markdown",
   "id": "cc0032db",
   "metadata": {},
   "source": [
    "## 특별한 형태의 배열 생성\n",
    "### np.zeros() , np.onjes() , np.eye() 함수\n",
    "\n",
    "### 1) 모든 요소가 0인 배열 생성 : np.zeros(shape, dtype=float,...)\n",
    "float이 기본 default 값"
   ]
  },
  {
   "cell_type": "code",
   "execution_count": 61,
   "id": "fdfeacd9",
   "metadata": {},
   "outputs": [
    {
     "data": {
      "text/plain": [
       "array([0, 0, 0, 0, 0, 0, 0, 0, 0, 0])"
      ]
     },
     "execution_count": 61,
     "metadata": {},
     "output_type": "execute_result"
    }
   ],
   "source": [
    "np.zeros(10,dtype=int)"
   ]
  },
  {
   "cell_type": "code",
   "execution_count": 63,
   "id": "5d0216ce",
   "metadata": {},
   "outputs": [
    {
     "data": {
      "text/plain": [
       "array([[0., 0., 0., 0., 0.],\n",
       "       [0., 0., 0., 0., 0.],\n",
       "       [0., 0., 0., 0., 0.]])"
      ]
     },
     "execution_count": 63,
     "metadata": {},
     "output_type": "execute_result"
    }
   ],
   "source": [
    "np.zeros((3,5))"
   ]
  },
  {
   "cell_type": "code",
   "execution_count": 64,
   "id": "9a81071f",
   "metadata": {},
   "outputs": [
    {
     "data": {
      "text/plain": [
       "array([[0., 0., 0.],\n",
       "       [0., 0., 0.],\n",
       "       [0., 0., 0.],\n",
       "       [0., 0., 0.],\n",
       "       [0., 0., 0.]])"
      ]
     },
     "execution_count": 64,
     "metadata": {},
     "output_type": "execute_result"
    }
   ],
   "source": [
    "np.zeros((3,5)).reshape(5,3)"
   ]
  },
  {
   "cell_type": "markdown",
   "id": "bf1b4c61",
   "metadata": {},
   "source": [
    "### 모든 요소가 1인 배열 생성 : np.ones(shape, dtype=None)"
   ]
  },
  {
   "cell_type": "code",
   "execution_count": 65,
   "id": "561ded9e",
   "metadata": {},
   "outputs": [
    {
     "data": {
      "text/plain": [
       "array([1., 1., 1., 1., 1., 1., 1., 1., 1., 1.])"
      ]
     },
     "execution_count": 65,
     "metadata": {},
     "output_type": "execute_result"
    }
   ],
   "source": [
    "np.ones(10)"
   ]
  },
  {
   "cell_type": "code",
   "execution_count": 67,
   "id": "0d2d39fd",
   "metadata": {},
   "outputs": [
    {
     "data": {
      "text/plain": [
       "array([[1, 1, 1, 1, 1],\n",
       "       [1, 1, 1, 1, 1],\n",
       "       [1, 1, 1, 1, 1]])"
      ]
     },
     "execution_count": 67,
     "metadata": {},
     "output_type": "execute_result"
    }
   ],
   "source": [
    "np.ones((3,5) , dtype=int)  # 위의 값은 실수형으로 출력"
   ]
  },
  {
   "cell_type": "markdown",
   "id": "5a6fb9e5",
   "metadata": {},
   "source": [
    "### 대각 요소가 1인 배열 생성1 : np.eye(n,m, k=K , dtype=float)"
   ]
  },
  {
   "cell_type": "code",
   "execution_count": 68,
   "id": "1c79fbbd",
   "metadata": {},
   "outputs": [
    {
     "data": {
      "text/plain": [
       "array([[1., 0., 0.],\n",
       "       [0., 1., 0.],\n",
       "       [0., 0., 1.]])"
      ]
     },
     "execution_count": 68,
     "metadata": {},
     "output_type": "execute_result"
    }
   ],
   "source": [
    "# 3행 3열의 대각요소만 1인 행렬 생성\n",
    "np.eye(3)"
   ]
  },
  {
   "cell_type": "code",
   "execution_count": 70,
   "id": "cdf5a7ee",
   "metadata": {},
   "outputs": [
    {
     "data": {
      "text/plain": [
       "array([[1., 0., 0., 0.],\n",
       "       [0., 1., 0., 0.],\n",
       "       [0., 0., 1., 0.]])"
      ]
     },
     "execution_count": 70,
     "metadata": {},
     "output_type": "execute_result"
    }
   ],
   "source": [
    "np.eye(3,4) # 완전 대각은 없기 때문에 만나는 요소의 대각 부분에 생성"
   ]
  },
  {
   "cell_type": "code",
   "execution_count": 74,
   "id": "aee6f47e",
   "metadata": {},
   "outputs": [
    {
     "data": {
      "text/plain": [
       "array([[0, 1, 0, 0],\n",
       "       [0, 0, 1, 0],\n",
       "       [0, 0, 0, 1]])"
      ]
     },
     "execution_count": 74,
     "metadata": {},
     "output_type": "execute_result"
    }
   ],
   "source": [
    "np.eye(3,4, k=1 , dtype=int) # k는 오프셋 값이다. 1을 줘서 1칸 옆으로 이동함"
   ]
  },
  {
   "cell_type": "code",
   "execution_count": 75,
   "id": "55d14109",
   "metadata": {},
   "outputs": [
    {
     "data": {
      "text/plain": [
       "array([[0, 0, 1, 0],\n",
       "       [0, 0, 0, 1],\n",
       "       [0, 0, 0, 0]])"
      ]
     },
     "execution_count": 75,
     "metadata": {},
     "output_type": "execute_result"
    }
   ],
   "source": [
    "np.eye(3,4 , k=2 , dtype = int)"
   ]
  },
  {
   "cell_type": "code",
   "execution_count": 77,
   "id": "aeecc86a",
   "metadata": {},
   "outputs": [
    {
     "data": {
      "text/plain": [
       "array([[0., 0., 0., 0.],\n",
       "       [1., 0., 0., 0.],\n",
       "       [0., 1., 0., 0.]])"
      ]
     },
     "execution_count": 77,
     "metadata": {},
     "output_type": "execute_result"
    }
   ],
   "source": [
    "np.eye(3,4, k= -1 ) # k=-1 : 왼쪽으로 한칸"
   ]
  },
  {
   "cell_type": "markdown",
   "id": "42d5d0bb",
   "metadata": {},
   "source": [
    "### 4) 대각요소가 1인 배열 생성2 : np.identity(n, dtype=자료형)"
   ]
  },
  {
   "cell_type": "code",
   "execution_count": 153,
   "id": "5d36ff46",
   "metadata": {},
   "outputs": [
    {
     "data": {
      "text/plain": [
       "array([[1, 0, 0, 0, 0],\n",
       "       [0, 1, 0, 0, 0],\n",
       "       [0, 0, 1, 0, 0],\n",
       "       [0, 0, 0, 1, 0],\n",
       "       [0, 0, 0, 0, 1]])"
      ]
     },
     "execution_count": 153,
     "metadata": {},
     "output_type": "execute_result"
    }
   ],
   "source": [
    "# n*n 크기의 단위 행렬 생성\n",
    "np.identity(5 , dtype = int) # 5행 5열"
   ]
  },
  {
   "cell_type": "markdown",
   "id": "5dc7a505",
   "metadata": {},
   "source": [
    "### 5) 초기화되지 않은 배열 생성 : np.empty(shape, dtype =float)"
   ]
  },
  {
   "cell_type": "code",
   "execution_count": 159,
   "id": "69a729c3",
   "metadata": {},
   "outputs": [
    {
     "data": {
      "text/plain": [
       "array([0., 0., 0., 0.])"
      ]
     },
     "execution_count": 159,
     "metadata": {},
     "output_type": "execute_result"
    }
   ],
   "source": [
    "# 초기화되지 않은 배열 생성 -> 그냥 1차원 생성\n",
    "np.empty(4)"
   ]
  },
  {
   "cell_type": "markdown",
   "id": "41136de9",
   "metadata": {},
   "source": [
    "## 배열의 데이터 타입 변환 : astype() 함수"
   ]
  },
  {
   "cell_type": "markdown",
   "id": "0def630b",
   "metadata": {},
   "source": [
    "형식\n",
    "num_arr = str_arr.astype(dtype)\n",
    "dtype = int, float , str"
   ]
  },
  {
   "cell_type": "code",
   "execution_count": 85,
   "id": "5f3a7ed9",
   "metadata": {},
   "outputs": [
    {
     "data": {
      "text/plain": [
       "array(['1.5', '0.62', '2', '3.14', '3.141592'], dtype='<U8')"
      ]
     },
     "execution_count": 85,
     "metadata": {},
     "output_type": "execute_result"
    }
   ],
   "source": [
    "np.array(['1.5' , '0.62' , '2' , '3.14' , '3.141592']) #unicode 형태로 출력됨"
   ]
  },
  {
   "cell_type": "code",
   "execution_count": 95,
   "id": "a426cb2d",
   "metadata": {},
   "outputs": [
    {
     "data": {
      "text/plain": [
       "array([1.5     , 0.62    , 2.      , 3.14    , 3.141592])"
      ]
     },
     "execution_count": 95,
     "metadata": {},
     "output_type": "execute_result"
    }
   ],
   "source": [
    "str_a1 = np.array(['1.5' , '0.62' , '2' , '3.14' , '3.141592'])\n",
    "# num_a1 = str_a1.astype(float) 으로도 가능\n",
    "\n",
    "num_a1 = str_a1.astype('float64') \n",
    "num_a1"
   ]
  },
  {
   "cell_type": "code",
   "execution_count": 96,
   "id": "2a7b5c3b",
   "metadata": {},
   "outputs": [
    {
     "data": {
      "text/plain": [
       "dtype('<U8')"
      ]
     },
     "execution_count": 96,
     "metadata": {},
     "output_type": "execute_result"
    }
   ],
   "source": [
    "str_a1.dtype"
   ]
  },
  {
   "cell_type": "code",
   "execution_count": 94,
   "id": "b8bbb503",
   "metadata": {},
   "outputs": [
    {
     "data": {
      "text/plain": [
       "dtype('float64')"
      ]
     },
     "execution_count": 94,
     "metadata": {},
     "output_type": "execute_result"
    }
   ],
   "source": [
    "num_a1.dtype"
   ]
  },
  {
   "cell_type": "code",
   "execution_count": 100,
   "id": "1bce52c4",
   "metadata": {},
   "outputs": [
    {
     "data": {
      "text/plain": [
       "array([1, 3, 5, 7, 9])"
      ]
     },
     "execution_count": 100,
     "metadata": {},
     "output_type": "execute_result"
    }
   ],
   "source": [
    "str_a2 = np.array(['1','3','5','7','9'])\n",
    "num_a2 = str_a2.astype(int)\n",
    "num_a2"
   ]
  },
  {
   "cell_type": "code",
   "execution_count": 164,
   "id": "9ed2147b",
   "metadata": {},
   "outputs": [
    {
     "data": {
      "text/plain": [
       "array([1., 3., 5., 7., 9.])"
      ]
     },
     "execution_count": 164,
     "metadata": {},
     "output_type": "execute_result"
    }
   ],
   "source": [
    "num_a3 = str_a2.astype(float)\n",
    "num_a3"
   ]
  },
  {
   "cell_type": "code",
   "execution_count": 167,
   "id": "52b8c983",
   "metadata": {},
   "outputs": [
    {
     "ename": "ValueError",
     "evalue": "invalid literal for int() with base 10: '1.5'",
     "output_type": "error",
     "traceback": [
      "\u001b[1;31m---------------------------------------------------------------------------\u001b[0m",
      "\u001b[1;31mValueError\u001b[0m                                Traceback (most recent call last)",
      "\u001b[1;32m<ipython-input-167-46f1492d27b2>\u001b[0m in \u001b[0;36m<module>\u001b[1;34m\u001b[0m\n\u001b[1;32m----> 1\u001b[1;33m \u001b[0mnum_a4\u001b[0m \u001b[1;33m=\u001b[0m \u001b[0mstr_a1\u001b[0m\u001b[1;33m.\u001b[0m\u001b[0mastype\u001b[0m\u001b[1;33m(\u001b[0m\u001b[0mint\u001b[0m\u001b[1;33m)\u001b[0m\u001b[1;33m\u001b[0m\u001b[1;33m\u001b[0m\u001b[0m\n\u001b[0m\u001b[0;32m      2\u001b[0m \u001b[0mnum_a4\u001b[0m\u001b[1;33m\u001b[0m\u001b[1;33m\u001b[0m\u001b[0m\n\u001b[0;32m      3\u001b[0m \u001b[1;31m# 문자 형태를 int 형태로 바꿀수없다\u001b[0m\u001b[1;33m\u001b[0m\u001b[1;33m\u001b[0m\u001b[1;33m\u001b[0m\u001b[0m\n",
      "\u001b[1;31mValueError\u001b[0m: invalid literal for int() with base 10: '1.5'"
     ]
    }
   ],
   "source": [
    "num_a4 = str_a1.astype(int)\n",
    "num_a4\n",
    "# 문자 형태를 int 형태로 바꿀수없다"
   ]
  },
  {
   "cell_type": "markdown",
   "id": "e464ed18",
   "metadata": {},
   "source": [
    "## 실수형 배열을 정수형 배열로 변환"
   ]
  },
  {
   "cell_type": "code",
   "execution_count": 106,
   "id": "8b47c59e",
   "metadata": {},
   "outputs": [
    {
     "data": {
      "text/plain": [
       "array([ 10.  ,  21.  ,   0.  , 549.  ,   4.75,   5.98])"
      ]
     },
     "execution_count": 106,
     "metadata": {},
     "output_type": "execute_result"
    }
   ],
   "source": [
    "num_f1 = np.array([10,21,0,549,4.75,5.98])\n",
    "num_f1"
   ]
  },
  {
   "cell_type": "code",
   "execution_count": 109,
   "id": "f238187a",
   "metadata": {},
   "outputs": [
    {
     "data": {
      "text/plain": [
       "array([ 10,  21,   0, 549,   4,   5])"
      ]
     },
     "execution_count": 109,
     "metadata": {},
     "output_type": "execute_result"
    }
   ],
   "source": [
    "num_i1 = num_f1.astype(int)\n",
    "num_i1 # 정수형으로 바꿈 "
   ]
  },
  {
   "cell_type": "code",
   "execution_count": 110,
   "id": "0b2b61bb",
   "metadata": {},
   "outputs": [
    {
     "data": {
      "text/plain": [
       "dtype('float64')"
      ]
     },
     "execution_count": 110,
     "metadata": {},
     "output_type": "execute_result"
    }
   ],
   "source": [
    "num_f1.dtype"
   ]
  },
  {
   "cell_type": "code",
   "execution_count": 111,
   "id": "ca236852",
   "metadata": {},
   "outputs": [
    {
     "data": {
      "text/plain": [
       "dtype('int32')"
      ]
     },
     "execution_count": 111,
     "metadata": {},
     "output_type": "execute_result"
    }
   ],
   "source": [
    "num_i1.dtype"
   ]
  },
  {
   "cell_type": "markdown",
   "id": "a7d677b1",
   "metadata": {},
   "source": [
    "## 숫자형 배열을 문자열 배열로 변환  "
   ]
  },
  {
   "cell_type": "code",
   "execution_count": 112,
   "id": "def87d48",
   "metadata": {},
   "outputs": [
    {
     "data": {
      "text/plain": [
       "array(['10.0', '21.0', '0.0', '549.0', '4.75', '5.98'], dtype='<U32')"
      ]
     },
     "execution_count": 112,
     "metadata": {},
     "output_type": "execute_result"
    }
   ],
   "source": [
    "num_f1.astype(str)"
   ]
  },
  {
   "cell_type": "code",
   "execution_count": 113,
   "id": "421f0f65",
   "metadata": {},
   "outputs": [
    {
     "data": {
      "text/plain": [
       "array(['10.0', '21.0', '0.0', '549.0', '4.75', '5.98'], dtype='<U32')"
      ]
     },
     "execution_count": 113,
     "metadata": {},
     "output_type": "execute_result"
    }
   ],
   "source": [
    "num_f1.astype('U') # 문자형"
   ]
  },
  {
   "cell_type": "code",
   "execution_count": 114,
   "id": "1cdc5c02",
   "metadata": {},
   "outputs": [
    {
     "data": {
      "text/plain": [
       "array([b'10.0', b'21.0', b'0.0', b'549.0', b'4.75', b'5.98'], dtype='|S32')"
      ]
     },
     "execution_count": 114,
     "metadata": {},
     "output_type": "execute_result"
    }
   ],
   "source": [
    "num_f1.astype('S') # 바이트 문자열"
   ]
  },
  {
   "cell_type": "markdown",
   "id": "0be71f23",
   "metadata": {},
   "source": [
    "## 난수 배열 생성\n",
    "### random.rand() , random.randint() 함수\n",
    "\n",
    "#### random.rand([d0,d1,...dn])\n",
    "- [0과 1) 사이의 실수 난수를 갖는 Numpy 배열을 생성 (0이상 1미만)\n",
    "- rand(d0, d1 , ...dn)을 실행하면 (d0,d1,....dn)의 형태를 보이는 실수 난수 배열 생성"
   ]
  },
  {
   "cell_type": "code",
   "execution_count": 115,
   "id": "d0f734eb",
   "metadata": {},
   "outputs": [
    {
     "data": {
      "text/plain": [
       "array([0.39154575, 0.62794181, 0.26223198, 0.71080874, 0.31405352,\n",
       "       0.81977727, 0.13258176, 0.53091646, 0.8359852 , 0.42743904])"
      ]
     },
     "execution_count": 115,
     "metadata": {},
     "output_type": "execute_result"
    }
   ],
   "source": [
    "np.random.rand(10)"
   ]
  },
  {
   "cell_type": "code",
   "execution_count": 116,
   "id": "5ec8ec31",
   "metadata": {},
   "outputs": [
    {
     "data": {
      "text/plain": [
       "array([[0.08912011, 0.7532605 , 0.21900251, 0.67275986, 0.25147823],\n",
       "       [0.76336175, 0.16405505, 0.33936419, 0.01114812, 0.31523143]])"
      ]
     },
     "execution_count": 116,
     "metadata": {},
     "output_type": "execute_result"
    }
   ],
   "source": [
    "np.random.rand(2,5)"
   ]
  },
  {
   "cell_type": "code",
   "execution_count": 117,
   "id": "1e0660bd",
   "metadata": {},
   "outputs": [
    {
     "data": {
      "text/plain": [
       "0.010843420893074551"
      ]
     },
     "execution_count": 117,
     "metadata": {},
     "output_type": "execute_result"
    }
   ],
   "source": [
    "np.random.rand()"
   ]
  },
  {
   "cell_type": "code",
   "execution_count": 118,
   "id": "c84e3409",
   "metadata": {},
   "outputs": [
    {
     "data": {
      "text/plain": [
       "array([[[0.87661979, 0.15765556, 0.19656916, 0.35328527],\n",
       "        [0.95959159, 0.01694753, 0.08363133, 0.61699452],\n",
       "        [0.85018976, 0.16859495, 0.49255428, 0.49381173]],\n",
       "\n",
       "       [[0.39992064, 0.037971  , 0.1711319 , 0.38797094],\n",
       "        [0.07182216, 0.64526062, 0.00395433, 0.09848924],\n",
       "        [0.42322694, 0.23230249, 0.53174579, 0.84005685]]])"
      ]
     },
     "execution_count": 118,
     "metadata": {},
     "output_type": "execute_result"
    }
   ],
   "source": [
    "np.random.rand(2,3,4)"
   ]
  },
  {
   "cell_type": "markdown",
   "id": "0ef2753e",
   "metadata": {},
   "source": [
    "## random.randint([low] , high , [,size])\n",
    "- low, high 사이의 정수 난수를 갖는 Numpy 배열을 생성\n",
    "- size : (d0,d1,...dn) 형식으로 입력"
   ]
  },
  {
   "cell_type": "code",
   "execution_count": 119,
   "id": "08967f52",
   "metadata": {},
   "outputs": [
    {
     "data": {
      "text/plain": [
       "8"
      ]
     },
     "execution_count": 119,
     "metadata": {},
     "output_type": "execute_result"
    }
   ],
   "source": [
    "np.random.randint(10)"
   ]
  },
  {
   "cell_type": "code",
   "execution_count": 121,
   "id": "ff9c04e0",
   "metadata": {},
   "outputs": [
    {
     "data": {
      "text/plain": [
       "15"
      ]
     },
     "execution_count": 121,
     "metadata": {},
     "output_type": "execute_result"
    }
   ],
   "source": [
    "np.random.randint(10, 20)"
   ]
  },
  {
   "cell_type": "code",
   "execution_count": 122,
   "id": "bc429f37",
   "metadata": {},
   "outputs": [
    {
     "data": {
      "text/plain": [
       "array([[18, 13, 19, 17],\n",
       "       [18, 18, 19, 18],\n",
       "       [13, 17, 11, 16]])"
      ]
     },
     "execution_count": 122,
     "metadata": {},
     "output_type": "execute_result"
    }
   ],
   "source": [
    "np.random.randint(10,20, size=(3,4))"
   ]
  },
  {
   "cell_type": "markdown",
   "id": "e76312ca",
   "metadata": {},
   "source": [
    "## Array 연산\n",
    "\n",
    "### 기본 연산(합, 차 ,곱 , 나눗셈 등)\n",
    ": 기본적으로 동일한 크기의 array 간 연산 수행"
   ]
  },
  {
   "cell_type": "code",
   "execution_count": 126,
   "id": "9971c9ba",
   "metadata": {},
   "outputs": [
    {
     "data": {
      "text/plain": [
       "array([[1, 2, 3],\n",
       "       [4, 5, 6]])"
      ]
     },
     "execution_count": 126,
     "metadata": {},
     "output_type": "execute_result"
    }
   ],
   "source": [
    "arr1 = np.arange(1,7).reshape(2,3)\n",
    "arr1"
   ]
  },
  {
   "cell_type": "code",
   "execution_count": 128,
   "id": "0a83db90",
   "metadata": {},
   "outputs": [
    {
     "data": {
      "text/plain": [
       "array([[10, 11, 12],\n",
       "       [13, 14, 15]])"
      ]
     },
     "execution_count": 128,
     "metadata": {},
     "output_type": "execute_result"
    }
   ],
   "source": [
    "arr2 = np.arange(10,16).reshape(2,3)\n",
    "arr2"
   ]
  },
  {
   "cell_type": "code",
   "execution_count": 134,
   "id": "6e27fd10",
   "metadata": {},
   "outputs": [
    {
     "name": "stdout",
     "output_type": "stream",
     "text": [
      "(2, 3)\n",
      "(2, 3)\n"
     ]
    }
   ],
   "source": [
    "print(arr1.shape)\n",
    "print(arr2.shape)"
   ]
  },
  {
   "cell_type": "markdown",
   "id": "4cb153af",
   "metadata": {},
   "source": [
    "## 배열의 합"
   ]
  },
  {
   "cell_type": "code",
   "execution_count": 135,
   "id": "35f61677",
   "metadata": {},
   "outputs": [
    {
     "data": {
      "text/plain": [
       "array([[11, 13, 15],\n",
       "       [17, 19, 21]])"
      ]
     },
     "execution_count": 135,
     "metadata": {},
     "output_type": "execute_result"
    }
   ],
   "source": [
    "arr1 + arr2"
   ]
  },
  {
   "cell_type": "markdown",
   "id": "43fb27e2",
   "metadata": {},
   "source": [
    "## 배열의 차"
   ]
  },
  {
   "cell_type": "code",
   "execution_count": 136,
   "id": "caa533fe",
   "metadata": {},
   "outputs": [
    {
     "data": {
      "text/plain": [
       "array([[-9, -9, -9],\n",
       "       [-9, -9, -9]])"
      ]
     },
     "execution_count": 136,
     "metadata": {},
     "output_type": "execute_result"
    }
   ],
   "source": [
    "arr1 - arr2"
   ]
  },
  {
   "cell_type": "markdown",
   "id": "c47632ca",
   "metadata": {},
   "source": [
    "## 배열의 곱"
   ]
  },
  {
   "cell_type": "code",
   "execution_count": 137,
   "id": "c76650bb",
   "metadata": {},
   "outputs": [
    {
     "data": {
      "text/plain": [
       "array([[10, 22, 36],\n",
       "       [52, 70, 90]])"
      ]
     },
     "execution_count": 137,
     "metadata": {},
     "output_type": "execute_result"
    }
   ],
   "source": [
    "arr1 * arr2"
   ]
  },
  {
   "cell_type": "markdown",
   "id": "c855b763",
   "metadata": {},
   "source": [
    "## 배열의 나눗셈"
   ]
  },
  {
   "cell_type": "code",
   "execution_count": 138,
   "id": "c29e76ca",
   "metadata": {},
   "outputs": [
    {
     "data": {
      "text/plain": [
       "array([[0.1       , 0.18181818, 0.25      ],\n",
       "       [0.30769231, 0.35714286, 0.4       ]])"
      ]
     },
     "execution_count": 138,
     "metadata": {},
     "output_type": "execute_result"
    }
   ],
   "source": [
    "arr1 / arr2"
   ]
  },
  {
   "cell_type": "markdown",
   "id": "cc70cb1f",
   "metadata": {},
   "source": [
    "## 배열의 스칼라 곱"
   ]
  },
  {
   "cell_type": "code",
   "execution_count": 139,
   "id": "3a6575cb",
   "metadata": {},
   "outputs": [
    {
     "data": {
      "text/plain": [
       "array([[20, 22, 24],\n",
       "       [26, 28, 30]])"
      ]
     },
     "execution_count": 139,
     "metadata": {},
     "output_type": "execute_result"
    }
   ],
   "source": [
    "arr2*2"
   ]
  },
  {
   "cell_type": "markdown",
   "id": "4a399227",
   "metadata": {},
   "source": [
    "## 배열의 비교 연산"
   ]
  },
  {
   "cell_type": "code",
   "execution_count": 144,
   "id": "4517eec5",
   "metadata": {},
   "outputs": [
    {
     "data": {
      "text/plain": [
       "array([[False, False, False],\n",
       "       [ True,  True,  True]])"
      ]
     },
     "execution_count": 144,
     "metadata": {},
     "output_type": "execute_result"
    }
   ],
   "source": [
    "arr2>12"
   ]
  },
  {
   "cell_type": "markdown",
   "id": "b966d260",
   "metadata": {},
   "source": [
    "## 배열의 Broadcasting\n",
    "- 서로 크기가 다른 array들의 연산이 가능하도록 배열을 자동적으로 변환하여 연산 수행"
   ]
  },
  {
   "cell_type": "code",
   "execution_count": 146,
   "id": "d44a82b1",
   "metadata": {},
   "outputs": [
    {
     "data": {
      "text/plain": [
       "array([[1, 2, 3],\n",
       "       [4, 5, 6]])"
      ]
     },
     "execution_count": 146,
     "metadata": {},
     "output_type": "execute_result"
    }
   ],
   "source": [
    "arr1 = np.arange(1,7).reshape(2,3)\n",
    "arr1"
   ]
  },
  {
   "cell_type": "code",
   "execution_count": 147,
   "id": "70724325",
   "metadata": {},
   "outputs": [
    {
     "data": {
      "text/plain": [
       "array([10, 11, 12])"
      ]
     },
     "execution_count": 147,
     "metadata": {},
     "output_type": "execute_result"
    }
   ],
   "source": [
    "arr3 = np.array([10,11,12])\n",
    "arr3"
   ]
  },
  {
   "cell_type": "code",
   "execution_count": 148,
   "id": "c4b290ce",
   "metadata": {},
   "outputs": [
    {
     "data": {
      "text/plain": [
       "((2, 3), (3,))"
      ]
     },
     "execution_count": 148,
     "metadata": {},
     "output_type": "execute_result"
    }
   ],
   "source": [
    "(arr1.shape , arr3.shape)"
   ]
  },
  {
   "cell_type": "code",
   "execution_count": 150,
   "id": "6d37518e",
   "metadata": {},
   "outputs": [
    {
     "data": {
      "text/plain": [
       "array([[11, 13, 15],\n",
       "       [14, 16, 18]])"
      ]
     },
     "execution_count": 150,
     "metadata": {},
     "output_type": "execute_result"
    }
   ],
   "source": [
    "arr1 + arr3 # 서로 크기가 달라도 연산이 가능하다"
   ]
  },
  {
   "cell_type": "code",
   "execution_count": 151,
   "id": "d294b027",
   "metadata": {},
   "outputs": [
    {
     "data": {
      "text/plain": [
       "array([[ 1,  4,  9],\n",
       "       [16, 25, 36]], dtype=int32)"
      ]
     },
     "execution_count": 151,
     "metadata": {},
     "output_type": "execute_result"
    }
   ],
   "source": [
    "arr1 **2"
   ]
  },
  {
   "cell_type": "markdown",
   "id": "e7721328",
   "metadata": {},
   "source": [
    "## 브로드캐스팅이 일어날 수 있는 조건\n",
    "- 두 배열 간의 연산에서 최소한 하나의 배열이 차원이 1인 경우\n",
    "- 차원의 짝이 맞을 때"
   ]
  },
  {
   "cell_type": "markdown",
   "id": "786355e3",
   "metadata": {},
   "source": [
    "## 3차원 행렬 만들기"
   ]
  },
  {
   "cell_type": "code",
   "execution_count": 31,
   "id": "629f2e87",
   "metadata": {},
   "outputs": [
    {
     "name": "stdout",
     "output_type": "stream",
     "text": [
      "[[[10]\n",
      "  [20]]\n",
      "\n",
      " [[30]\n",
      "  [40]]]\n",
      "3\n",
      "4\n",
      "(2, 2, 1)\n"
     ]
    }
   ],
   "source": [
    "a = np.array([\n",
    "    [[10],[20]],\n",
    "    [[30],[40]]])\n",
    "print(a)\n",
    "print(a.ndim)\n",
    "print(a.size)\n",
    "print(a.shape)"
   ]
  },
  {
   "cell_type": "code",
   "execution_count": 34,
   "id": "e8ce000c",
   "metadata": {},
   "outputs": [
    {
     "name": "stdout",
     "output_type": "stream",
     "text": [
      "[[[10 50]\n",
      "  [20 60]]\n",
      "\n",
      " [[30 70]\n",
      "  [40 80]]]\n",
      "3\n",
      "8\n",
      "(2, 2, 2)\n"
     ]
    }
   ],
   "source": [
    "b = np.array([\n",
    "    [[10,50] , [20,60]],\n",
    "    [[30,70] , [40,80]]\n",
    "])\n",
    "print(b)\n",
    "print(b.ndim)\n",
    "print(b.size)\n",
    "print(b.shape)"
   ]
  },
  {
   "cell_type": "markdown",
   "id": "4c86123f",
   "metadata": {},
   "source": [
    "## insert / delete"
   ]
  },
  {
   "cell_type": "code",
   "execution_count": 40,
   "id": "abd6264c",
   "metadata": {},
   "outputs": [
    {
     "data": {
      "text/plain": [
       "array([ 5, 10, 20, 30])"
      ]
     },
     "execution_count": 40,
     "metadata": {},
     "output_type": "execute_result"
    }
   ],
   "source": [
    "a = np.array([10,20,30])\n",
    "a = np.insert(a,0,5) #(array , index위치 , 값)\n",
    "a"
   ]
  },
  {
   "cell_type": "code",
   "execution_count": 44,
   "id": "cf0ca0a3",
   "metadata": {},
   "outputs": [
    {
     "data": {
      "text/plain": [
       "array([10, 20, 30])"
      ]
     },
     "execution_count": 44,
     "metadata": {},
     "output_type": "execute_result"
    }
   ],
   "source": [
    "np.delete(a,0) # delete(array , index위치)"
   ]
  },
  {
   "cell_type": "markdown",
   "id": "230350f5",
   "metadata": {},
   "source": [
    "## Numpy - Math and Logical Operations"
   ]
  },
  {
   "cell_type": "code",
   "execution_count": 45,
   "id": "046633b4",
   "metadata": {},
   "outputs": [],
   "source": [
    "a = np.array([10,20,30])\n",
    "b = np.array([1,2,3])"
   ]
  },
  {
   "cell_type": "code",
   "execution_count": 47,
   "id": "a3bd5bfe",
   "metadata": {},
   "outputs": [
    {
     "data": {
      "text/plain": [
       "array([11, 22, 33])"
      ]
     },
     "execution_count": 47,
     "metadata": {},
     "output_type": "execute_result"
    }
   ],
   "source": [
    "c=a+b\n",
    "c"
   ]
  },
  {
   "cell_type": "code",
   "execution_count": 48,
   "id": "6384870c",
   "metadata": {},
   "outputs": [
    {
     "data": {
      "text/plain": [
       "array([ 9, 18, 27])"
      ]
     },
     "execution_count": 48,
     "metadata": {},
     "output_type": "execute_result"
    }
   ],
   "source": [
    "c = a-b\n",
    "c"
   ]
  },
  {
   "cell_type": "code",
   "execution_count": 49,
   "id": "6c117d73",
   "metadata": {},
   "outputs": [
    {
     "data": {
      "text/plain": [
       "array([1, 4, 9], dtype=int32)"
      ]
     },
     "execution_count": 49,
     "metadata": {},
     "output_type": "execute_result"
    }
   ],
   "source": [
    "c = b**2\n",
    "c"
   ]
  },
  {
   "cell_type": "code",
   "execution_count": 50,
   "id": "6bb6eced",
   "metadata": {},
   "outputs": [
    {
     "data": {
      "text/plain": [
       "array([ True,  True,  True])"
      ]
     },
     "execution_count": 50,
     "metadata": {},
     "output_type": "execute_result"
    }
   ],
   "source": [
    "idx = b<20\n",
    "idx"
   ]
  },
  {
   "cell_type": "markdown",
   "id": "42e5dad4",
   "metadata": {},
   "source": [
    "## Numpy 함수 이용\n",
    "\n",
    "### np.add(a,b)\n",
    "### np.subtract(a,b)\n",
    "### np.multiply(a,b)\n",
    "### np.divide(a,b)\n",
    "### np.divmod(a,b)\n",
    "### np.exp(b) => e의 b승\n",
    "### np.sqrt(b) => 제곱근\n",
    "### np.mean(a) = a.mean() 같은 기능"
   ]
  },
  {
   "cell_type": "markdown",
   "id": "24179cfd",
   "metadata": {},
   "source": [
    "### np.average(a) => average는 가중치를 줄 수 있다.\n",
    "### np.average(a,weights = [1,1,1])"
   ]
  },
  {
   "cell_type": "code",
   "execution_count": 51,
   "id": "95d56d57",
   "metadata": {},
   "outputs": [
    {
     "data": {
      "text/plain": [
       "20.0"
      ]
     },
     "execution_count": 51,
     "metadata": {},
     "output_type": "execute_result"
    }
   ],
   "source": [
    "a = np.array([10,20,30])\n",
    "np.average(a)"
   ]
  },
  {
   "cell_type": "code",
   "execution_count": 54,
   "id": "b6f4b3c0",
   "metadata": {},
   "outputs": [
    {
     "data": {
      "text/plain": [
       "20.0"
      ]
     },
     "execution_count": 54,
     "metadata": {},
     "output_type": "execute_result"
    }
   ],
   "source": [
    "np.average(a , weights = [1,1,1])"
   ]
  },
  {
   "cell_type": "code",
   "execution_count": 55,
   "id": "2ce07075",
   "metadata": {},
   "outputs": [
    {
     "data": {
      "text/plain": [
       "15.0"
      ]
     },
     "execution_count": 55,
     "metadata": {},
     "output_type": "execute_result"
    }
   ],
   "source": [
    "np.average(a , weights = [1,1,0])"
   ]
  },
  {
   "cell_type": "code",
   "execution_count": 56,
   "id": "26138766",
   "metadata": {},
   "outputs": [
    {
     "data": {
      "text/plain": [
       "20.0"
      ]
     },
     "execution_count": 56,
     "metadata": {},
     "output_type": "execute_result"
    }
   ],
   "source": [
    "np.average(a , weights = [1,0,1])"
   ]
  },
  {
   "cell_type": "markdown",
   "id": "d78d1965",
   "metadata": {},
   "source": [
    "## np.median(a) : 중앙값\n",
    "## np.cumsum(a) : 숫자들의 더해진 값 => array\n",
    "## np.cov(a) : 공분산 구하기\n",
    "## np.std(a) : 표준편차 구하기\n",
    "## np.var(a) : 분산 구하기"
   ]
  },
  {
   "cell_type": "code",
   "execution_count": null,
   "id": "2042c03b",
   "metadata": {},
   "outputs": [],
   "source": []
  }
 ],
 "metadata": {
  "kernelspec": {
   "display_name": "Python 3",
   "language": "python",
   "name": "python3"
  },
  "language_info": {
   "codemirror_mode": {
    "name": "ipython",
    "version": 3
   },
   "file_extension": ".py",
   "mimetype": "text/x-python",
   "name": "python",
   "nbconvert_exporter": "python",
   "pygments_lexer": "ipython3",
   "version": "3.8.8"
  }
 },
 "nbformat": 4,
 "nbformat_minor": 5
}
