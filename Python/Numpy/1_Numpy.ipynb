{
 "cells": [
  {
   "cell_type": "markdown",
   "id": "ab9702da",
   "metadata": {},
   "source": [
    "C언어로 구현된 파이썬 라이브러리\n",
    "고성능 수치계산을 위해 만들엊ㄴ 파이썬 라이브러리\n",
    "Vector , matrix , n-th array(ndarray) 등의 데이터 분석을 위한 패키지\n",
    "벡터 및 행렬 연산에 있어서 매우 편리한 기능을 제공\n",
    "\n",
    "1 차원의 Numpy array : Vector\n",
    "\n",
    "2 차원의 Numpy array : Matrix\n",
    "\n",
    "3 차원 이상의 Numpy array : Tensor\n",
    "\n",
    "numpy 는 Element-wise operation : 각각의 원소에 접근해 연산한다.\n"
   ]
  },
  {
   "cell_type": "markdown",
   "id": "699bf14d",
   "metadata": {},
   "source": [
    "# numpy 모듈 선언"
   ]
  },
  {
   "cell_type": "code",
   "execution_count": 3,
   "id": "9997dd04",
   "metadata": {},
   "outputs": [],
   "source": [
    "import numpy as np"
   ]
  },
  {
   "cell_type": "code",
   "execution_count": 6,
   "id": "ba6e1fe2",
   "metadata": {},
   "outputs": [
    {
     "data": {
      "text/plain": [
       "'1.20.1'"
      ]
     },
     "execution_count": 6,
     "metadata": {},
     "output_type": "execute_result"
    }
   ],
   "source": [
    "np.__version__"
   ]
  },
  {
   "cell_type": "markdown",
   "id": "0e49a21e",
   "metadata": {},
   "source": [
    "# Array 정의 및 사용\n",
    "- 시퀀스 데이터(리스트, 튜플 등) 으로부터 배열 생성\n",
    "\n",
    "## array(object , dtype)\n",
    "형식 : arr_obj = np.array(seq_data)"
   ]
  },
  {
   "cell_type": "code",
   "execution_count": 7,
   "id": "b163884f",
   "metadata": {},
   "outputs": [
    {
     "data": {
      "text/plain": [
       "[1, 2, 3]"
      ]
     },
     "execution_count": 7,
     "metadata": {},
     "output_type": "execute_result"
    }
   ],
   "source": [
    "data1 = [1,2,3]\n",
    "data1"
   ]
  },
  {
   "cell_type": "code",
   "execution_count": 8,
   "id": "e1cfbcdf",
   "metadata": {},
   "outputs": [
    {
     "data": {
      "text/plain": [
       "[1, 2, 3, 3.5, 5]"
      ]
     },
     "execution_count": 8,
     "metadata": {},
     "output_type": "execute_result"
    }
   ],
   "source": [
    "data2 = [1,2,3,3.5,5]\n",
    "data2"
   ]
  },
  {
   "cell_type": "code",
   "execution_count": 9,
   "id": "b512caa7",
   "metadata": {},
   "outputs": [
    {
     "data": {
      "text/plain": [
       "array([1, 2, 3])"
      ]
     },
     "execution_count": 9,
     "metadata": {},
     "output_type": "execute_result"
    }
   ],
   "source": [
    "# 리스트 객체를 이용하여 array 생성\n",
    "arr1 = np.array(data1)\n",
    "arr1"
   ]
  },
  {
   "cell_type": "markdown",
   "id": "dacbe499",
   "metadata": {},
   "source": [
    "## array 크기 확인 : shape\n",
    "## array 차원 확인 : ndim\n",
    "## array itemsize 확인 : itemsize\n",
    "## array 내 element 수 확인 : size"
   ]
  },
  {
   "cell_type": "code",
   "execution_count": 10,
   "id": "8930e86d",
   "metadata": {},
   "outputs": [
    {
     "data": {
      "text/plain": [
       "(3,)"
      ]
     },
     "execution_count": 10,
     "metadata": {},
     "output_type": "execute_result"
    }
   ],
   "source": [
    "# array 크기 확인\n",
    "arr1.shape"
   ]
  },
  {
   "cell_type": "code",
   "execution_count": 11,
   "id": "e21a7c83",
   "metadata": {},
   "outputs": [
    {
     "data": {
      "text/plain": [
       "array([1, 2, 3, 4, 5])"
      ]
     },
     "execution_count": 11,
     "metadata": {},
     "output_type": "execute_result"
    }
   ],
   "source": [
    "# 리스트를 직접 입력하여 array 생성\n",
    "arr2 = np.array([1,2,3,4,5])\n",
    "arr2"
   ]
  },
  {
   "cell_type": "code",
   "execution_count": 12,
   "id": "3157d280",
   "metadata": {},
   "outputs": [
    {
     "data": {
      "text/plain": [
       "(5,)"
      ]
     },
     "execution_count": 12,
     "metadata": {},
     "output_type": "execute_result"
    }
   ],
   "source": [
    "arr2.shape"
   ]
  },
  {
   "cell_type": "code",
   "execution_count": 17,
   "id": "2c1ea75c",
   "metadata": {},
   "outputs": [
    {
     "data": {
      "text/plain": [
       "1"
      ]
     },
     "execution_count": 17,
     "metadata": {},
     "output_type": "execute_result"
    }
   ],
   "source": [
    "arr2.ndim"
   ]
  },
  {
   "cell_type": "code",
   "execution_count": 23,
   "id": "fb1883a9",
   "metadata": {},
   "outputs": [
    {
     "data": {
      "text/plain": [
       "4"
      ]
     },
     "execution_count": 23,
     "metadata": {},
     "output_type": "execute_result"
    }
   ],
   "source": [
    "arr2.itemsize # 8bits가 4번 들어감"
   ]
  },
  {
   "cell_type": "code",
   "execution_count": 24,
   "id": "66b230bd",
   "metadata": {},
   "outputs": [
    {
     "data": {
      "text/plain": [
       "dtype('int32')"
      ]
     },
     "execution_count": 24,
     "metadata": {},
     "output_type": "execute_result"
    }
   ],
   "source": [
    "arr2.dtype"
   ]
  },
  {
   "cell_type": "code",
   "execution_count": 25,
   "id": "d45f1a67",
   "metadata": {},
   "outputs": [
    {
     "data": {
      "text/plain": [
       "5"
      ]
     },
     "execution_count": 25,
     "metadata": {},
     "output_type": "execute_result"
    }
   ],
   "source": [
    "arr2.size"
   ]
  },
  {
   "cell_type": "markdown",
   "id": "88e92e8d",
   "metadata": {},
   "source": [
    "## array 자료형 확인 : dtype"
   ]
  },
  {
   "cell_type": "code",
   "execution_count": 17,
   "id": "ef4f7b3e",
   "metadata": {},
   "outputs": [
    {
     "data": {
      "text/plain": [
       "dtype('int32')"
      ]
     },
     "execution_count": 17,
     "metadata": {},
     "output_type": "execute_result"
    }
   ],
   "source": [
    "# array의 자료형 확인\n",
    "arr2.dtype"
   ]
  },
  {
   "cell_type": "code",
   "execution_count": 21,
   "id": "d15488c2",
   "metadata": {},
   "outputs": [
    {
     "data": {
      "text/plain": [
       "array([1. , 2. , 3. , 3.5, 4. ])"
      ]
     },
     "execution_count": 21,
     "metadata": {},
     "output_type": "execute_result"
    }
   ],
   "source": [
    "arr3 = np.array([1,2,3,3.5,4])\n",
    "arr3"
   ]
  },
  {
   "cell_type": "code",
   "execution_count": 23,
   "id": "2fa46b96",
   "metadata": {},
   "outputs": [
    {
     "data": {
      "text/plain": [
       "dtype('float64')"
      ]
     },
     "execution_count": 23,
     "metadata": {},
     "output_type": "execute_result"
    }
   ],
   "source": [
    "arr3.dtype"
   ]
  },
  {
   "cell_type": "code",
   "execution_count": 25,
   "id": "b289d6c5",
   "metadata": {},
   "outputs": [
    {
     "data": {
      "text/plain": [
       "(5,)"
      ]
     },
     "execution_count": 25,
     "metadata": {},
     "output_type": "execute_result"
    }
   ],
   "source": [
    "arr3.shape"
   ]
  },
  {
   "cell_type": "code",
   "execution_count": 31,
   "id": "6035f91c",
   "metadata": {},
   "outputs": [
    {
     "data": {
      "text/plain": [
       "array([[ 1,  2,  3,  4],\n",
       "       [ 4,  5,  6,  7],\n",
       "       [ 7,  8,  9, 10]])"
      ]
     },
     "execution_count": 31,
     "metadata": {},
     "output_type": "execute_result"
    }
   ],
   "source": [
    "arr4 = np.array([[1,2,3,4] , [4,5,6,7] , [7,8,9,10]])\n",
    "arr4"
   ]
  },
  {
   "cell_type": "code",
   "execution_count": 33,
   "id": "5dfc6eca",
   "metadata": {},
   "outputs": [
    {
     "data": {
      "text/plain": [
       "(3, 4)"
      ]
     },
     "execution_count": 33,
     "metadata": {},
     "output_type": "execute_result"
    }
   ],
   "source": [
    "arr4.shape #큰 괄호가 3개 , 안에 숫자 4개 =>(3,4)"
   ]
  },
  {
   "cell_type": "code",
   "execution_count": 35,
   "id": "3a97b8fa",
   "metadata": {},
   "outputs": [
    {
     "data": {
      "text/plain": [
       "dtype('int32')"
      ]
     },
     "execution_count": 35,
     "metadata": {},
     "output_type": "execute_result"
    }
   ],
   "source": [
    "arr4.dtype"
   ]
  },
  {
   "cell_type": "markdown",
   "id": "26bf202c",
   "metadata": {},
   "source": [
    "# 범위를 지정해 배열 생성(1) : np.arange() 함수\n",
    "## 형식 : arr_obj = np.arange([start] , stop , step])\n",
    "arange 는 정수값 , linspace는 실수값"
   ]
  },
  {
   "cell_type": "code",
   "execution_count": 37,
   "id": "1bb8b10c",
   "metadata": {},
   "outputs": [
    {
     "data": {
      "text/plain": [
       "array([0, 1, 2, 3, 4, 5, 6, 7, 8, 9])"
      ]
     },
     "execution_count": 37,
     "metadata": {},
     "output_type": "execute_result"
    }
   ],
   "source": [
    "np.arange(10)"
   ]
  },
  {
   "cell_type": "code",
   "execution_count": 39,
   "id": "f133f4a4",
   "metadata": {},
   "outputs": [
    {
     "data": {
      "text/plain": [
       "array([1, 2, 3, 4])"
      ]
     },
     "execution_count": 39,
     "metadata": {},
     "output_type": "execute_result"
    }
   ],
   "source": [
    "np.arange(1,5)"
   ]
  },
  {
   "cell_type": "code",
   "execution_count": 41,
   "id": "03b0f067",
   "metadata": {},
   "outputs": [
    {
     "data": {
      "text/plain": [
       "array([1, 3, 5, 7, 9])"
      ]
     },
     "execution_count": 41,
     "metadata": {},
     "output_type": "execute_result"
    }
   ],
   "source": [
    "np.arange(1,10,2)"
   ]
  },
  {
   "cell_type": "code",
   "execution_count": 43,
   "id": "99b9a77c",
   "metadata": {},
   "outputs": [
    {
     "data": {
      "text/plain": [
       "array([[ 0,  1,  2,  3],\n",
       "       [ 4,  5,  6,  7],\n",
       "       [ 8,  9, 10, 11]])"
      ]
     },
     "execution_count": 43,
     "metadata": {},
     "output_type": "execute_result"
    }
   ],
   "source": [
    "np.arange(12).reshape(3,4)"
   ]
  },
  {
   "cell_type": "code",
   "execution_count": 45,
   "id": "7599c432",
   "metadata": {},
   "outputs": [
    {
     "data": {
      "text/plain": [
       "(3, 4)"
      ]
     },
     "execution_count": 45,
     "metadata": {},
     "output_type": "execute_result"
    }
   ],
   "source": [
    "b1 = np.arange(12).reshape(3,4)\n",
    "b1.shape"
   ]
  },
  {
   "cell_type": "code",
   "execution_count": 48,
   "id": "1f32a026",
   "metadata": {},
   "outputs": [
    {
     "data": {
      "text/plain": [
       "array([[ 0,  1,  2],\n",
       "       [ 3,  4,  5],\n",
       "       [ 6,  7,  8],\n",
       "       [ 9, 10, 11]])"
      ]
     },
     "execution_count": 48,
     "metadata": {},
     "output_type": "execute_result"
    }
   ],
   "source": [
    "b3 = b1.reshape(4,3)\n",
    "b3"
   ]
  },
  {
   "cell_type": "markdown",
   "id": "77d3fc89",
   "metadata": {},
   "source": [
    "## 범위를 지정해 배열 생성(2) : linspace() 함수\n",
    "### 형식 : arr.obj = np.linspace(start,stop[,num=50])"
   ]
  },
  {
   "cell_type": "code",
   "execution_count": 50,
   "id": "48cf4dd7",
   "metadata": {},
   "outputs": [
    {
     "data": {
      "text/plain": [
       "array([ 1.,  2.,  3.,  4.,  5.,  6.,  7.,  8.,  9., 10.])"
      ]
     },
     "execution_count": 50,
     "metadata": {},
     "output_type": "execute_result"
    }
   ],
   "source": [
    "np.linspace(1,10,10) #뒤에 10은 나눈값"
   ]
  },
  {
   "cell_type": "code",
   "execution_count": 53,
   "id": "390308bc",
   "metadata": {},
   "outputs": [
    {
     "data": {
      "text/plain": [
       "array([0.        , 0.16534698, 0.33069396, 0.49604095, 0.66138793,\n",
       "       0.82673491, 0.99208189, 1.15742887, 1.32277585, 1.48812284,\n",
       "       1.65346982, 1.8188168 , 1.98416378, 2.14951076, 2.31485774,\n",
       "       2.48020473, 2.64555171, 2.81089869, 2.97624567, 3.14159265])"
      ]
     },
     "execution_count": 53,
     "metadata": {},
     "output_type": "execute_result"
    }
   ],
   "source": [
    "np.linspace(0,np.pi,20)"
   ]
  },
  {
   "cell_type": "code",
   "execution_count": 58,
   "id": "09e9505e",
   "metadata": {},
   "outputs": [
    {
     "data": {
      "text/plain": [
       "(50,)"
      ]
     },
     "execution_count": 58,
     "metadata": {},
     "output_type": "execute_result"
    }
   ],
   "source": [
    "a = np.linspace(1,10)\n",
    "a\n",
    "a.shape\n",
    "# 갯수는 기본값이 50개"
   ]
  },
  {
   "cell_type": "markdown",
   "id": "cc0032db",
   "metadata": {},
   "source": [
    "## 특별한 형태의 배열 생성\n",
    "### np.zeros() , np.ones() , np.eye() 함수\n",
    "\n",
    "### 1) 모든 요소가 0인 배열 생성 : np.zeros(shape, dtype=float,...)\n",
    "float이 기본 default 값"
   ]
  },
  {
   "cell_type": "code",
   "execution_count": 61,
   "id": "fdfeacd9",
   "metadata": {},
   "outputs": [
    {
     "data": {
      "text/plain": [
       "array([0, 0, 0, 0, 0, 0, 0, 0, 0, 0])"
      ]
     },
     "execution_count": 61,
     "metadata": {},
     "output_type": "execute_result"
    }
   ],
   "source": [
    "np.zeros(10,dtype=int)"
   ]
  },
  {
   "cell_type": "code",
   "execution_count": 63,
   "id": "5d0216ce",
   "metadata": {},
   "outputs": [
    {
     "data": {
      "text/plain": [
       "array([[0., 0., 0., 0., 0.],\n",
       "       [0., 0., 0., 0., 0.],\n",
       "       [0., 0., 0., 0., 0.]])"
      ]
     },
     "execution_count": 63,
     "metadata": {},
     "output_type": "execute_result"
    }
   ],
   "source": [
    "np.zeros((3,5))"
   ]
  },
  {
   "cell_type": "code",
   "execution_count": 64,
   "id": "9a81071f",
   "metadata": {},
   "outputs": [
    {
     "data": {
      "text/plain": [
       "array([[0., 0., 0.],\n",
       "       [0., 0., 0.],\n",
       "       [0., 0., 0.],\n",
       "       [0., 0., 0.],\n",
       "       [0., 0., 0.]])"
      ]
     },
     "execution_count": 64,
     "metadata": {},
     "output_type": "execute_result"
    }
   ],
   "source": [
    "np.zeros((3,5)).reshape(5,3)"
   ]
  },
  {
   "cell_type": "markdown",
   "id": "bf1b4c61",
   "metadata": {},
   "source": [
    "### 모든 요소가 1인 배열 생성 : np.ones(shape, dtype=None)"
   ]
  },
  {
   "cell_type": "code",
   "execution_count": 65,
   "id": "561ded9e",
   "metadata": {},
   "outputs": [
    {
     "data": {
      "text/plain": [
       "array([1., 1., 1., 1., 1., 1., 1., 1., 1., 1.])"
      ]
     },
     "execution_count": 65,
     "metadata": {},
     "output_type": "execute_result"
    }
   ],
   "source": [
    "np.ones(10)"
   ]
  },
  {
   "cell_type": "code",
   "execution_count": 67,
   "id": "0d2d39fd",
   "metadata": {},
   "outputs": [
    {
     "data": {
      "text/plain": [
       "array([[1, 1, 1, 1, 1],\n",
       "       [1, 1, 1, 1, 1],\n",
       "       [1, 1, 1, 1, 1]])"
      ]
     },
     "execution_count": 67,
     "metadata": {},
     "output_type": "execute_result"
    }
   ],
   "source": [
    "np.ones((3,5) , dtype=int)  # 위의 값은 실수형으로 출력"
   ]
  },
  {
   "cell_type": "markdown",
   "id": "5a6fb9e5",
   "metadata": {},
   "source": [
    "### 대각 요소가 1인 배열 생성1 : np.eye(n,m, k=K , dtype=float)"
   ]
  },
  {
   "cell_type": "code",
   "execution_count": 68,
   "id": "1c79fbbd",
   "metadata": {},
   "outputs": [
    {
     "data": {
      "text/plain": [
       "array([[1., 0., 0.],\n",
       "       [0., 1., 0.],\n",
       "       [0., 0., 1.]])"
      ]
     },
     "execution_count": 68,
     "metadata": {},
     "output_type": "execute_result"
    }
   ],
   "source": [
    "# 3행 3열의 대각요소만 1인 행렬 생성\n",
    "np.eye(3)"
   ]
  },
  {
   "cell_type": "code",
   "execution_count": 70,
   "id": "cdf5a7ee",
   "metadata": {},
   "outputs": [
    {
     "data": {
      "text/plain": [
       "array([[1., 0., 0., 0.],\n",
       "       [0., 1., 0., 0.],\n",
       "       [0., 0., 1., 0.]])"
      ]
     },
     "execution_count": 70,
     "metadata": {},
     "output_type": "execute_result"
    }
   ],
   "source": [
    "np.eye(3,4) # 완전 대각은 없기 때문에 만나는 요소의 대각 부분에 생성"
   ]
  },
  {
   "cell_type": "code",
   "execution_count": 74,
   "id": "aee6f47e",
   "metadata": {},
   "outputs": [
    {
     "data": {
      "text/plain": [
       "array([[0, 1, 0, 0],\n",
       "       [0, 0, 1, 0],\n",
       "       [0, 0, 0, 1]])"
      ]
     },
     "execution_count": 74,
     "metadata": {},
     "output_type": "execute_result"
    }
   ],
   "source": [
    "np.eye(3,4, k=1 , dtype=int) # k는 오프셋 값이다. 1을 줘서 1칸 옆으로 이동함"
   ]
  },
  {
   "cell_type": "code",
   "execution_count": 75,
   "id": "55d14109",
   "metadata": {},
   "outputs": [
    {
     "data": {
      "text/plain": [
       "array([[0, 0, 1, 0],\n",
       "       [0, 0, 0, 1],\n",
       "       [0, 0, 0, 0]])"
      ]
     },
     "execution_count": 75,
     "metadata": {},
     "output_type": "execute_result"
    }
   ],
   "source": [
    "np.eye(3,4 , k=2 , dtype = int)"
   ]
  },
  {
   "cell_type": "code",
   "execution_count": 77,
   "id": "aeecc86a",
   "metadata": {},
   "outputs": [
    {
     "data": {
      "text/plain": [
       "array([[0., 0., 0., 0.],\n",
       "       [1., 0., 0., 0.],\n",
       "       [0., 1., 0., 0.]])"
      ]
     },
     "execution_count": 77,
     "metadata": {},
     "output_type": "execute_result"
    }
   ],
   "source": [
    "np.eye(3,4, k= -1 ) # k=-1 : 왼쪽으로 한칸"
   ]
  },
  {
   "cell_type": "markdown",
   "id": "42d5d0bb",
   "metadata": {},
   "source": [
    "### 4) 대각요소가 1인 배열 생성2 : np.identity(n, dtype=자료형)"
   ]
  },
  {
   "cell_type": "code",
   "execution_count": 153,
   "id": "5d36ff46",
   "metadata": {},
   "outputs": [
    {
     "data": {
      "text/plain": [
       "array([[1, 0, 0, 0, 0],\n",
       "       [0, 1, 0, 0, 0],\n",
       "       [0, 0, 1, 0, 0],\n",
       "       [0, 0, 0, 1, 0],\n",
       "       [0, 0, 0, 0, 1]])"
      ]
     },
     "execution_count": 153,
     "metadata": {},
     "output_type": "execute_result"
    }
   ],
   "source": [
    "# n*n 크기의 단위 행렬 생성\n",
    "np.identity(5 , dtype = int) # 5행 5열"
   ]
  },
  {
   "cell_type": "markdown",
   "id": "5dc7a505",
   "metadata": {},
   "source": [
    "### 5) 초기화되지 않은 배열 생성 : np.empty(shape, dtype =float)"
   ]
  },
  {
   "cell_type": "code",
   "execution_count": 159,
   "id": "69a729c3",
   "metadata": {},
   "outputs": [
    {
     "data": {
      "text/plain": [
       "array([0., 0., 0., 0.])"
      ]
     },
     "execution_count": 159,
     "metadata": {},
     "output_type": "execute_result"
    }
   ],
   "source": [
    "# 초기화되지 않은 배열 생성 -> 그냥 1차원 생성\n",
    "np.empty(4)"
   ]
  },
  {
   "cell_type": "markdown",
   "id": "41136de9",
   "metadata": {},
   "source": [
    "## 배열의 데이터 타입 변환 : astype() 함수"
   ]
  },
  {
   "cell_type": "markdown",
   "id": "0def630b",
   "metadata": {},
   "source": [
    "형식\n",
    "num_arr = str_arr.astype(dtype)\n",
    "dtype = int, float , str"
   ]
  },
  {
   "cell_type": "code",
   "execution_count": 85,
   "id": "5f3a7ed9",
   "metadata": {},
   "outputs": [
    {
     "data": {
      "text/plain": [
       "array(['1.5', '0.62', '2', '3.14', '3.141592'], dtype='<U8')"
      ]
     },
     "execution_count": 85,
     "metadata": {},
     "output_type": "execute_result"
    }
   ],
   "source": [
    "np.array(['1.5' , '0.62' , '2' , '3.14' , '3.141592']) #unicode 형태로 출력됨"
   ]
  },
  {
   "cell_type": "code",
   "execution_count": 95,
   "id": "a426cb2d",
   "metadata": {},
   "outputs": [
    {
     "data": {
      "text/plain": [
       "array([1.5     , 0.62    , 2.      , 3.14    , 3.141592])"
      ]
     },
     "execution_count": 95,
     "metadata": {},
     "output_type": "execute_result"
    }
   ],
   "source": [
    "str_a1 = np.array(['1.5' , '0.62' , '2' , '3.14' , '3.141592'])\n",
    "# num_a1 = str_a1.astype(float) 으로도 가능\n",
    "\n",
    "num_a1 = str_a1.astype('float64') \n",
    "num_a1"
   ]
  },
  {
   "cell_type": "code",
   "execution_count": 96,
   "id": "2a7b5c3b",
   "metadata": {},
   "outputs": [
    {
     "data": {
      "text/plain": [
       "dtype('<U8')"
      ]
     },
     "execution_count": 96,
     "metadata": {},
     "output_type": "execute_result"
    }
   ],
   "source": [
    "str_a1.dtype"
   ]
  },
  {
   "cell_type": "code",
   "execution_count": 94,
   "id": "b8bbb503",
   "metadata": {},
   "outputs": [
    {
     "data": {
      "text/plain": [
       "dtype('float64')"
      ]
     },
     "execution_count": 94,
     "metadata": {},
     "output_type": "execute_result"
    }
   ],
   "source": [
    "num_a1.dtype"
   ]
  },
  {
   "cell_type": "code",
   "execution_count": 100,
   "id": "1bce52c4",
   "metadata": {},
   "outputs": [
    {
     "data": {
      "text/plain": [
       "array([1, 3, 5, 7, 9])"
      ]
     },
     "execution_count": 100,
     "metadata": {},
     "output_type": "execute_result"
    }
   ],
   "source": [
    "str_a2 = np.array(['1','3','5','7','9'])\n",
    "num_a2 = str_a2.astype(int)\n",
    "num_a2"
   ]
  },
  {
   "cell_type": "code",
   "execution_count": 164,
   "id": "9ed2147b",
   "metadata": {},
   "outputs": [
    {
     "data": {
      "text/plain": [
       "array([1., 3., 5., 7., 9.])"
      ]
     },
     "execution_count": 164,
     "metadata": {},
     "output_type": "execute_result"
    }
   ],
   "source": [
    "num_a3 = str_a2.astype(float)\n",
    "num_a3"
   ]
  },
  {
   "cell_type": "code",
   "execution_count": 167,
   "id": "52b8c983",
   "metadata": {},
   "outputs": [
    {
     "ename": "ValueError",
     "evalue": "invalid literal for int() with base 10: '1.5'",
     "output_type": "error",
     "traceback": [
      "\u001b[1;31m---------------------------------------------------------------------------\u001b[0m",
      "\u001b[1;31mValueError\u001b[0m                                Traceback (most recent call last)",
      "\u001b[1;32m<ipython-input-167-46f1492d27b2>\u001b[0m in \u001b[0;36m<module>\u001b[1;34m\u001b[0m\n\u001b[1;32m----> 1\u001b[1;33m \u001b[0mnum_a4\u001b[0m \u001b[1;33m=\u001b[0m \u001b[0mstr_a1\u001b[0m\u001b[1;33m.\u001b[0m\u001b[0mastype\u001b[0m\u001b[1;33m(\u001b[0m\u001b[0mint\u001b[0m\u001b[1;33m)\u001b[0m\u001b[1;33m\u001b[0m\u001b[1;33m\u001b[0m\u001b[0m\n\u001b[0m\u001b[0;32m      2\u001b[0m \u001b[0mnum_a4\u001b[0m\u001b[1;33m\u001b[0m\u001b[1;33m\u001b[0m\u001b[0m\n\u001b[0;32m      3\u001b[0m \u001b[1;31m# 문자 형태를 int 형태로 바꿀수없다\u001b[0m\u001b[1;33m\u001b[0m\u001b[1;33m\u001b[0m\u001b[1;33m\u001b[0m\u001b[0m\n",
      "\u001b[1;31mValueError\u001b[0m: invalid literal for int() with base 10: '1.5'"
     ]
    }
   ],
   "source": [
    "num_a4 = str_a1.astype(int)\n",
    "num_a4\n",
    "# 문자 형태를 int 형태로 바꿀수없다"
   ]
  },
  {
   "cell_type": "markdown",
   "id": "e464ed18",
   "metadata": {},
   "source": [
    "## 실수형 배열을 정수형 배열로 변환"
   ]
  },
  {
   "cell_type": "code",
   "execution_count": 106,
   "id": "8b47c59e",
   "metadata": {},
   "outputs": [
    {
     "data": {
      "text/plain": [
       "array([ 10.  ,  21.  ,   0.  , 549.  ,   4.75,   5.98])"
      ]
     },
     "execution_count": 106,
     "metadata": {},
     "output_type": "execute_result"
    }
   ],
   "source": [
    "num_f1 = np.array([10,21,0,549,4.75,5.98])\n",
    "num_f1"
   ]
  },
  {
   "cell_type": "code",
   "execution_count": 109,
   "id": "f238187a",
   "metadata": {},
   "outputs": [
    {
     "data": {
      "text/plain": [
       "array([ 10,  21,   0, 549,   4,   5])"
      ]
     },
     "execution_count": 109,
     "metadata": {},
     "output_type": "execute_result"
    }
   ],
   "source": [
    "num_i1 = num_f1.astype(int)\n",
    "num_i1 # 정수형으로 바꿈 "
   ]
  },
  {
   "cell_type": "code",
   "execution_count": 110,
   "id": "0b2b61bb",
   "metadata": {},
   "outputs": [
    {
     "data": {
      "text/plain": [
       "dtype('float64')"
      ]
     },
     "execution_count": 110,
     "metadata": {},
     "output_type": "execute_result"
    }
   ],
   "source": [
    "num_f1.dtype"
   ]
  },
  {
   "cell_type": "code",
   "execution_count": 111,
   "id": "ca236852",
   "metadata": {},
   "outputs": [
    {
     "data": {
      "text/plain": [
       "dtype('int32')"
      ]
     },
     "execution_count": 111,
     "metadata": {},
     "output_type": "execute_result"
    }
   ],
   "source": [
    "num_i1.dtype"
   ]
  },
  {
   "cell_type": "markdown",
   "id": "a7d677b1",
   "metadata": {},
   "source": [
    "## 숫자형 배열을 문자열 배열로 변환  "
   ]
  },
  {
   "cell_type": "code",
   "execution_count": 112,
   "id": "def87d48",
   "metadata": {},
   "outputs": [
    {
     "data": {
      "text/plain": [
       "array(['10.0', '21.0', '0.0', '549.0', '4.75', '5.98'], dtype='<U32')"
      ]
     },
     "execution_count": 112,
     "metadata": {},
     "output_type": "execute_result"
    }
   ],
   "source": [
    "num_f1.astype(str)"
   ]
  },
  {
   "cell_type": "code",
   "execution_count": 113,
   "id": "421f0f65",
   "metadata": {},
   "outputs": [
    {
     "data": {
      "text/plain": [
       "array(['10.0', '21.0', '0.0', '549.0', '4.75', '5.98'], dtype='<U32')"
      ]
     },
     "execution_count": 113,
     "metadata": {},
     "output_type": "execute_result"
    }
   ],
   "source": [
    "num_f1.astype('U') # 문자형"
   ]
  },
  {
   "cell_type": "code",
   "execution_count": 114,
   "id": "1cdc5c02",
   "metadata": {},
   "outputs": [
    {
     "data": {
      "text/plain": [
       "array([b'10.0', b'21.0', b'0.0', b'549.0', b'4.75', b'5.98'], dtype='|S32')"
      ]
     },
     "execution_count": 114,
     "metadata": {},
     "output_type": "execute_result"
    }
   ],
   "source": [
    "num_f1.astype('S') # 바이트 문자열"
   ]
  },
  {
   "cell_type": "markdown",
   "id": "0be71f23",
   "metadata": {},
   "source": [
    "## 난수 배열 생성\n",
    "### random.rand() , random.randint() 함수\n",
    "\n",
    "#### random.rand([d0,d1,...dn])\n",
    "- [0과 1) 사이의 실수 난수를 갖는 Numpy 배열을 생성 (0이상 1미만)\n",
    "- rand(d0, d1 , ...dn)을 실행하면 (d0,d1,....dn)의 형태를 보이는 실수 난수 배열 생성"
   ]
  },
  {
   "cell_type": "code",
   "execution_count": 115,
   "id": "d0f734eb",
   "metadata": {},
   "outputs": [
    {
     "data": {
      "text/plain": [
       "array([0.39154575, 0.62794181, 0.26223198, 0.71080874, 0.31405352,\n",
       "       0.81977727, 0.13258176, 0.53091646, 0.8359852 , 0.42743904])"
      ]
     },
     "execution_count": 115,
     "metadata": {},
     "output_type": "execute_result"
    }
   ],
   "source": [
    "np.random.rand(10)"
   ]
  },
  {
   "cell_type": "code",
   "execution_count": 116,
   "id": "5ec8ec31",
   "metadata": {},
   "outputs": [
    {
     "data": {
      "text/plain": [
       "array([[0.08912011, 0.7532605 , 0.21900251, 0.67275986, 0.25147823],\n",
       "       [0.76336175, 0.16405505, 0.33936419, 0.01114812, 0.31523143]])"
      ]
     },
     "execution_count": 116,
     "metadata": {},
     "output_type": "execute_result"
    }
   ],
   "source": [
    "np.random.rand(2,5)"
   ]
  },
  {
   "cell_type": "code",
   "execution_count": 117,
   "id": "1e0660bd",
   "metadata": {},
   "outputs": [
    {
     "data": {
      "text/plain": [
       "0.010843420893074551"
      ]
     },
     "execution_count": 117,
     "metadata": {},
     "output_type": "execute_result"
    }
   ],
   "source": [
    "np.random.rand()"
   ]
  },
  {
   "cell_type": "code",
   "execution_count": 118,
   "id": "c84e3409",
   "metadata": {},
   "outputs": [
    {
     "data": {
      "text/plain": [
       "array([[[0.87661979, 0.15765556, 0.19656916, 0.35328527],\n",
       "        [0.95959159, 0.01694753, 0.08363133, 0.61699452],\n",
       "        [0.85018976, 0.16859495, 0.49255428, 0.49381173]],\n",
       "\n",
       "       [[0.39992064, 0.037971  , 0.1711319 , 0.38797094],\n",
       "        [0.07182216, 0.64526062, 0.00395433, 0.09848924],\n",
       "        [0.42322694, 0.23230249, 0.53174579, 0.84005685]]])"
      ]
     },
     "execution_count": 118,
     "metadata": {},
     "output_type": "execute_result"
    }
   ],
   "source": [
    "np.random.rand(2,3,4)"
   ]
  },
  {
   "cell_type": "markdown",
   "id": "0ef2753e",
   "metadata": {},
   "source": [
    "## random.randint([low] , high , [,size])\n",
    "- low, high 사이의 정수 난수를 갖는 Numpy 배열을 생성\n",
    "- size : (d0,d1,...dn) 형식으로 입력"
   ]
  },
  {
   "cell_type": "code",
   "execution_count": 119,
   "id": "08967f52",
   "metadata": {},
   "outputs": [
    {
     "data": {
      "text/plain": [
       "8"
      ]
     },
     "execution_count": 119,
     "metadata": {},
     "output_type": "execute_result"
    }
   ],
   "source": [
    "np.random.randint(10)"
   ]
  },
  {
   "cell_type": "code",
   "execution_count": 121,
   "id": "ff9c04e0",
   "metadata": {},
   "outputs": [
    {
     "data": {
      "text/plain": [
       "15"
      ]
     },
     "execution_count": 121,
     "metadata": {},
     "output_type": "execute_result"
    }
   ],
   "source": [
    "np.random.randint(10, 20)"
   ]
  },
  {
   "cell_type": "code",
   "execution_count": 122,
   "id": "bc429f37",
   "metadata": {},
   "outputs": [
    {
     "data": {
      "text/plain": [
       "array([[18, 13, 19, 17],\n",
       "       [18, 18, 19, 18],\n",
       "       [13, 17, 11, 16]])"
      ]
     },
     "execution_count": 122,
     "metadata": {},
     "output_type": "execute_result"
    }
   ],
   "source": [
    "np.random.randint(10,20, size=(3,4))"
   ]
  },
  {
   "cell_type": "markdown",
   "id": "e76312ca",
   "metadata": {},
   "source": [
    "## Array 연산\n",
    "\n",
    "### 기본 연산(합, 차 ,곱 , 나눗셈 등)\n",
    ": 기본적으로 동일한 크기의 array 간 연산 수행"
   ]
  },
  {
   "cell_type": "code",
   "execution_count": 126,
   "id": "9971c9ba",
   "metadata": {},
   "outputs": [
    {
     "data": {
      "text/plain": [
       "array([[1, 2, 3],\n",
       "       [4, 5, 6]])"
      ]
     },
     "execution_count": 126,
     "metadata": {},
     "output_type": "execute_result"
    }
   ],
   "source": [
    "arr1 = np.arange(1,7).reshape(2,3)\n",
    "arr1"
   ]
  },
  {
   "cell_type": "code",
   "execution_count": 128,
   "id": "0a83db90",
   "metadata": {},
   "outputs": [
    {
     "data": {
      "text/plain": [
       "array([[10, 11, 12],\n",
       "       [13, 14, 15]])"
      ]
     },
     "execution_count": 128,
     "metadata": {},
     "output_type": "execute_result"
    }
   ],
   "source": [
    "arr2 = np.arange(10,16).reshape(2,3)\n",
    "arr2"
   ]
  },
  {
   "cell_type": "code",
   "execution_count": 134,
   "id": "6e27fd10",
   "metadata": {},
   "outputs": [
    {
     "name": "stdout",
     "output_type": "stream",
     "text": [
      "(2, 3)\n",
      "(2, 3)\n"
     ]
    }
   ],
   "source": [
    "print(arr1.shape)\n",
    "print(arr2.shape)"
   ]
  },
  {
   "cell_type": "markdown",
   "id": "4cb153af",
   "metadata": {},
   "source": [
    "## 배열의 합"
   ]
  },
  {
   "cell_type": "code",
   "execution_count": 135,
   "id": "35f61677",
   "metadata": {},
   "outputs": [
    {
     "data": {
      "text/plain": [
       "array([[11, 13, 15],\n",
       "       [17, 19, 21]])"
      ]
     },
     "execution_count": 135,
     "metadata": {},
     "output_type": "execute_result"
    }
   ],
   "source": [
    "arr1 + arr2"
   ]
  },
  {
   "cell_type": "markdown",
   "id": "43fb27e2",
   "metadata": {},
   "source": [
    "## 배열의 차"
   ]
  },
  {
   "cell_type": "code",
   "execution_count": 136,
   "id": "caa533fe",
   "metadata": {},
   "outputs": [
    {
     "data": {
      "text/plain": [
       "array([[-9, -9, -9],\n",
       "       [-9, -9, -9]])"
      ]
     },
     "execution_count": 136,
     "metadata": {},
     "output_type": "execute_result"
    }
   ],
   "source": [
    "arr1 - arr2"
   ]
  },
  {
   "cell_type": "markdown",
   "id": "c47632ca",
   "metadata": {},
   "source": [
    "## 배열의 곱"
   ]
  },
  {
   "cell_type": "code",
   "execution_count": 137,
   "id": "c76650bb",
   "metadata": {},
   "outputs": [
    {
     "data": {
      "text/plain": [
       "array([[10, 22, 36],\n",
       "       [52, 70, 90]])"
      ]
     },
     "execution_count": 137,
     "metadata": {},
     "output_type": "execute_result"
    }
   ],
   "source": [
    "arr1 * arr2"
   ]
  },
  {
   "cell_type": "markdown",
   "id": "c855b763",
   "metadata": {},
   "source": [
    "## 배열의 나눗셈"
   ]
  },
  {
   "cell_type": "code",
   "execution_count": 138,
   "id": "c29e76ca",
   "metadata": {},
   "outputs": [
    {
     "data": {
      "text/plain": [
       "array([[0.1       , 0.18181818, 0.25      ],\n",
       "       [0.30769231, 0.35714286, 0.4       ]])"
      ]
     },
     "execution_count": 138,
     "metadata": {},
     "output_type": "execute_result"
    }
   ],
   "source": [
    "arr1 / arr2"
   ]
  },
  {
   "cell_type": "markdown",
   "id": "cc70cb1f",
   "metadata": {},
   "source": [
    "## 배열의 스칼라 곱"
   ]
  },
  {
   "cell_type": "code",
   "execution_count": 139,
   "id": "3a6575cb",
   "metadata": {},
   "outputs": [
    {
     "data": {
      "text/plain": [
       "array([[20, 22, 24],\n",
       "       [26, 28, 30]])"
      ]
     },
     "execution_count": 139,
     "metadata": {},
     "output_type": "execute_result"
    }
   ],
   "source": [
    "arr2*2"
   ]
  },
  {
   "cell_type": "markdown",
   "id": "4a399227",
   "metadata": {},
   "source": [
    "## 배열의 비교 연산"
   ]
  },
  {
   "cell_type": "code",
   "execution_count": 144,
   "id": "4517eec5",
   "metadata": {},
   "outputs": [
    {
     "data": {
      "text/plain": [
       "array([[False, False, False],\n",
       "       [ True,  True,  True]])"
      ]
     },
     "execution_count": 144,
     "metadata": {},
     "output_type": "execute_result"
    }
   ],
   "source": [
    "arr2>12"
   ]
  },
  {
   "cell_type": "markdown",
   "id": "b966d260",
   "metadata": {},
   "source": [
    "## 배열의 Broadcasting\n",
    "- 서로 크기가 다른 array들의 연산이 가능하도록 배열을 자동적으로 변환하여 연산 수행"
   ]
  },
  {
   "cell_type": "code",
   "execution_count": 146,
   "id": "d44a82b1",
   "metadata": {},
   "outputs": [
    {
     "data": {
      "text/plain": [
       "array([[1, 2, 3],\n",
       "       [4, 5, 6]])"
      ]
     },
     "execution_count": 146,
     "metadata": {},
     "output_type": "execute_result"
    }
   ],
   "source": [
    "arr1 = np.arange(1,7).reshape(2,3)\n",
    "arr1"
   ]
  },
  {
   "cell_type": "code",
   "execution_count": 147,
   "id": "70724325",
   "metadata": {},
   "outputs": [
    {
     "data": {
      "text/plain": [
       "array([10, 11, 12])"
      ]
     },
     "execution_count": 147,
     "metadata": {},
     "output_type": "execute_result"
    }
   ],
   "source": [
    "arr3 = np.array([10,11,12])\n",
    "arr3"
   ]
  },
  {
   "cell_type": "code",
   "execution_count": 148,
   "id": "c4b290ce",
   "metadata": {},
   "outputs": [
    {
     "data": {
      "text/plain": [
       "((2, 3), (3,))"
      ]
     },
     "execution_count": 148,
     "metadata": {},
     "output_type": "execute_result"
    }
   ],
   "source": [
    "(arr1.shape , arr3.shape)"
   ]
  },
  {
   "cell_type": "code",
   "execution_count": 150,
   "id": "6d37518e",
   "metadata": {},
   "outputs": [
    {
     "data": {
      "text/plain": [
       "array([[11, 13, 15],\n",
       "       [14, 16, 18]])"
      ]
     },
     "execution_count": 150,
     "metadata": {},
     "output_type": "execute_result"
    }
   ],
   "source": [
    "arr1 + arr3 # 서로 크기가 달라도 연산이 가능하다"
   ]
  },
  {
   "cell_type": "code",
   "execution_count": 151,
   "id": "d294b027",
   "metadata": {},
   "outputs": [
    {
     "data": {
      "text/plain": [
       "array([[ 1,  4,  9],\n",
       "       [16, 25, 36]], dtype=int32)"
      ]
     },
     "execution_count": 151,
     "metadata": {},
     "output_type": "execute_result"
    }
   ],
   "source": [
    "arr1 **2"
   ]
  },
  {
   "cell_type": "markdown",
   "id": "e7721328",
   "metadata": {},
   "source": [
    "## 브로드캐스팅이 일어날 수 있는 조건\n",
    "- 두 배열 간의 연산에서 최소한 하나의 배열이 차원이 1인 경우\n",
    "- 차원의 짝이 맞을 때"
   ]
  },
  {
   "cell_type": "markdown",
   "id": "786355e3",
   "metadata": {},
   "source": [
    "## 3차원 행렬 만들기"
   ]
  },
  {
   "cell_type": "code",
   "execution_count": 31,
   "id": "629f2e87",
   "metadata": {},
   "outputs": [
    {
     "name": "stdout",
     "output_type": "stream",
     "text": [
      "[[[10]\n",
      "  [20]]\n",
      "\n",
      " [[30]\n",
      "  [40]]]\n",
      "3\n",
      "4\n",
      "(2, 2, 1)\n"
     ]
    }
   ],
   "source": [
    "a = np.array([\n",
    "    [[10],[20]],\n",
    "    [[30],[40]]])\n",
    "print(a)\n",
    "print(a.ndim)\n",
    "print(a.size)\n",
    "print(a.shape)"
   ]
  },
  {
   "cell_type": "code",
   "execution_count": 34,
   "id": "e8ce000c",
   "metadata": {},
   "outputs": [
    {
     "name": "stdout",
     "output_type": "stream",
     "text": [
      "[[[10 50]\n",
      "  [20 60]]\n",
      "\n",
      " [[30 70]\n",
      "  [40 80]]]\n",
      "3\n",
      "8\n",
      "(2, 2, 2)\n"
     ]
    }
   ],
   "source": [
    "b = np.array([\n",
    "    [[10,50] , [20,60]],\n",
    "    [[30,70] , [40,80]]\n",
    "])\n",
    "print(b)\n",
    "print(b.ndim)\n",
    "print(b.size)\n",
    "print(b.shape)"
   ]
  },
  {
   "cell_type": "markdown",
   "id": "4c86123f",
   "metadata": {},
   "source": [
    "## insert / delete"
   ]
  },
  {
   "cell_type": "code",
   "execution_count": 40,
   "id": "abd6264c",
   "metadata": {},
   "outputs": [
    {
     "data": {
      "text/plain": [
       "array([ 5, 10, 20, 30])"
      ]
     },
     "execution_count": 40,
     "metadata": {},
     "output_type": "execute_result"
    }
   ],
   "source": [
    "a = np.array([10,20,30])\n",
    "a = np.insert(a,0,5) #(array , index위치 , 값)\n",
    "a"
   ]
  },
  {
   "cell_type": "code",
   "execution_count": 44,
   "id": "cf0ca0a3",
   "metadata": {},
   "outputs": [
    {
     "data": {
      "text/plain": [
       "array([10, 20, 30])"
      ]
     },
     "execution_count": 44,
     "metadata": {},
     "output_type": "execute_result"
    }
   ],
   "source": [
    "np.delete(a,0) # delete(array , index위치)"
   ]
  },
  {
   "cell_type": "markdown",
   "id": "230350f5",
   "metadata": {},
   "source": [
    "## Numpy - Math and Logical Operations"
   ]
  },
  {
   "cell_type": "code",
   "execution_count": 45,
   "id": "046633b4",
   "metadata": {},
   "outputs": [],
   "source": [
    "a = np.array([10,20,30])\n",
    "b = np.array([1,2,3])"
   ]
  },
  {
   "cell_type": "code",
   "execution_count": 47,
   "id": "a3bd5bfe",
   "metadata": {},
   "outputs": [
    {
     "data": {
      "text/plain": [
       "array([11, 22, 33])"
      ]
     },
     "execution_count": 47,
     "metadata": {},
     "output_type": "execute_result"
    }
   ],
   "source": [
    "c=a+b\n",
    "c"
   ]
  },
  {
   "cell_type": "code",
   "execution_count": 48,
   "id": "6384870c",
   "metadata": {},
   "outputs": [
    {
     "data": {
      "text/plain": [
       "array([ 9, 18, 27])"
      ]
     },
     "execution_count": 48,
     "metadata": {},
     "output_type": "execute_result"
    }
   ],
   "source": [
    "c = a-b\n",
    "c"
   ]
  },
  {
   "cell_type": "code",
   "execution_count": 49,
   "id": "6c117d73",
   "metadata": {},
   "outputs": [
    {
     "data": {
      "text/plain": [
       "array([1, 4, 9], dtype=int32)"
      ]
     },
     "execution_count": 49,
     "metadata": {},
     "output_type": "execute_result"
    }
   ],
   "source": [
    "c = b**2\n",
    "c"
   ]
  },
  {
   "cell_type": "code",
   "execution_count": 50,
   "id": "6bb6eced",
   "metadata": {},
   "outputs": [
    {
     "data": {
      "text/plain": [
       "array([ True,  True,  True])"
      ]
     },
     "execution_count": 50,
     "metadata": {},
     "output_type": "execute_result"
    }
   ],
   "source": [
    "idx = b<20\n",
    "idx"
   ]
  },
  {
   "cell_type": "markdown",
   "id": "42e5dad4",
   "metadata": {},
   "source": [
    "## Numpy 함수 이용\n",
    "\n",
    "### np.add(a,b)\n",
    "### np.subtract(a,b)\n",
    "### np.multiply(a,b)\n",
    "### np.divide(a,b)\n",
    "### np.divmod(a,b)\n",
    "### np.exp(b) => e의 b승\n",
    "### np.sqrt(b) => 제곱근\n",
    "### np.mean(a) = a.mean() 같은 기능"
   ]
  },
  {
   "cell_type": "markdown",
   "id": "24179cfd",
   "metadata": {},
   "source": [
    "### np.average(a) => average는 가중치를 줄 수 있다.\n",
    "### np.average(a,weights = [1,1,1])"
   ]
  },
  {
   "cell_type": "code",
   "execution_count": 51,
   "id": "95d56d57",
   "metadata": {},
   "outputs": [
    {
     "data": {
      "text/plain": [
       "20.0"
      ]
     },
     "execution_count": 51,
     "metadata": {},
     "output_type": "execute_result"
    }
   ],
   "source": [
    "a = np.array([10,20,30])\n",
    "np.average(a)"
   ]
  },
  {
   "cell_type": "code",
   "execution_count": 54,
   "id": "b6f4b3c0",
   "metadata": {},
   "outputs": [
    {
     "data": {
      "text/plain": [
       "20.0"
      ]
     },
     "execution_count": 54,
     "metadata": {},
     "output_type": "execute_result"
    }
   ],
   "source": [
    "np.average(a , weights = [1,1,1])"
   ]
  },
  {
   "cell_type": "code",
   "execution_count": 55,
   "id": "2ce07075",
   "metadata": {},
   "outputs": [
    {
     "data": {
      "text/plain": [
       "15.0"
      ]
     },
     "execution_count": 55,
     "metadata": {},
     "output_type": "execute_result"
    }
   ],
   "source": [
    "np.average(a , weights = [1,1,0])"
   ]
  },
  {
   "cell_type": "code",
   "execution_count": 56,
   "id": "26138766",
   "metadata": {},
   "outputs": [
    {
     "data": {
      "text/plain": [
       "20.0"
      ]
     },
     "execution_count": 56,
     "metadata": {},
     "output_type": "execute_result"
    }
   ],
   "source": [
    "np.average(a , weights = [1,0,1])"
   ]
  },
  {
   "cell_type": "markdown",
   "id": "d78d1965",
   "metadata": {},
   "source": [
    "## np.median(a) : 중앙값\n",
    "## np.cumsum(a) : 숫자들의 더해진 값 => array\n",
    "## np.cov(a) : 공분산 구하기\n",
    "## np.std(a) : 표준편차 구하기\n",
    "## np.var(a) : 분산 구하기"
   ]
  },
  {
   "cell_type": "markdown",
   "id": "eb5a7a35",
   "metadata": {},
   "source": [
    "# Day2"
   ]
  },
  {
   "cell_type": "markdown",
   "id": "553aed69",
   "metadata": {},
   "source": [
    "## 통계를 위한 연산\n",
    "- 배열의 합, 평균, 표준편차 , 분산 , 최소값 , 최대값 , 누적합 , 누적곱 등"
   ]
  },
  {
   "cell_type": "code",
   "execution_count": 8,
   "id": "ea78877f",
   "metadata": {},
   "outputs": [
    {
     "data": {
      "text/plain": [
       "array([0, 1, 2, 3, 4])"
      ]
     },
     "execution_count": 8,
     "metadata": {},
     "output_type": "execute_result"
    }
   ],
   "source": [
    "arr1 = np.arange(0,5)\n",
    "arr1"
   ]
  },
  {
   "cell_type": "code",
   "execution_count": 10,
   "id": "177750f3",
   "metadata": {},
   "outputs": [
    {
     "data": {
      "text/plain": [
       "[10, 2.0]"
      ]
     },
     "execution_count": 10,
     "metadata": {},
     "output_type": "execute_result"
    }
   ],
   "source": [
    "# 합과 (산술)평균 : sum()  /  mean()\n",
    "[arr1.sum() , arr1.mean()]"
   ]
  },
  {
   "cell_type": "code",
   "execution_count": 11,
   "id": "ffacf3f5",
   "metadata": {},
   "outputs": [
    {
     "data": {
      "text/plain": [
       "[1.4142135623730951, 2.0]"
      ]
     },
     "execution_count": 11,
     "metadata": {},
     "output_type": "execute_result"
    }
   ],
   "source": [
    "# 표준편차와 분산 : std() , var()\n",
    "[arr1.std() , arr1.var()]"
   ]
  },
  {
   "cell_type": "code",
   "execution_count": 12,
   "id": "44d765df",
   "metadata": {},
   "outputs": [
    {
     "data": {
      "text/plain": [
       "[0, 4]"
      ]
     },
     "execution_count": 12,
     "metadata": {},
     "output_type": "execute_result"
    }
   ],
   "source": [
    "# 최소값과 최대값 : min() , max()\n",
    "[arr1.min() , arr1.max()]"
   ]
  },
  {
   "cell_type": "code",
   "execution_count": 13,
   "id": "f35af404",
   "metadata": {},
   "outputs": [
    {
     "data": {
      "text/plain": [
       "[array([ 0,  1,  3,  6, 10], dtype=int32)]"
      ]
     },
     "execution_count": 13,
     "metadata": {},
     "output_type": "execute_result"
    }
   ],
   "source": [
    "# 누적합 cumsum()\n",
    "arr1.cumsum()"
   ]
  },
  {
   "cell_type": "code",
   "execution_count": 14,
   "id": "82a7651b",
   "metadata": {},
   "outputs": [
    {
     "data": {
      "text/plain": [
       "array([0, 0, 0, 0, 0], dtype=int32)"
      ]
     },
     "execution_count": 14,
     "metadata": {},
     "output_type": "execute_result"
    }
   ],
   "source": [
    "# 누적곱 : cumprod()\n",
    "arr1.cumprod()"
   ]
  },
  {
   "cell_type": "markdown",
   "id": "2c8945e3",
   "metadata": {},
   "source": [
    "## 행렬 연산\n",
    "- 선형 대수를 위한 행렬(2차원 배열) 연산\n",
    "- 행렬 곱 , 전치 행렬 , 역행렬 , 행렬식 등\n",
    "    - 행렬곱 : A.dot(B) 또는 np.dot(A,B)\n",
    "    - 전치행렬 : A.transpose() or np.transpose(A)\n",
    "    - 역행렬 : np.linalg.inv(A)\n",
    "    - 행렬식 : np.linalg.det(A)"
   ]
  },
  {
   "cell_type": "code",
   "execution_count": 16,
   "id": "7db1764c",
   "metadata": {},
   "outputs": [
    {
     "data": {
      "text/plain": [
       "array([[1, 2],\n",
       "       [3, 4]])"
      ]
     },
     "execution_count": 16,
     "metadata": {},
     "output_type": "execute_result"
    }
   ],
   "source": [
    "A = np.arange(1,5).reshape(2,2)\n",
    "A"
   ]
  },
  {
   "cell_type": "code",
   "execution_count": 18,
   "id": "a2d7d358",
   "metadata": {},
   "outputs": [
    {
     "data": {
      "text/plain": [
       "array([[3, 2],\n",
       "       [0, 1]])"
      ]
     },
     "execution_count": 18,
     "metadata": {},
     "output_type": "execute_result"
    }
   ],
   "source": [
    "B = np.array([3,2,0,1]).reshape(2,2)\n",
    "B"
   ]
  },
  {
   "cell_type": "markdown",
   "id": "cfbb619c",
   "metadata": {},
   "source": [
    "## 행렬 곱\n",
    "(m x n) X (n x p) => n과 n이 같아야 한다!\n",
    "\n",
    "결과는 (m x p) 행렬로 나타난다"
   ]
  },
  {
   "cell_type": "code",
   "execution_count": 19,
   "id": "522fdb9c",
   "metadata": {},
   "outputs": [
    {
     "data": {
      "text/plain": [
       "array([[ 3,  4],\n",
       "       [ 9, 10]])"
      ]
     },
     "execution_count": 19,
     "metadata": {},
     "output_type": "execute_result"
    }
   ],
   "source": [
    "# 행렬의 곱\n",
    "A.dot(B)"
   ]
  },
  {
   "cell_type": "code",
   "execution_count": 20,
   "id": "5874c192",
   "metadata": {},
   "outputs": [
    {
     "data": {
      "text/plain": [
       "array([[ 3,  4],\n",
       "       [ 9, 10]])"
      ]
     },
     "execution_count": 20,
     "metadata": {},
     "output_type": "execute_result"
    }
   ],
   "source": [
    "# 행렬의 곱 2\n",
    "np.dot(A,B)"
   ]
  },
  {
   "cell_type": "markdown",
   "id": "8b2f2e63",
   "metadata": {},
   "source": [
    "## 전치행렬 => 행과 열을 바꿈"
   ]
  },
  {
   "cell_type": "code",
   "execution_count": 21,
   "id": "74290baf",
   "metadata": {},
   "outputs": [
    {
     "data": {
      "text/plain": [
       "array([[1, 3],\n",
       "       [2, 4]])"
      ]
     },
     "execution_count": 21,
     "metadata": {},
     "output_type": "execute_result"
    }
   ],
   "source": [
    "## 전치행렬\n",
    "A.transpose()"
   ]
  },
  {
   "cell_type": "code",
   "execution_count": 22,
   "id": "9f5c8e86",
   "metadata": {},
   "outputs": [
    {
     "data": {
      "text/plain": [
       "array([[1, 3],\n",
       "       [2, 4]])"
      ]
     },
     "execution_count": 22,
     "metadata": {},
     "output_type": "execute_result"
    }
   ],
   "source": [
    "np.transpose(A)"
   ]
  },
  {
   "cell_type": "markdown",
   "id": "6fbffbbe",
   "metadata": {},
   "source": [
    "## 역행렬"
   ]
  },
  {
   "cell_type": "code",
   "execution_count": 23,
   "id": "1b206555",
   "metadata": {},
   "outputs": [
    {
     "data": {
      "text/plain": [
       "array([[1, 2],\n",
       "       [3, 4]])"
      ]
     },
     "execution_count": 23,
     "metadata": {},
     "output_type": "execute_result"
    }
   ],
   "source": [
    "# 역행렬\n",
    "A"
   ]
  },
  {
   "cell_type": "code",
   "execution_count": 24,
   "id": "8f4eb20d",
   "metadata": {},
   "outputs": [
    {
     "data": {
      "text/plain": [
       "array([[-2. ,  1. ],\n",
       "       [ 1.5, -0.5]])"
      ]
     },
     "execution_count": 24,
     "metadata": {},
     "output_type": "execute_result"
    }
   ],
   "source": [
    "np.linalg.inv(A)"
   ]
  },
  {
   "cell_type": "code",
   "execution_count": 29,
   "id": "8e4ec668",
   "metadata": {},
   "outputs": [
    {
     "data": {
      "text/plain": [
       "-2.0000000000000004"
      ]
     },
     "execution_count": 29,
     "metadata": {},
     "output_type": "execute_result"
    }
   ],
   "source": [
    "# 행렬식 (determinant) => 행렬의 크기를 스칼라값으로 나타낸 것으로 보면 된다\n",
    "np.linalg.det(A)"
   ]
  },
  {
   "cell_type": "code",
   "execution_count": 30,
   "id": "cdf303d9",
   "metadata": {},
   "outputs": [
    {
     "data": {
      "text/plain": [
       "array([[1.00000000e+00, 1.11022302e-16],\n",
       "       [0.00000000e+00, 1.00000000e+00]])"
      ]
     },
     "execution_count": 30,
     "metadata": {},
     "output_type": "execute_result"
    }
   ],
   "source": [
    "# 행렬 A와 역행렬을 곱한 결과\n",
    "np.dot(A, np.linalg.inv(A))"
   ]
  },
  {
   "cell_type": "markdown",
   "id": "791334b6",
   "metadata": {},
   "source": [
    "## Array 인덱싱과 슬라이싱\n",
    "- 인덱싱 : 배열의 위치나 조건을 지정해 배열의 원소를 선택하는 것\n",
    "- 슬라이싱 : 범위를 지정해 배열의 원소를 선택하는 것\n",
    "    -: 슬라이싱은 : 연산자를 주로 사용"
   ]
  },
  {
   "cell_type": "markdown",
   "id": "6f72c664",
   "metadata": {},
   "source": [
    "### 1차원 배열의 인덱싱\n",
    "배열명[위치]\n",
    "- 파이썬의 인덱싱과 동일\n",
    "- 0번째로 시작함"
   ]
  },
  {
   "cell_type": "code",
   "execution_count": 31,
   "id": "073978e0",
   "metadata": {},
   "outputs": [
    {
     "data": {
      "text/plain": [
       "array([0, 1, 2, 3, 4, 5, 6, 7, 8, 9])"
      ]
     },
     "execution_count": 31,
     "metadata": {},
     "output_type": "execute_result"
    }
   ],
   "source": [
    "arr1 = np.arange(10)\n",
    "arr1"
   ]
  },
  {
   "cell_type": "code",
   "execution_count": 32,
   "id": "e47d7728",
   "metadata": {},
   "outputs": [
    {
     "data": {
      "text/plain": [
       "0"
      ]
     },
     "execution_count": 32,
     "metadata": {},
     "output_type": "execute_result"
    }
   ],
   "source": [
    "# 0번째 요소\n",
    "arr1[0]"
   ]
  },
  {
   "cell_type": "code",
   "execution_count": 33,
   "id": "7bf3b545",
   "metadata": {},
   "outputs": [
    {
     "data": {
      "text/plain": [
       "3"
      ]
     },
     "execution_count": 33,
     "metadata": {},
     "output_type": "execute_result"
    }
   ],
   "source": [
    "# 3번째 요소\n",
    "arr1[3]"
   ]
  },
  {
   "cell_type": "markdown",
   "id": "482b24c5",
   "metadata": {},
   "source": [
    "### 배열명[[위치1, 위치2 , 위치n]]"
   ]
  },
  {
   "cell_type": "code",
   "execution_count": 35,
   "id": "05d468c1",
   "metadata": {},
   "outputs": [
    {
     "ename": "IndexError",
     "evalue": "too many indices for array: array is 1-dimensional, but 3 were indexed",
     "output_type": "error",
     "traceback": [
      "\u001b[1;31m---------------------------------------------------------------------------\u001b[0m",
      "\u001b[1;31mIndexError\u001b[0m                                Traceback (most recent call last)",
      "\u001b[1;32m<ipython-input-35-b76dd129df9e>\u001b[0m in \u001b[0;36m<module>\u001b[1;34m\u001b[0m\n\u001b[0;32m      1\u001b[0m \u001b[1;31m# 1,3,4 위치 : shape => (m , n , p ) => 3차원 자료\u001b[0m\u001b[1;33m\u001b[0m\u001b[1;33m\u001b[0m\u001b[1;33m\u001b[0m\u001b[0m\n\u001b[0;32m      2\u001b[0m \u001b[1;31m# 따라서 arr1 은 1차원 행렬이기에 오류가 발생한다\u001b[0m\u001b[1;33m\u001b[0m\u001b[1;33m\u001b[0m\u001b[1;33m\u001b[0m\u001b[0m\n\u001b[1;32m----> 3\u001b[1;33m \u001b[0marr1\u001b[0m\u001b[1;33m[\u001b[0m\u001b[1;36m1\u001b[0m\u001b[1;33m,\u001b[0m\u001b[1;36m3\u001b[0m\u001b[1;33m,\u001b[0m\u001b[1;36m4\u001b[0m\u001b[1;33m]\u001b[0m\u001b[1;33m\u001b[0m\u001b[1;33m\u001b[0m\u001b[0m\n\u001b[0m",
      "\u001b[1;31mIndexError\u001b[0m: too many indices for array: array is 1-dimensional, but 3 were indexed"
     ]
    }
   ],
   "source": [
    "# 1,3,4 위치 : shape => (m , n , p ) => 3차원 자료\n",
    "# 따라서 arr1 은 1차원 행렬이기에 오류가 발생한다\n",
    "# 인덱스 [ ] : [ m] => 1차원 / [m,n] => 2차원 / [m,n,p] => 3차원\n",
    "arr1[1,3,4]\n",
    "# arr1[1,3,4] => 3차원 배열의 위치 1면 3행 4열 을 나타냄"
   ]
  },
  {
   "cell_type": "code",
   "execution_count": 37,
   "id": "67dffaf9",
   "metadata": {},
   "outputs": [
    {
     "data": {
      "text/plain": [
       "array([1, 3, 4])"
      ]
     },
     "execution_count": 37,
     "metadata": {},
     "output_type": "execute_result"
    }
   ],
   "source": [
    "# 인덱스 [ ] : [ m] => 1차원 / [m,n] => 2차원 / [m,n,p] => 3차원\n",
    "# 따라서 1 , 3 , 4 위치를 나타내고 싶을 때는 리스트로 나타내야 한다. (여러 인덱스의 요소들을 지정)\n",
    "arr1[[1,3,4]]"
   ]
  },
  {
   "cell_type": "markdown",
   "id": "f1626ccd",
   "metadata": {},
   "source": [
    "## 2차원 배열의 인덱싱"
   ]
  },
  {
   "cell_type": "code",
   "execution_count": 41,
   "id": "2160d283",
   "metadata": {},
   "outputs": [
    {
     "data": {
      "text/plain": [
       "array([[ 1,  2,  3,  4],\n",
       "       [ 5,  6,  7,  8],\n",
       "       [ 9, 10, 11, 12]])"
      ]
     },
     "execution_count": 41,
     "metadata": {},
     "output_type": "execute_result"
    }
   ],
   "source": [
    "arr2 = np.arange(1,13).reshape(3,4)\n",
    "arr2"
   ]
  },
  {
   "cell_type": "code",
   "execution_count": 42,
   "id": "ccbc1207",
   "metadata": {},
   "outputs": [
    {
     "data": {
      "text/plain": [
       "12"
      ]
     },
     "execution_count": 42,
     "metadata": {},
     "output_type": "execute_result"
    }
   ],
   "source": [
    "arr2[2,3] #2행 3열"
   ]
  },
  {
   "cell_type": "code",
   "execution_count": 43,
   "id": "876f1000",
   "metadata": {},
   "outputs": [],
   "source": [
    "# 0행 0열 값 변경\n",
    "arr2[0,0] = 90"
   ]
  },
  {
   "cell_type": "code",
   "execution_count": 44,
   "id": "126c2290",
   "metadata": {},
   "outputs": [
    {
     "data": {
      "text/plain": [
       "array([[90,  2,  3,  4],\n",
       "       [ 5,  6,  7,  8],\n",
       "       [ 9, 10, 11, 12]])"
      ]
     },
     "execution_count": 44,
     "metadata": {},
     "output_type": "execute_result"
    }
   ],
   "source": [
    "# 변경된 array\n",
    "arr2"
   ]
  },
  {
   "cell_type": "markdown",
   "id": "9bc72fe5",
   "metadata": {},
   "source": [
    "## 2차원 배열명[행위치]\n",
    ": 2차원 배열에서 지정한 행 전체가 선택됨"
   ]
  },
  {
   "cell_type": "code",
   "execution_count": 49,
   "id": "9a918b44",
   "metadata": {},
   "outputs": [
    {
     "data": {
      "text/plain": [
       "array([5, 6, 7, 8])"
      ]
     },
     "execution_count": 49,
     "metadata": {},
     "output_type": "execute_result"
    }
   ],
   "source": [
    "# 두번째 행(1행) 선택\n",
    "arr2[1]"
   ]
  },
  {
   "cell_type": "markdown",
   "id": "ac362109",
   "metadata": {},
   "source": [
    "**2차원배열명[:,열위치]**\n",
    "\n",
    ": 2차원 배열에서 지정한 열 전체 선택"
   ]
  },
  {
   "cell_type": "code",
   "execution_count": 47,
   "id": "94cfa36c",
   "metadata": {},
   "outputs": [
    {
     "ename": "SyntaxError",
     "evalue": "invalid syntax (<ipython-input-47-f6024495ec40>, line 1)",
     "output_type": "error",
     "traceback": [
      "\u001b[1;36m  File \u001b[1;32m\"<ipython-input-47-f6024495ec40>\"\u001b[1;36m, line \u001b[1;32m1\u001b[0m\n\u001b[1;33m    arr2[,1]\u001b[0m\n\u001b[1;37m         ^\u001b[0m\n\u001b[1;31mSyntaxError\u001b[0m\u001b[1;31m:\u001b[0m invalid syntax\n"
     ]
    }
   ],
   "source": [
    "arr2[,1] \n",
    "# 실행되지 않는다."
   ]
  },
  {
   "cell_type": "code",
   "execution_count": 48,
   "id": "c5f555da",
   "metadata": {},
   "outputs": [
    {
     "data": {
      "text/plain": [
       "array([ 2,  6, 10])"
      ]
     },
     "execution_count": 48,
     "metadata": {},
     "output_type": "execute_result"
    }
   ],
   "source": [
    "# 다음과 같이 실행\n",
    "# 1열 선택\n",
    "arr2[:,1]"
   ]
  },
  {
   "cell_type": "markdown",
   "id": "d06ed65c",
   "metadata": {},
   "source": [
    "**2차원 배열의 특정 행을 지정해서 행 전체를 변경**"
   ]
  },
  {
   "cell_type": "code",
   "execution_count": 51,
   "id": "ba50112a",
   "metadata": {},
   "outputs": [
    {
     "data": {
      "text/plain": [
       "array([[90,  2,  3,  4],\n",
       "       [-5,  1, 10,  9],\n",
       "       [ 9, 10, 11, 12]])"
      ]
     },
     "execution_count": 51,
     "metadata": {},
     "output_type": "execute_result"
    }
   ],
   "source": [
    "# 두번째 행 변경\n",
    "arr2[1] = np.array([-5,1,10,9])\n",
    "arr2"
   ]
  },
  {
   "cell_type": "markdown",
   "id": "dceae628",
   "metadata": {},
   "source": [
    "## 배열명[[행위치1,행위치2,,,,,행위치n],[열위치1,열위치2,,,,열위치n]]\n",
    ": 지정한 위치의 원소를 가져옴"
   ]
  },
  {
   "cell_type": "code",
   "execution_count": 52,
   "id": "5216d431",
   "metadata": {},
   "outputs": [
    {
     "data": {
      "text/plain": [
       "array([90, 10])"
      ]
     },
     "execution_count": 52,
     "metadata": {},
     "output_type": "execute_result"
    }
   ],
   "source": [
    "arr2[[0,2],[0,1]]"
   ]
  },
  {
   "cell_type": "markdown",
   "id": "be219ffb",
   "metadata": {},
   "source": [
    "## 배열명[조건]\n",
    ": 배열에서 조건을 만족하는 원소만 선택"
   ]
  },
  {
   "cell_type": "markdown",
   "id": "c10a2235",
   "metadata": {},
   "source": [
    "- 10 이상인 원소 선택"
   ]
  },
  {
   "cell_type": "code",
   "execution_count": 55,
   "id": "ef76d947",
   "metadata": {},
   "outputs": [
    {
     "data": {
      "text/plain": [
       "array([[ True, False, False, False],\n",
       "       [False, False, False, False],\n",
       "       [False, False,  True,  True]])"
      ]
     },
     "execution_count": 55,
     "metadata": {},
     "output_type": "execute_result"
    }
   ],
   "source": [
    "# 비교 연산 먼저 수행\n",
    "arr2>10"
   ]
  },
  {
   "cell_type": "code",
   "execution_count": 57,
   "id": "9b2dcc0b",
   "metadata": {},
   "outputs": [
    {
     "data": {
      "text/plain": [
       "array([90, 11, 12])"
      ]
     },
     "execution_count": 57,
     "metadata": {},
     "output_type": "execute_result"
    }
   ],
   "source": [
    "# 비교 연산 결과를 인덱스로 지정\n",
    "arr2[arr2>10]"
   ]
  },
  {
   "cell_type": "code",
   "execution_count": 62,
   "id": "205507c6",
   "metadata": {},
   "outputs": [],
   "source": [
    "# 짝수인 원소 선택\n",
    "idx = arr2 %2==0"
   ]
  },
  {
   "cell_type": "code",
   "execution_count": 63,
   "id": "6aef7019",
   "metadata": {},
   "outputs": [
    {
     "data": {
      "text/plain": [
       "array([90,  2,  4, 10, 10, 12])"
      ]
     },
     "execution_count": 63,
     "metadata": {},
     "output_type": "execute_result"
    }
   ],
   "source": [
    "arr2[idx]"
   ]
  },
  {
   "cell_type": "markdown",
   "id": "86567000",
   "metadata": {},
   "source": [
    "### 1차원 배열의 슬라이싱(Slicing)\n",
    "\n",
    "#### 배열[시작위치:끝위치]\n",
    ": 시작 위치에서 끝 위치-1에 해당하는 배열의 원소를 반환"
   ]
  },
  {
   "cell_type": "code",
   "execution_count": 64,
   "id": "eb78ed9f",
   "metadata": {},
   "outputs": [
    {
     "data": {
      "text/plain": [
       "array([0, 1, 2, 3, 4, 5, 6, 7, 8, 9])"
      ]
     },
     "execution_count": 64,
     "metadata": {},
     "output_type": "execute_result"
    }
   ],
   "source": [
    "arr1"
   ]
  },
  {
   "cell_type": "code",
   "execution_count": 65,
   "id": "3a311508",
   "metadata": {},
   "outputs": [
    {
     "data": {
      "text/plain": [
       "array([3, 4, 5, 6, 7, 8])"
      ]
     },
     "execution_count": 65,
     "metadata": {},
     "output_type": "execute_result"
    }
   ],
   "source": [
    "# 3번째 요소부터 8번째 요소\n",
    "arr1[3:9]"
   ]
  },
  {
   "cell_type": "code",
   "execution_count": 67,
   "id": "80e4d92b",
   "metadata": {},
   "outputs": [
    {
     "data": {
      "text/plain": [
       "array([3, 5, 7])"
      ]
     },
     "execution_count": 67,
     "metadata": {},
     "output_type": "execute_result"
    }
   ],
   "source": [
    "arr1[3:9:2] #[시작:끝:간격]"
   ]
  },
  {
   "cell_type": "code",
   "execution_count": 68,
   "id": "4d3c8997",
   "metadata": {},
   "outputs": [
    {
     "data": {
      "text/plain": [
       "array([0, 2, 4, 6, 8])"
      ]
     },
     "execution_count": 68,
     "metadata": {},
     "output_type": "execute_result"
    }
   ],
   "source": [
    "arr1[:9:2]"
   ]
  },
  {
   "cell_type": "code",
   "execution_count": 69,
   "id": "0041a4b4",
   "metadata": {},
   "outputs": [
    {
     "data": {
      "text/plain": [
       "array([3, 5, 7, 9])"
      ]
     },
     "execution_count": 69,
     "metadata": {},
     "output_type": "execute_result"
    }
   ],
   "source": [
    "arr1[3::2]"
   ]
  },
  {
   "cell_type": "code",
   "execution_count": 70,
   "id": "81fc94ed",
   "metadata": {},
   "outputs": [
    {
     "data": {
      "text/plain": [
       "array([0, 3, 6, 9])"
      ]
     },
     "execution_count": 70,
     "metadata": {},
     "output_type": "execute_result"
    }
   ],
   "source": [
    "arr1[::3]"
   ]
  },
  {
   "cell_type": "code",
   "execution_count": 71,
   "id": "89b877a9",
   "metadata": {},
   "outputs": [
    {
     "data": {
      "text/plain": [
       "array([9, 8, 7, 6, 5, 4, 3, 2, 1, 0])"
      ]
     },
     "execution_count": 71,
     "metadata": {},
     "output_type": "execute_result"
    }
   ],
   "source": [
    "arr1[::-1]"
   ]
  },
  {
   "cell_type": "code",
   "execution_count": 72,
   "id": "b55ffd88",
   "metadata": {},
   "outputs": [
    {
     "data": {
      "text/plain": [
       "array([0, 1, 2])"
      ]
     },
     "execution_count": 72,
     "metadata": {},
     "output_type": "execute_result"
    }
   ],
   "source": [
    "# 처음부터 원하는 위치까지\n",
    "arr1[:3]"
   ]
  },
  {
   "cell_type": "code",
   "execution_count": 73,
   "id": "847befa4",
   "metadata": {},
   "outputs": [
    {
     "data": {
      "text/plain": [
       "array([2, 3, 4, 5, 6, 7, 8, 9])"
      ]
     },
     "execution_count": 73,
     "metadata": {},
     "output_type": "execute_result"
    }
   ],
   "source": [
    "# 시작위치 지정하고 마지막까지\n",
    "arr1[2:]"
   ]
  },
  {
   "cell_type": "code",
   "execution_count": 75,
   "id": "a5798c5c",
   "metadata": {},
   "outputs": [
    {
     "data": {
      "text/plain": [
       "array([0, 1, 2, 3, 4, 5, 6, 7, 8, 9])"
      ]
     },
     "execution_count": 75,
     "metadata": {},
     "output_type": "execute_result"
    }
   ],
   "source": [
    "# 모든 원소 반환\n",
    "arr1[:]"
   ]
  },
  {
   "cell_type": "markdown",
   "id": "d5acc618",
   "metadata": {},
   "source": [
    "## 2차원 배열의 슬라이싱\n",
    "배열[시작위치:행끝위치 , 열시작위치:열끝위치]"
   ]
  },
  {
   "cell_type": "code",
   "execution_count": 76,
   "id": "c9601609",
   "metadata": {},
   "outputs": [
    {
     "data": {
      "text/plain": [
       "array([[90,  2,  3,  4],\n",
       "       [-5,  1, 10,  9],\n",
       "       [ 9, 10, 11, 12]])"
      ]
     },
     "execution_count": 76,
     "metadata": {},
     "output_type": "execute_result"
    }
   ],
   "source": [
    "arr2"
   ]
  },
  {
   "cell_type": "code",
   "execution_count": 77,
   "id": "cd8d3309",
   "metadata": {},
   "outputs": [
    {
     "data": {
      "text/plain": [
       "array([ 9, 10, 11, 12])"
      ]
     },
     "execution_count": 77,
     "metadata": {},
     "output_type": "execute_result"
    }
   ],
   "source": [
    "# 2행의 모든 요소 꺼내기\n",
    "arr2[2,:]"
   ]
  },
  {
   "cell_type": "code",
   "execution_count": 78,
   "id": "ba339508",
   "metadata": {},
   "outputs": [
    {
     "data": {
      "text/plain": [
       "array([ 9, 10, 11, 12])"
      ]
     },
     "execution_count": 78,
     "metadata": {},
     "output_type": "execute_result"
    }
   ],
   "source": [
    "arr2[2]"
   ]
  },
  {
   "cell_type": "code",
   "execution_count": 79,
   "id": "f8c8fa86",
   "metadata": {},
   "outputs": [
    {
     "data": {
      "text/plain": [
       "array([ 4,  9, 12])"
      ]
     },
     "execution_count": 79,
     "metadata": {},
     "output_type": "execute_result"
    }
   ],
   "source": [
    "# 3열의 모든 요소 꺼내기\n",
    "arr2[:,3]"
   ]
  },
  {
   "cell_type": "code",
   "execution_count": 81,
   "id": "0df2accc",
   "metadata": {},
   "outputs": [
    {
     "data": {
      "text/plain": [
       "array([[ 1, 10],\n",
       "       [10, 11]])"
      ]
     },
     "execution_count": 81,
     "metadata": {},
     "output_type": "execute_result"
    }
   ],
   "source": [
    "# 1~2행 , 1~2열의 요소\n",
    "arr2[1:3 , 1:3]"
   ]
  },
  {
   "cell_type": "markdown",
   "id": "59c43b4b",
   "metadata": {},
   "source": [
    "## 배열[행위치][열시작위치:열끝위치]\n",
    ": 특정 행을 선택한 후 열을 슬라이싱"
   ]
  },
  {
   "cell_type": "code",
   "execution_count": 83,
   "id": "d6d862f3",
   "metadata": {},
   "outputs": [
    {
     "data": {
      "text/plain": [
       "array([[10, 20, 30],\n",
       "       [40, 50, 60],\n",
       "       [70, 80, 90]])"
      ]
     },
     "execution_count": 83,
     "metadata": {},
     "output_type": "execute_result"
    }
   ],
   "source": [
    "arr3 = np.arange(10,100,10).reshape(3,3)\n",
    "arr3"
   ]
  },
  {
   "cell_type": "code",
   "execution_count": 84,
   "id": "58ed75bf",
   "metadata": {},
   "outputs": [
    {
     "data": {
      "text/plain": [
       "array([40, 50])"
      ]
     },
     "execution_count": 84,
     "metadata": {},
     "output_type": "execute_result"
    }
   ],
   "source": [
    "# 1행의 0열과 1열 요소 선택\n",
    "arr3[1,:2]"
   ]
  },
  {
   "cell_type": "code",
   "execution_count": 87,
   "id": "ae1f661c",
   "metadata": {},
   "outputs": [
    {
     "data": {
      "text/plain": [
       "array([40, 50])"
      ]
     },
     "execution_count": 87,
     "metadata": {},
     "output_type": "execute_result"
    }
   ],
   "source": [
    "# 1행의 0열과 1열 요소 선택\n",
    "# 각각 괄호를 사용하여 위치 지정할 수도 있다!!!!!!\n",
    "arr3[1][:2]"
   ]
  },
  {
   "cell_type": "code",
   "execution_count": 89,
   "id": "066eb29e",
   "metadata": {},
   "outputs": [
    {
     "data": {
      "text/plain": [
       "80"
      ]
     },
     "execution_count": 89,
     "metadata": {},
     "output_type": "execute_result"
    }
   ],
   "source": [
    "# 인덱싱 예시\n",
    "arr3[2][1]"
   ]
  },
  {
   "cell_type": "markdown",
   "id": "595fd4c6",
   "metadata": {},
   "source": [
    "### 슬라이싱 된 배열에 값을 지정   다시 확인 필요!!!"
   ]
  },
  {
   "cell_type": "code",
   "execution_count": 200,
   "id": "c4fd7d33",
   "metadata": {},
   "outputs": [
    {
     "data": {
      "text/plain": [
       "array([[40,  4,  1]])"
      ]
     },
     "execution_count": 200,
     "metadata": {},
     "output_type": "execute_result"
    }
   ],
   "source": [
    "# 0~1 행 , 1~2열 요소 변경\n",
    "# arr3[0:1][1:2] 이렇게 하면 값은 안나온다.\n",
    "\n",
    "# arr3[:2][1:3]는 해당되는 값만 가져오는거다!!!!!!!!!!!\n",
    "# 이렇게 쓰면 처음에 행으로 범위를 제한 시키고 , 그 범위에서 열을 찾기 때문에 다음과 같은 결과가 나온다\n",
    "# 공통된 부분으로 생각하자\n",
    "arr3[0:2][1:3]"
   ]
  },
  {
   "cell_type": "code",
   "execution_count": 153,
   "id": "d46e9c50",
   "metadata": {},
   "outputs": [
    {
     "data": {
      "text/plain": [
       "array([[10,  1,  3],\n",
       "       [40,  4,  1],\n",
       "       [70, 80, 90]])"
      ]
     },
     "execution_count": 153,
     "metadata": {},
     "output_type": "execute_result"
    }
   ],
   "source": [
    "arr3"
   ]
  },
  {
   "cell_type": "code",
   "execution_count": 196,
   "id": "800cf9a0",
   "metadata": {},
   "outputs": [
    {
     "data": {
      "text/plain": [
       "array([[1, 3],\n",
       "       [4, 1]])"
      ]
     },
     "execution_count": 196,
     "metadata": {},
     "output_type": "execute_result"
    }
   ],
   "source": [
    "arr3[0:2][1:3] #밑애처럼 써야함\n",
    "arr3[0:2][:, 1:3] "
   ]
  },
  {
   "cell_type": "code",
   "execution_count": 172,
   "id": "0b1d3572",
   "metadata": {},
   "outputs": [
    {
     "data": {
      "text/plain": [
       "array([[1, 3],\n",
       "       [4, 1]])"
      ]
     },
     "execution_count": 172,
     "metadata": {},
     "output_type": "execute_result"
    }
   ],
   "source": [
    "# 여러개 가져오려면 다음과 같이 작성!\n",
    "arr3[0:2 , 1:3]"
   ]
  },
  {
   "cell_type": "code",
   "execution_count": 126,
   "id": "d844ffa0",
   "metadata": {},
   "outputs": [
    {
     "data": {
      "text/plain": [
       "array([[10,  1,  3],\n",
       "       [40,  4,  1],\n",
       "       [70, 80, 90]])"
      ]
     },
     "execution_count": 126,
     "metadata": {},
     "output_type": "execute_result"
    }
   ],
   "source": [
    "arr3[:2 , 1:3] = np.array([[1,3],[4,1]])\n",
    "arr3"
   ]
  },
  {
   "cell_type": "markdown",
   "id": "d2f38245",
   "metadata": {},
   "source": [
    "## Array boolean 인덱싱\n",
    "- 다차원의 인덱싱을 응용하여 boolean 인덱싱\n",
    "- boolean 인덱싱을 통해 만들어낸 array를 통해 원하는 행 또는 열의 값만 뽑아냄\n",
    "- 가리고 싶은 부분은 가리고 원하는 요소만 꺼냄"
   ]
  },
  {
   "cell_type": "code",
   "execution_count": 118,
   "id": "fc5dce58",
   "metadata": {},
   "outputs": [
    {
     "data": {
      "text/plain": [
       "array(['Beomwoo', 'Beomwoo', 'Kim', 'Joan', 'Lee', 'Beomwoo', 'Park',\n",
       "       'Beomwoo'], dtype='<U7')"
      ]
     },
     "execution_count": 118,
     "metadata": {},
     "output_type": "execute_result"
    }
   ],
   "source": [
    "names = np.array(['Beomwoo','Beomwoo','Kim','Joan','Lee','Beomwoo',\n",
    "                  'Park','Beomwoo'])\n",
    "names"
   ]
  },
  {
   "cell_type": "code",
   "execution_count": 119,
   "id": "ef7cff08",
   "metadata": {},
   "outputs": [
    {
     "data": {
      "text/plain": [
       "(8,)"
      ]
     },
     "execution_count": 119,
     "metadata": {},
     "output_type": "execute_result"
    }
   ],
   "source": [
    "# names 크기 확인\n",
    "names.shape"
   ]
  },
  {
   "cell_type": "code",
   "execution_count": 130,
   "id": "840c521a",
   "metadata": {},
   "outputs": [
    {
     "data": {
      "text/plain": [
       "array([[-0.48079963, -1.1246814 ,  0.46834529,  0.87542116],\n",
       "       [ 0.97711672, -0.66557839, -0.50577443, -0.04705627],\n",
       "       [ 1.87040554,  1.67152376,  1.06709766, -0.42029546],\n",
       "       [ 1.31315492, -0.9506259 ,  0.41996431,  0.32295802],\n",
       "       [ 1.74133032, -0.13594917,  0.27376001, -0.54163117],\n",
       "       [ 2.03030155,  0.73523711, -1.00278886,  1.00270979],\n",
       "       [ 0.99418061, -0.64644231,  1.71898133, -0.04729817],\n",
       "       [-1.68417355,  0.64776135, -0.74288956,  0.41804479]])"
      ]
     },
     "execution_count": 130,
     "metadata": {},
     "output_type": "execute_result"
    }
   ],
   "source": [
    "# 8행 4열의 실수 난수 배열 생성\n",
    "data = np.random.randn(8,4)\n",
    "data"
   ]
  },
  {
   "cell_type": "code",
   "execution_count": 131,
   "id": "6fe22bdd",
   "metadata": {},
   "outputs": [
    {
     "data": {
      "text/plain": [
       "(8, 4)"
      ]
     },
     "execution_count": 131,
     "metadata": {},
     "output_type": "execute_result"
    }
   ],
   "source": [
    "data.shape"
   ]
  },
  {
   "cell_type": "code",
   "execution_count": 129,
   "id": "4c466950",
   "metadata": {},
   "outputs": [
    {
     "data": {
      "text/plain": [
       "array([ True,  True, False, False, False,  True, False,  True])"
      ]
     },
     "execution_count": 129,
     "metadata": {},
     "output_type": "execute_result"
    }
   ],
   "source": [
    "# 요소가 Beomwoo인 항목에 대한 mask 생성\n",
    "names_mask_Beomwoo = (names == 'Beomwoo')\n",
    "names_mask_Beomwoo"
   ]
  },
  {
   "cell_type": "code",
   "execution_count": 132,
   "id": "42a76511",
   "metadata": {},
   "outputs": [
    {
     "data": {
      "text/plain": [
       "array([[-0.48079963, -1.1246814 ,  0.46834529,  0.87542116],\n",
       "       [ 0.97711672, -0.66557839, -0.50577443, -0.04705627],\n",
       "       [ 2.03030155,  0.73523711, -1.00278886,  1.00270979],\n",
       "       [-1.68417355,  0.64776135, -0.74288956,  0.41804479]])"
      ]
     },
     "execution_count": 132,
     "metadata": {},
     "output_type": "execute_result"
    }
   ],
   "source": [
    "# 요소가 Beomwoo인 항목의 위치와 같은 행의 자료 가져오기\n",
    "data[names_mask_Beomwoo, :]\n",
    "# data[names_mask_Beomwoo] 와 같이 사용 가능"
   ]
  },
  {
   "cell_type": "code",
   "execution_count": 136,
   "id": "beb501dc",
   "metadata": {},
   "outputs": [
    {
     "data": {
      "text/plain": [
       "array([[ 1.87040554,  1.67152376,  1.06709766, -0.42029546]])"
      ]
     },
     "execution_count": 136,
     "metadata": {},
     "output_type": "execute_result"
    }
   ],
   "source": [
    "# 요소가 Kim 인 행의 데이터만 꺼내기\n",
    "names_mask_Kim = (names == 'Kim')\n",
    "data[names_mask_Kim]"
   ]
  },
  {
   "cell_type": "code",
   "execution_count": 140,
   "id": "351e5d7d",
   "metadata": {},
   "outputs": [
    {
     "data": {
      "text/plain": [
       "array([[ 1.87040554,  1.67152376,  1.06709766, -0.42029546],\n",
       "       [ 0.99418061, -0.64644231,  1.71898133, -0.04729817]])"
      ]
     },
     "execution_count": 140,
     "metadata": {},
     "output_type": "execute_result"
    }
   ],
   "source": [
    "# 논리 연산을 응용하여 요소가 Kim 또는 Park인 행의 데이터만 꺼내기\n",
    "data[(names == 'Kim') | (names=='Park')] "
   ]
  },
  {
   "cell_type": "code",
   "execution_count": 144,
   "id": "266d8c54",
   "metadata": {},
   "outputs": [
    {
     "data": {
      "text/plain": [
       "array([[-0.48079963, -1.1246814 ,  0.46834529,  0.87542116],\n",
       "       [-1.68417355,  0.64776135, -0.74288956,  0.41804479]])"
      ]
     },
     "execution_count": 144,
     "metadata": {},
     "output_type": "execute_result"
    }
   ],
   "source": [
    "# data의 0번째 열에서 0보다 작은 것만 가져오기\n",
    "data[data[:,0]<0]"
   ]
  },
  {
   "cell_type": "code",
   "execution_count": 164,
   "id": "4c791afc",
   "metadata": {},
   "outputs": [
    {
     "data": {
      "text/plain": [
       "array([[ 0.46834529,  0.87542116],\n",
       "       [-0.74288956,  0.41804479]])"
      ]
     },
     "execution_count": 164,
     "metadata": {},
     "output_type": "execute_result"
    }
   ],
   "source": [
    "# 문제 2 data에서 0번째 열이 0보다 작은 행의 2,3번째 열 데이터 가져오기\n",
    "data[data[:,0]<0][:,2:4]\n",
    "data[data[:,0]<0, 2:4]"
   ]
  },
  {
   "cell_type": "markdown",
   "id": "dee656f5",
   "metadata": {},
   "source": [
    "## 수학 관련 함수\n",
    "- 제곱근 , 절대값 , 삼각함수 , 지수로그함수, 반올림함수 등"
   ]
  },
  {
   "cell_type": "code",
   "execution_count": 166,
   "id": "c2e50258",
   "metadata": {},
   "outputs": [
    {
     "data": {
      "text/plain": [
       "array([[0.48079963, 1.1246814 , 0.46834529, 0.87542116],\n",
       "       [0.97711672, 0.66557839, 0.50577443, 0.04705627],\n",
       "       [1.87040554, 1.67152376, 1.06709766, 0.42029546],\n",
       "       [1.31315492, 0.9506259 , 0.41996431, 0.32295802],\n",
       "       [1.74133032, 0.13594917, 0.27376001, 0.54163117],\n",
       "       [2.03030155, 0.73523711, 1.00278886, 1.00270979],\n",
       "       [0.99418061, 0.64644231, 1.71898133, 0.04729817],\n",
       "       [1.68417355, 0.64776135, 0.74288956, 0.41804479]])"
      ]
     },
     "execution_count": 166,
     "metadata": {},
     "output_type": "execute_result"
    }
   ],
   "source": [
    "# 각 성분의 절대값 계산하기\n",
    "np.abs(data)"
   ]
  },
  {
   "cell_type": "code",
   "execution_count": 169,
   "id": "3327031c",
   "metadata": {},
   "outputs": [
    {
     "data": {
      "text/plain": [
       "array([[0.69339716, 1.06050997, 0.68435757, 0.93563944],\n",
       "       [0.98849214, 0.81582988, 0.7111782 , 0.21692457],\n",
       "       [1.36762771, 1.29287423, 1.03300419, 0.64830198],\n",
       "       [1.14592972, 0.97500046, 0.64804654, 0.56829396],\n",
       "       [1.31959476, 0.36871286, 0.5232208 , 0.73595596],\n",
       "       [1.4248865 , 0.85745968, 1.00139346, 1.00135398],\n",
       "       [0.99708606, 0.80401636, 1.31109928, 0.21748142],\n",
       "       [1.29775712, 0.80483623, 0.86191041, 0.64656384]])"
      ]
     },
     "execution_count": 169,
     "metadata": {},
     "output_type": "execute_result"
    }
   ],
   "source": [
    "# 각 성분의 제곱근 계산하기 : data**0.5 or sqrt\n",
    "np.sqrt(abs(data))"
   ]
  },
  {
   "cell_type": "code",
   "execution_count": 173,
   "id": "73df8482",
   "metadata": {},
   "outputs": [
    {
     "data": {
      "text/plain": [
       "array([[0.61828879, 0.32475592, 1.59734885, 2.39988581],\n",
       "       [2.65678493, 0.51397616, 0.60303838, 0.95403372],\n",
       "       [6.49092822, 5.32026845, 2.90693035, 0.65685272],\n",
       "       [3.71788486, 0.38649904, 1.52190724, 1.38120737],\n",
       "       [5.70492776, 0.872887  , 1.3148992 , 0.58179846],\n",
       "       [7.61638274, 2.08597653, 0.3668549 , 2.7256578 ],\n",
       "       [2.70250904, 0.52390636, 5.57884255, 0.95380296],\n",
       "       [0.18559776, 1.9112574 , 0.47573726, 1.51898872]])"
      ]
     },
     "execution_count": 173,
     "metadata": {},
     "output_type": "execute_result"
    }
   ],
   "source": [
    "# 지수함수\n",
    "# 각 성분을 자연대수 e의 지수로 삼는 값을 계산하기\n",
    "np.exp(data)"
   ]
  },
  {
   "cell_type": "markdown",
   "id": "0c3d6e10",
   "metadata": {},
   "source": [
    "## 로그함수\n",
    "- 자연로그 : log()\n",
    "- 상용로그: log10()\n",
    "- 밑이 2인 로그 : log2()"
   ]
  },
  {
   "cell_type": "code",
   "execution_count": 175,
   "id": "3086512f",
   "metadata": {},
   "outputs": [
    {
     "data": {
      "text/plain": [
       "array([[-7.32304676e-01,  1.17499794e-01, -7.58549460e-01,\n",
       "        -1.33050186e-01],\n",
       "       [-2.31491674e-02, -4.07098861e-01, -6.81664493e-01,\n",
       "        -3.05641122e+00],\n",
       "       [ 6.26155276e-01,  5.13735643e-01,  6.49424975e-02,\n",
       "        -8.66797336e-01],\n",
       "       [ 2.72432578e-01, -5.06346652e-02, -8.67585538e-01,\n",
       "        -1.13023293e+00],\n",
       "       [ 5.54649373e-01, -1.99547418e+00, -1.29550345e+00,\n",
       "        -6.13170005e-01],\n",
       "       [ 7.08184330e-01, -3.07562237e-01,  2.78498189e-03,\n",
       "         2.70612972e-03],\n",
       "       [-5.83638478e-03, -4.36271317e-01,  5.41731863e-01,\n",
       "        -3.05128374e+00],\n",
       "       [ 5.21274971e-01, -4.34232936e-01, -2.97207885e-01,\n",
       "        -8.72166689e-01]])"
      ]
     },
     "execution_count": 175,
     "metadata": {},
     "output_type": "execute_result"
    }
   ],
   "source": [
    "# 자연로그\n",
    "np.log(abs(data))"
   ]
  },
  {
   "cell_type": "code",
   "execution_count": 178,
   "id": "e67adae2",
   "metadata": {},
   "outputs": [
    {
     "data": {
      "text/plain": [
       "array([[-3.18035880e-01,  5.10295122e-02, -3.29433845e-01,\n",
       "        -5.77829614e-02],\n",
       "       [-1.00535556e-02, -1.76800789e-01, -2.96043128e-01,\n",
       "        -1.32738253e+00],\n",
       "       [ 2.71935781e-01,  2.23112555e-01,  2.82041683e-02,\n",
       "        -3.76445300e-01],\n",
       "       [ 1.18315965e-01, -2.19903557e-02, -3.76787612e-01,\n",
       "        -4.90853925e-01],\n",
       "       [ 2.40881162e-01, -8.66623425e-01, -5.62630000e-01,\n",
       "        -2.66296350e-01],\n",
       "       [ 3.07560547e-01, -1.33572582e-01,  1.20950227e-03,\n",
       "         1.17525721e-03],\n",
       "       [-2.53470971e-03, -1.89470225e-01,  2.35271159e-01,\n",
       "        -1.32515569e+00],\n",
       "       [ 2.26386843e-01, -1.88584968e-01, -1.29075745e-01,\n",
       "        -3.78777180e-01]])"
      ]
     },
     "execution_count": 178,
     "metadata": {},
     "output_type": "execute_result"
    }
   ],
   "source": [
    "# 상용로그\n",
    "np.log10(abs(data))"
   ]
  },
  {
   "cell_type": "code",
   "execution_count": 180,
   "id": "56092bfb",
   "metadata": {},
   "outputs": [
    {
     "data": {
      "text/plain": [
       "array([[-1.05649232e+00,  1.69516370e-01, -1.09435554e+00,\n",
       "        -1.91950843e-01],\n",
       "       [-3.33971890e-02, -5.87319508e-01, -9.83433984e-01,\n",
       "        -4.40946931e+00],\n",
       "       [ 9.03351111e-01,  7.41163864e-01,  9.36922191e-02,\n",
       "        -1.25052422e+00],\n",
       "       [ 3.93037130e-01, -7.30503803e-02, -1.25166135e+00,\n",
       "        -1.63058144e+00],\n",
       "       [ 8.00189900e-01, -2.87886070e+00, -1.86901640e+00,\n",
       "        -8.84617325e-01],\n",
       "       [ 1.02169402e+00, -4.43718514e-01,  4.01787956e-03,\n",
       "         3.90411993e-03],\n",
       "       [-8.42012338e-03, -6.29406465e-01,  7.81553872e-01,\n",
       "        -4.40207192e+00],\n",
       "       [ 7.52040815e-01, -6.26465704e-01, -4.28780342e-01,\n",
       "        -1.25827056e+00]])"
      ]
     },
     "execution_count": 180,
     "metadata": {},
     "output_type": "execute_result"
    }
   ],
   "source": [
    "np.log2(abs(data))"
   ]
  },
  {
   "cell_type": "markdown",
   "id": "10981081",
   "metadata": {},
   "source": [
    "## 각 성분의 부호 계산 : sign()\n",
    ": + 인 경우 1 , -인 경우는 -1"
   ]
  },
  {
   "cell_type": "code",
   "execution_count": 181,
   "id": "78b40df9",
   "metadata": {},
   "outputs": [
    {
     "data": {
      "text/plain": [
       "array([[-1., -1.,  1.,  1.],\n",
       "       [ 1., -1., -1., -1.],\n",
       "       [ 1.,  1.,  1., -1.],\n",
       "       [ 1., -1.,  1.,  1.],\n",
       "       [ 1., -1.,  1., -1.],\n",
       "       [ 1.,  1., -1.,  1.],\n",
       "       [ 1., -1.,  1., -1.],\n",
       "       [-1.,  1., -1.,  1.]])"
      ]
     },
     "execution_count": 181,
     "metadata": {},
     "output_type": "execute_result"
    }
   ],
   "source": [
    "np.sign(data)"
   ]
  },
  {
   "cell_type": "markdown",
   "id": "00760d65",
   "metadata": {},
   "source": [
    "## 반올림 함수\n",
    "np.floor()"
   ]
  },
  {
   "cell_type": "code",
   "execution_count": 182,
   "id": "622c0321",
   "metadata": {},
   "outputs": [
    {
     "data": {
      "text/plain": [
       "array([[-1., -2.,  0.,  0.],\n",
       "       [ 0., -1., -1., -1.],\n",
       "       [ 1.,  1.,  1., -1.],\n",
       "       [ 1., -1.,  0.,  0.],\n",
       "       [ 1., -1.,  0., -1.],\n",
       "       [ 2.,  0., -2.,  1.],\n",
       "       [ 0., -1.,  1., -1.],\n",
       "       [-2.,  0., -1.,  0.]])"
      ]
     },
     "execution_count": 182,
     "metadata": {},
     "output_type": "execute_result"
    }
   ],
   "source": [
    "np.floor(data)"
   ]
  },
  {
   "cell_type": "markdown",
   "id": "05845bb5",
   "metadata": {},
   "source": [
    "## NaN 여부 확인 "
   ]
  },
  {
   "cell_type": "code",
   "execution_count": 185,
   "id": "b6ce87fd",
   "metadata": {},
   "outputs": [
    {
     "data": {
      "text/plain": [
       "array([[False, False, False, False],\n",
       "       [False, False, False, False],\n",
       "       [False, False, False, False],\n",
       "       [False, False, False, False],\n",
       "       [False, False, False, False],\n",
       "       [False, False, False, False],\n",
       "       [False, False, False, False],\n",
       "       [False, False, False, False]])"
      ]
     },
     "execution_count": 185,
     "metadata": {},
     "output_type": "execute_result"
    }
   ],
   "source": [
    "# 각 성분이 NaN인 경우 True, 아닌 경우 False 를 반환\n",
    "np.isnan(data)"
   ]
  },
  {
   "cell_type": "code",
   "execution_count": 187,
   "id": "c5d86ad5",
   "metadata": {},
   "outputs": [
    {
     "name": "stderr",
     "output_type": "stream",
     "text": [
      "<ipython-input-187-93220a73000a>:2: RuntimeWarning: invalid value encountered in log\n",
      "  np.isnan(np.log(data))\n"
     ]
    },
    {
     "data": {
      "text/plain": [
       "array([[ True,  True, False, False],\n",
       "       [False,  True,  True,  True],\n",
       "       [False, False, False,  True],\n",
       "       [False,  True, False, False],\n",
       "       [False,  True, False,  True],\n",
       "       [False, False,  True, False],\n",
       "       [False,  True, False,  True],\n",
       "       [ True, False,  True, False]])"
      ]
     },
     "execution_count": 187,
     "metadata": {},
     "output_type": "execute_result"
    }
   ],
   "source": [
    "# 로그변환한 배열 중 NaN 확인\n",
    "np.isnan(np.log(data))"
   ]
  },
  {
   "cell_type": "markdown",
   "id": "b30e9d17",
   "metadata": {},
   "source": [
    "## 무한대(inf) 확인"
   ]
  },
  {
   "cell_type": "code",
   "execution_count": 190,
   "id": "97cc5138",
   "metadata": {},
   "outputs": [
    {
     "ename": "TypeError",
     "evalue": "'float' object is not callable",
     "output_type": "error",
     "traceback": [
      "\u001b[1;31m---------------------------------------------------------------------------\u001b[0m",
      "\u001b[1;31mTypeError\u001b[0m                                 Traceback (most recent call last)",
      "\u001b[1;32m<ipython-input-190-a29c0fe1c224>\u001b[0m in \u001b[0;36m<module>\u001b[1;34m\u001b[0m\n\u001b[0;32m      1\u001b[0m \u001b[1;31m# 각 성분이 무한대인 경우 True, 아닌 경우 False 를 출력\u001b[0m\u001b[1;33m\u001b[0m\u001b[1;33m\u001b[0m\u001b[1;33m\u001b[0m\u001b[0m\n\u001b[1;32m----> 2\u001b[1;33m \u001b[0mnp\u001b[0m\u001b[1;33m.\u001b[0m\u001b[0minf\u001b[0m\u001b[1;33m(\u001b[0m\u001b[0mdata\u001b[0m\u001b[1;33m)\u001b[0m\u001b[1;33m\u001b[0m\u001b[1;33m\u001b[0m\u001b[0m\n\u001b[0m",
      "\u001b[1;31mTypeError\u001b[0m: 'float' object is not callable"
     ]
    }
   ],
   "source": [
    "# 각 성분이 무한대인 경우 True, 아닌 경우 False 를 출력\n",
    "np.inf(data)"
   ]
  },
  {
   "cell_type": "markdown",
   "id": "280111a5",
   "metadata": {},
   "source": [
    "## 삼각함수"
   ]
  },
  {
   "cell_type": "code",
   "execution_count": 191,
   "id": "570f5b45",
   "metadata": {},
   "outputs": [
    {
     "data": {
      "text/plain": [
       "array([[ 0.88662539,  0.43146396,  0.89231646,  0.64067354],\n",
       "       [ 0.55941479,  0.78655975,  0.87479954,  0.99889306],\n",
       "       [-0.29514686, -0.10055719,  0.48266814,  0.91296842],\n",
       "       [ 0.25480052,  0.58117386,  0.91310349,  0.94830077],\n",
       "       [-0.16970862,  0.99077314,  0.96276117,  0.8568689 ],\n",
       "       [-0.44350471,  0.74167173,  0.53795346,  0.53802011],\n",
       "       [ 0.54518997,  0.79823182, -0.14764327,  0.99888165],\n",
       "       [-0.11313448,  0.7974366 ,  0.73651708,  0.91388445]])"
      ]
     },
     "execution_count": 191,
     "metadata": {},
     "output_type": "execute_result"
    }
   ],
   "source": [
    "np.cos(data)"
   ]
  },
  {
   "cell_type": "code",
   "execution_count": 192,
   "id": "f53bb462",
   "metadata": {},
   "outputs": [
    {
     "data": {
      "text/plain": [
       "array([[-0.52162762, -2.09085871,  0.50588597,  1.19844717],\n",
       "       [ 1.48170533, -0.78508234, -0.55382409, -0.04709103],\n",
       "       [-3.23720847, -9.8941833 ,  1.81450414, -0.44692698],\n",
       "       [ 3.79510077, -1.40023405,  0.44652974,  0.3346755 ],\n",
       "       [-5.80697833, -0.13679296,  0.28081037, -0.60164907],\n",
       "       [-2.02088507,  0.90439342, -1.56700273,  1.56672954],\n",
       "       [ 1.53765213, -0.7546058 , -6.69885394, -0.04733347],\n",
       "       [ 8.7822886 ,  0.75667801, -0.91840225,  0.44422946]])"
      ]
     },
     "execution_count": 192,
     "metadata": {},
     "output_type": "execute_result"
    }
   ],
   "source": [
    "np.tan(data)"
   ]
  },
  {
   "cell_type": "code",
   "execution_count": 193,
   "id": "90851220",
   "metadata": {},
   "outputs": [
    {
     "data": {
      "text/plain": [
       "array([[-0.46248829, -0.90213017,  0.45141038,  0.76781339],\n",
       "       [ 0.82888787, -0.61751417, -0.48448506, -0.0470389 ],\n",
       "       [ 0.9554519 ,  0.99493128,  0.87580333, -0.40803022],\n",
       "       [ 0.96699364, -0.81377942,  0.40772787,  0.31737304],\n",
       "       [ 0.98549428, -0.13553079,  0.27035333, -0.51553438],\n",
       "       [ 0.89627204,  0.67076303, -0.84297454,  0.842932  ],\n",
       "       [ 0.83831253, -0.60235036,  0.98904068, -0.04728053],\n",
       "       [-0.99357968,  0.60340274, -0.67641894,  0.4059744 ]])"
      ]
     },
     "execution_count": 193,
     "metadata": {},
     "output_type": "execute_result"
    }
   ],
   "source": [
    "np.sin(data)"
   ]
  },
  {
   "cell_type": "markdown",
   "id": "f30ad7b8",
   "metadata": {},
   "source": [
    "## Sums , products , differences 함수"
   ]
  },
  {
   "cell_type": "code",
   "execution_count": 194,
   "id": "7091e484",
   "metadata": {},
   "outputs": [
    {
     "data": {
      "text/plain": [
       "9.552309975028882"
      ]
     },
     "execution_count": 194,
     "metadata": {},
     "output_type": "execute_result"
    }
   ],
   "source": [
    "# 전체 성분의 합을 다 더함\n",
    "np.sum(data)"
   ]
  },
  {
   "cell_type": "code",
   "execution_count": 195,
   "id": "6809249b",
   "metadata": {},
   "outputs": [
    {
     "data": {
      "text/plain": [
       "array([-0.26171458, -0.24129237,  4.18873151,  1.10545135,  1.33750998,\n",
       "        2.76545959,  2.01942146, -1.36125697])"
      ]
     },
     "execution_count": 195,
     "metadata": {},
     "output_type": "execute_result"
    }
   ],
   "source": [
    "np.sum(data , axis = 1)\n",
    "# 같은 행을 기준으로 열의 합을 구한 결과\n",
    "# [i , :]"
   ]
  },
  {
   "cell_type": "code",
   "execution_count": 204,
   "id": "c5485466",
   "metadata": {},
   "outputs": [
    {
     "data": {
      "text/plain": [
       "array([ 6.76151649, -0.46875496,  1.69669574,  1.5628527 ])"
      ]
     },
     "execution_count": 204,
     "metadata": {},
     "output_type": "execute_result"
    }
   ],
   "source": [
    "np.sum(data , axis = 0) # 행의 합 => 동일한 열의 요소들을 합한 결과(axis=0)\n",
    "# 같은 열을 갖는 행의 요소들을 합한 결과 (ex: 1열의 합 , 2열의 합)\n",
    "# [ : ,i] 의 결과"
   ]
  },
  {
   "cell_type": "markdown",
   "id": "190b08d7",
   "metadata": {},
   "source": [
    "***평균, 표준편차, 분산**"
   ]
  },
  {
   "cell_type": "code",
   "execution_count": 205,
   "id": "6a46e493",
   "metadata": {},
   "outputs": [
    {
     "data": {
      "text/plain": [
       "0.29850968671965256"
      ]
     },
     "execution_count": 205,
     "metadata": {},
     "output_type": "execute_result"
    }
   ],
   "source": [
    "# 전체 성분의 평균 계산\n",
    "np.mean(data)"
   ]
  },
  {
   "cell_type": "code",
   "execution_count": 208,
   "id": "c108d0ed",
   "metadata": {},
   "outputs": [
    {
     "data": {
      "text/plain": [
       "array([-0.06542864, -0.06032309,  1.04718288,  0.27636284,  0.33437749,\n",
       "        0.6913649 ,  0.50485537, -0.34031424])"
      ]
     },
     "execution_count": 208,
     "metadata": {},
     "output_type": "execute_result"
    }
   ],
   "source": [
    "# 행별 평균 계산\n",
    "np.mean(data,axis=1)"
   ]
  },
  {
   "cell_type": "code",
   "execution_count": 209,
   "id": "638f2e30",
   "metadata": {},
   "outputs": [
    {
     "data": {
      "text/plain": [
       "array([ 0.84518956, -0.05859437,  0.21208697,  0.19535659])"
      ]
     },
     "execution_count": 209,
     "metadata": {},
     "output_type": "execute_result"
    }
   ],
   "source": [
    "# 열별 평균 계산\n",
    "np.mean(data,axis=0)"
   ]
  },
  {
   "cell_type": "code",
   "execution_count": 210,
   "id": "3b91a237",
   "metadata": {},
   "outputs": [
    {
     "data": {
      "text/plain": [
       "0.9721340164832069"
      ]
     },
     "execution_count": 210,
     "metadata": {},
     "output_type": "execute_result"
    }
   ],
   "source": [
    "# 전체 성분의 표준편차 계산\n",
    "np.std(data)"
   ]
  },
  {
   "cell_type": "code",
   "execution_count": 211,
   "id": "5ad274a2",
   "metadata": {},
   "outputs": [
    {
     "data": {
      "text/plain": [
       "array([0.78496217, 0.6405502 , 0.89741105, 0.80672667, 0.86194389,\n",
       "       1.09107387, 0.91431681, 0.93800674])"
      ]
     },
     "execution_count": 211,
     "metadata": {},
     "output_type": "execute_result"
    }
   ],
   "source": [
    "# 행별 표준편차 계산\n",
    "np.std(data, axis=1)"
   ]
  },
  {
   "cell_type": "code",
   "execution_count": 212,
   "id": "7c1e51d4",
   "metadata": {},
   "outputs": [
    {
     "data": {
      "text/plain": [
       "array([1.20795003, 0.92023475, 0.86730093, 0.52678303])"
      ]
     },
     "execution_count": 212,
     "metadata": {},
     "output_type": "execute_result"
    }
   ],
   "source": [
    "# 열별 표준편차 계산\n",
    "np.std(data ,axis=0)"
   ]
  },
  {
   "cell_type": "markdown",
   "id": "77e4e24e",
   "metadata": {},
   "source": [
    "**최대값,최소값**"
   ]
  },
  {
   "cell_type": "code",
   "execution_count": 213,
   "id": "ff1e333a",
   "metadata": {},
   "outputs": [
    {
     "data": {
      "text/plain": [
       "array([-1.68417355, -1.1246814 , -1.00278886, -0.54163117])"
      ]
     },
     "execution_count": 213,
     "metadata": {},
     "output_type": "execute_result"
    }
   ],
   "source": [
    "# 열방향에서 최소값\n",
    "np.min(data,axis=0)"
   ]
  },
  {
   "cell_type": "markdown",
   "id": "c10f48c1",
   "metadata": {},
   "source": [
    "**최대값 , 최소값 위치 인덱스 : argmax() , argmin()**"
   ]
  },
  {
   "cell_type": "code",
   "execution_count": 218,
   "id": "4a5e5d56",
   "metadata": {},
   "outputs": [
    {
     "data": {
      "text/plain": [
       "array([[-1.24209861,  1.68727058,  0.73446497],\n",
       "       [ 0.09183673,  0.64897538, -0.35057747],\n",
       "       [-0.57684148,  1.41468566,  0.22163523],\n",
       "       [-0.1272199 , -2.14366547,  0.19828539],\n",
       "       [-1.38446531, -0.52695322, -1.22141301]])"
      ]
     },
     "execution_count": 218,
     "metadata": {},
     "output_type": "execute_result"
    }
   ],
   "source": [
    "data=np.random.randn(15).reshape(5,3)\n",
    "data"
   ]
  },
  {
   "cell_type": "code",
   "execution_count": 221,
   "id": "e621f701",
   "metadata": {},
   "outputs": [
    {
     "data": {
      "text/plain": [
       "1"
      ]
     },
     "execution_count": 221,
     "metadata": {},
     "output_type": "execute_result"
    }
   ],
   "source": [
    "# 전체 성분의 최소값 , 최대값이 위치한 인덱스를 반환(argmin, argmax)\n",
    "# 2차원 행렬이지만 1차원처럼 인덱스를 계산해서 부여됨\n",
    "np.argmax(data)"
   ]
  },
  {
   "cell_type": "code",
   "execution_count": 222,
   "id": "0a9fa980",
   "metadata": {},
   "outputs": [
    {
     "data": {
      "text/plain": [
       "1.6872705843369404"
      ]
     },
     "execution_count": 222,
     "metadata": {},
     "output_type": "execute_result"
    }
   ],
   "source": [
    "np.max(data)"
   ]
  },
  {
   "cell_type": "code",
   "execution_count": 223,
   "id": "e6cd5bd6",
   "metadata": {},
   "outputs": [
    {
     "data": {
      "text/plain": [
       "10"
      ]
     },
     "execution_count": 223,
     "metadata": {},
     "output_type": "execute_result"
    }
   ],
   "source": [
    "np.argmin(data)"
   ]
  },
  {
   "cell_type": "code",
   "execution_count": 224,
   "id": "e1223aaf",
   "metadata": {},
   "outputs": [
    {
     "data": {
      "text/plain": [
       "-2.1436654697769506"
      ]
     },
     "execution_count": 224,
     "metadata": {},
     "output_type": "execute_result"
    }
   ],
   "source": [
    "np.min(data)"
   ]
  },
  {
   "cell_type": "code",
   "execution_count": 225,
   "id": "a4b9a962",
   "metadata": {},
   "outputs": [
    {
     "data": {
      "text/plain": [
       "array([1, 1, 1, 2, 1], dtype=int64)"
      ]
     },
     "execution_count": 225,
     "metadata": {},
     "output_type": "execute_result"
    }
   ],
   "source": [
    "# 행방향으로 최대값이 위치한 인덱스 반환\n",
    "np.argmax(data, axis=1)"
   ]
  },
  {
   "cell_type": "markdown",
   "id": "8394b34c",
   "metadata": {},
   "source": [
    "**누적합(cumsum) , 누적곱(cumprod)**"
   ]
  },
  {
   "cell_type": "code",
   "execution_count": 226,
   "id": "1152808a",
   "metadata": {},
   "outputs": [
    {
     "data": {
      "text/plain": [
       "array([-1.24209861,  0.44517197,  1.17963695,  1.27147367,  1.92044906,\n",
       "        1.56987159,  0.99303011,  2.40771578,  2.62935101,  2.50213111,\n",
       "        0.35846564,  0.55675103, -0.82771428, -1.3546675 , -2.57608051])"
      ]
     },
     "execution_count": 226,
     "metadata": {},
     "output_type": "execute_result"
    }
   ],
   "source": [
    "np.cumsum(data)"
   ]
  },
  {
   "cell_type": "code",
   "execution_count": 227,
   "id": "d735a948",
   "metadata": {},
   "outputs": [
    {
     "data": {
      "text/plain": [
       "array([[-1.24209861,  1.68727058,  0.73446497],\n",
       "       [-1.15026188,  2.33624597,  0.38388751],\n",
       "       [-1.72710336,  3.75093163,  0.60552274],\n",
       "       [-1.85432326,  1.60726616,  0.80380813],\n",
       "       [-3.23878857,  1.08031294, -0.41760488]])"
      ]
     },
     "execution_count": 227,
     "metadata": {},
     "output_type": "execute_result"
    }
   ],
   "source": [
    "# 열기준 누적합\n",
    "np.cumsum(data,axis=0)"
   ]
  },
  {
   "cell_type": "code",
   "execution_count": 228,
   "id": "a0d85d18",
   "metadata": {},
   "outputs": [
    {
     "data": {
      "text/plain": [
       "array([-1.24209861e+00, -2.09575645e+00, -1.53925970e+00, -1.41360574e-01,\n",
       "       -9.17395328e-02,  3.21618129e-02, -1.85522677e-02, -2.62456272e-02,\n",
       "       -5.81695571e-03,  7.40032517e-04, -1.58638215e-03, -3.14556400e-04,\n",
       "        4.35492423e-04, -2.29484133e-04,  2.80294907e-04])"
      ]
     },
     "execution_count": 228,
     "metadata": {},
     "output_type": "execute_result"
    }
   ],
   "source": [
    "np.cumprod(data)"
   ]
  },
  {
   "cell_type": "code",
   "execution_count": 229,
   "id": "1623e57c",
   "metadata": {},
   "outputs": [
    {
     "data": {
      "text/plain": [
       "array([[-1.24209861, -2.09575645, -1.5392597 ],\n",
       "       [ 0.09183673,  0.05959978, -0.02089434],\n",
       "       [-0.57684148, -0.81604937, -0.18086529],\n",
       "       [-0.1272199 ,  0.2727169 ,  0.05407578],\n",
       "       [-1.38446531,  0.72954845, -0.89107997]])"
      ]
     },
     "execution_count": 229,
     "metadata": {},
     "output_type": "execute_result"
    }
   ],
   "source": [
    "np.cumprod(data,axis=1)"
   ]
  },
  {
   "cell_type": "code",
   "execution_count": 231,
   "id": "6fb25020",
   "metadata": {},
   "outputs": [
    {
     "data": {
      "text/plain": [
       "array([[-1.24209861,  0.73446497,  1.68727058],\n",
       "       [-0.35057747,  0.09183673,  0.64897538],\n",
       "       [-0.57684148,  0.22163523,  1.41468566],\n",
       "       [-2.14366547, -0.1272199 ,  0.19828539],\n",
       "       [-1.38446531, -1.22141301, -0.52695322]])"
      ]
     },
     "execution_count": 231,
     "metadata": {},
     "output_type": "execute_result"
    }
   ],
   "source": [
    "# 전체 성분에 대해서 오름차순으로 정렬\n",
    "np.sort(data)"
   ]
  },
  {
   "cell_type": "code",
   "execution_count": 234,
   "id": "5d228ea3",
   "metadata": {},
   "outputs": [
    {
     "data": {
      "text/plain": [
       "array([[-1.38446531, -1.22141301, -0.52695322],\n",
       "       [-2.14366547, -0.1272199 ,  0.19828539],\n",
       "       [-0.57684148,  0.22163523,  1.41468566],\n",
       "       [-0.35057747,  0.09183673,  0.64897538],\n",
       "       [-1.24209861,  0.73446497,  1.68727058]])"
      ]
     },
     "execution_count": 234,
     "metadata": {},
     "output_type": "execute_result"
    }
   ],
   "source": [
    "# 전체 성분에 대해서 [::-1]를 적용 : 마지막행부터 정렬\n",
    "\n",
    "# 내림차순이 아니라 행의 순서가 바뀐 상태로 정렬하는것이다\n",
    "\n",
    "np.sort(data)[::-1]"
   ]
  },
  {
   "cell_type": "code",
   "execution_count": 237,
   "id": "939ca23a",
   "metadata": {},
   "outputs": [
    {
     "data": {
      "text/plain": [
       "array([[-1.38446531, -2.14366547, -1.22141301],\n",
       "       [-1.24209861, -0.52695322, -0.35057747],\n",
       "       [-0.57684148,  0.64897538,  0.19828539],\n",
       "       [-0.1272199 ,  1.41468566,  0.22163523],\n",
       "       [ 0.09183673,  1.68727058,  0.73446497]])"
      ]
     },
     "execution_count": 237,
     "metadata": {},
     "output_type": "execute_result"
    }
   ],
   "source": [
    "# 열방향으로 오름차순 => 열 단위로 오름차순\n",
    "np.sort(data , axis=0)"
   ]
  },
  {
   "cell_type": "code",
   "execution_count": 238,
   "id": "294a1151",
   "metadata": {},
   "outputs": [
    {
     "data": {
      "text/plain": [
       "array([[-1.24209861,  0.73446497,  1.68727058],\n",
       "       [-0.35057747,  0.09183673,  0.64897538],\n",
       "       [-0.57684148,  0.22163523,  1.41468566],\n",
       "       [-2.14366547, -0.1272199 ,  0.19828539],\n",
       "       [-1.38446531, -1.22141301, -0.52695322]])"
      ]
     },
     "execution_count": 238,
     "metadata": {},
     "output_type": "execute_result"
    }
   ],
   "source": [
    "# 행방향으로 오름차순 \n",
    "np.sort(data, axis=1)"
   ]
  },
  {
   "cell_type": "markdown",
   "id": "a9965e6a",
   "metadata": {},
   "source": [
    "**2개의 array에 적용되는 함수**"
   ]
  },
  {
   "cell_type": "code",
   "execution_count": 241,
   "id": "d1b98687",
   "metadata": {},
   "outputs": [],
   "source": [
    "data1 = np.random.randn(5,3)\n",
    "data2 = np.random.randn(5,3)"
   ]
  },
  {
   "cell_type": "code",
   "execution_count": 243,
   "id": "0e9993f3",
   "metadata": {},
   "outputs": [
    {
     "name": "stdout",
     "output_type": "stream",
     "text": [
      "[[-0.11903755 -0.6479789  -1.4032977 ]\n",
      " [ 0.87060038 -1.92358833  1.92927202]\n",
      " [-1.92281792 -1.57826989  0.18540859]\n",
      " [-0.42392959  1.34317205 -1.06888325]\n",
      " [ 0.38260439  1.40525337 -0.67316469]]\n",
      "[[-2.30951148 -0.72562586 -1.00994351]\n",
      " [ 0.03733175  0.76303442  1.30353841]\n",
      " [-1.29916335 -0.43589875  1.19180491]\n",
      " [ 1.65704078 -0.98327379 -0.03446714]\n",
      " [ 0.23837587 -0.01278068 -0.19486968]]\n"
     ]
    }
   ],
   "source": [
    "print(data1)\n",
    "print(data2)"
   ]
  },
  {
   "cell_type": "code",
   "execution_count": 244,
   "id": "527d1fb0",
   "metadata": {},
   "outputs": [
    {
     "data": {
      "text/plain": [
       "array([[-2.42854904, -1.37360476, -2.41324121],\n",
       "       [ 0.90793213, -1.1605539 ,  3.23281043],\n",
       "       [-3.22198126, -2.01416864,  1.3772135 ],\n",
       "       [ 1.23311118,  0.35989826, -1.10335039],\n",
       "       [ 0.62098026,  1.39247269, -0.86803438]])"
      ]
     },
     "execution_count": 244,
     "metadata": {},
     "output_type": "execute_result"
    }
   ],
   "source": [
    "# 두 배열의 합\n",
    "np.add(data1,data2)"
   ]
  },
  {
   "cell_type": "code",
   "execution_count": 248,
   "id": "bf45f648",
   "metadata": {},
   "outputs": [
    {
     "data": {
      "text/plain": [
       "array([[ 2.19047393,  0.07764696, -0.39335419],\n",
       "       [ 0.83326862, -2.68662275,  0.62573362],\n",
       "       [-0.62365457, -1.14237114, -1.00639632],\n",
       "       [-2.08097037,  2.32644585, -1.03441611],\n",
       "       [ 0.14422853,  1.41803405, -0.47829501]])"
      ]
     },
     "execution_count": 248,
     "metadata": {},
     "output_type": "execute_result"
    }
   ],
   "source": [
    "# 두 배열의 차\n",
    "np.subtract(data1,data2)"
   ]
  },
  {
   "cell_type": "code",
   "execution_count": 250,
   "id": "df9ae706",
   "metadata": {},
   "outputs": [
    {
     "data": {
      "text/plain": [
       "array([[ 0.2749186 ,  0.47019025,  1.41725141],\n",
       "       [ 0.03250104, -1.4677641 ,  2.51488017],\n",
       "       [ 2.49805456,  0.68796587,  0.22097087],\n",
       "       [-0.70246862, -1.32070588,  0.03684135],\n",
       "       [ 0.09120366, -0.01796009,  0.13117939]])"
      ]
     },
     "execution_count": 250,
     "metadata": {},
     "output_type": "execute_result"
    }
   ],
   "source": [
    "# 두 배열의 곱\n",
    "np.multiply(data1,data2)"
   ]
  },
  {
   "cell_type": "code",
   "execution_count": 251,
   "id": "8b9f2c55",
   "metadata": {},
   "outputs": [
    {
     "data": {
      "text/plain": [
       "array([[ 5.15423083e-02,  8.92993124e-01,  1.38948138e+00],\n",
       "       [ 2.33206403e+01, -2.52097189e+00,  1.48002699e+00],\n",
       "       [ 1.48004323e+00,  3.62072591e+00,  1.55569580e-01],\n",
       "       [-2.55835342e-01, -1.36602039e+00,  3.10116612e+01],\n",
       "       [ 1.60504666e+00, -1.09951381e+02,  3.45443524e+00]])"
      ]
     },
     "execution_count": 251,
     "metadata": {},
     "output_type": "execute_result"
    }
   ],
   "source": [
    "# 두 배열의 나눗셈\n",
    "np.divide(data1,data2)"
   ]
  },
  {
   "cell_type": "markdown",
   "id": "c5eac811",
   "metadata": {},
   "source": [
    "**최대값 또는 최소값 계산 : maximum() , minimum()**"
   ]
  },
  {
   "cell_type": "code",
   "execution_count": 252,
   "id": "279a69b8",
   "metadata": {},
   "outputs": [
    {
     "data": {
      "text/plain": [
       "array([[-0.11903755, -0.6479789 , -1.00994351],\n",
       "       [ 0.87060038,  0.76303442,  1.92927202],\n",
       "       [-1.29916335, -0.43589875,  1.19180491],\n",
       "       [ 1.65704078,  1.34317205, -0.03446714],\n",
       "       [ 0.38260439,  1.40525337, -0.19486968]])"
      ]
     },
     "execution_count": 252,
     "metadata": {},
     "output_type": "execute_result"
    }
   ],
   "source": [
    "# 두 배열의 같은 위치를 비교해 최대 또는 최소 구하기\n",
    "np.maximum(data1 , data2)"
   ]
  },
  {
   "cell_type": "code",
   "execution_count": 253,
   "id": "e120d6cc",
   "metadata": {},
   "outputs": [
    {
     "data": {
      "text/plain": [
       "array([[-2.30951148, -0.72562586, -1.4032977 ],\n",
       "       [ 0.03733175, -1.92358833,  1.30353841],\n",
       "       [-1.92281792, -1.57826989,  0.18540859],\n",
       "       [-0.42392959, -0.98327379, -1.06888325],\n",
       "       [ 0.23837587, -0.01278068, -0.67316469]])"
      ]
     },
     "execution_count": 253,
     "metadata": {},
     "output_type": "execute_result"
    }
   ],
   "source": [
    "np.minimum(data1, data2)"
   ]
  },
  {
   "cell_type": "markdown",
   "id": "d15dc64c",
   "metadata": {},
   "source": [
    "**ptp : 최소와 최대의 차이 (peak to peak)**\n"
   ]
  },
  {
   "cell_type": "markdown",
   "id": "6d887bc1",
   "metadata": {},
   "source": [
    "**x.sort() : 최소 -> 최대로 정렬(오름차순)**\n",
    "\n",
    "**x.argsort():정렬된 인덱스찾기**"
   ]
  },
  {
   "cell_type": "code",
   "execution_count": 4,
   "id": "c2b8a395",
   "metadata": {},
   "outputs": [
    {
     "data": {
      "text/plain": [
       "array([0, 2], dtype=int64)"
      ]
     },
     "execution_count": 4,
     "metadata": {},
     "output_type": "execute_result"
    }
   ],
   "source": [
    "# np.searchsorted(a,b) -> b를 a 자리에 넣을 때 sort 된 상태로 하는 자리값\n",
    "a = np.array([10,20,30])\n",
    "b = np.array([-5,25])\n",
    "np.searchsorted(a,b)"
   ]
  },
  {
   "cell_type": "markdown",
   "id": "eb40d977",
   "metadata": {},
   "source": [
    "**np.repeat(a,2) => 숫자를 가져와 반복**"
   ]
  },
  {
   "cell_type": "code",
   "execution_count": 6,
   "id": "9bd6ba69",
   "metadata": {},
   "outputs": [
    {
     "data": {
      "text/plain": [
       "array([1, 1, 2, 2, 3, 3, 4, 4])"
      ]
     },
     "execution_count": 6,
     "metadata": {},
     "output_type": "execute_result"
    }
   ],
   "source": [
    "a = np.array([[1,2] , [3,4]])\n",
    "np.repeat(a,2)"
   ]
  },
  {
   "cell_type": "code",
   "execution_count": 8,
   "id": "2ab5f4c8",
   "metadata": {},
   "outputs": [
    {
     "data": {
      "text/plain": [
       "array([[1, 2],\n",
       "       [1, 2],\n",
       "       [3, 4],\n",
       "       [3, 4]])"
      ]
     },
     "execution_count": 8,
     "metadata": {},
     "output_type": "execute_result"
    }
   ],
   "source": [
    "np.repeat(a,2, axis=0)\n",
    "# 가로 방향 -> 행을 추가하여 반복"
   ]
  },
  {
   "cell_type": "code",
   "execution_count": 10,
   "id": "33398baf",
   "metadata": {},
   "outputs": [
    {
     "data": {
      "text/plain": [
       "array([[1, 1, 2, 2],\n",
       "       [3, 3, 4, 4]])"
      ]
     },
     "execution_count": 10,
     "metadata": {},
     "output_type": "execute_result"
    }
   ],
   "source": [
    "np.repeat(a,2,axis=1)\n",
    "# 1차원 방향으로 반복"
   ]
  },
  {
   "cell_type": "code",
   "execution_count": 12,
   "id": "d255173e",
   "metadata": {},
   "outputs": [
    {
     "data": {
      "text/plain": [
       "array([[1, 2],\n",
       "       [3, 4],\n",
       "       [3, 4]])"
      ]
     },
     "execution_count": 12,
     "metadata": {},
     "output_type": "execute_result"
    }
   ],
   "source": [
    "np.repeat(a, [1,2] , axis= 0)\n",
    "# [1,2] => 첫번째 : 1번 반복 , 두번째 : 2번 반복"
   ]
  },
  {
   "cell_type": "code",
   "execution_count": 13,
   "id": "0c1cda3e",
   "metadata": {},
   "outputs": [
    {
     "data": {
      "text/plain": [
       "array([[1, 2, 2],\n",
       "       [3, 4, 4]])"
      ]
     },
     "execution_count": 13,
     "metadata": {},
     "output_type": "execute_result"
    }
   ],
   "source": [
    "np.repeat(a,[1,2] , axis=1)\n"
   ]
  },
  {
   "cell_type": "code",
   "execution_count": 29,
   "id": "8db91ed6",
   "metadata": {},
   "outputs": [],
   "source": [
    "# np.concatenate() : 합치기\n",
    "a = np.array([[1], [2], [3]])\n",
    "b = np.array([[4],[5],[6]])"
   ]
  },
  {
   "cell_type": "code",
   "execution_count": 30,
   "id": "e3303f8d",
   "metadata": {},
   "outputs": [
    {
     "data": {
      "text/plain": [
       "array([[1],\n",
       "       [2],\n",
       "       [3],\n",
       "       [4],\n",
       "       [5],\n",
       "       [6]])"
      ]
     },
     "execution_count": 30,
     "metadata": {},
     "output_type": "execute_result"
    }
   ],
   "source": [
    "np.concatenate((a,b)) # tuple 형식\n",
    "# => np.concatenate((a,b), axis=0) 0차원 방향으로 연결하는 것과 같다"
   ]
  },
  {
   "cell_type": "code",
   "execution_count": 31,
   "id": "0fe773fa",
   "metadata": {},
   "outputs": [
    {
     "data": {
      "text/plain": [
       "array([[1, 4],\n",
       "       [2, 5],\n",
       "       [3, 6]])"
      ]
     },
     "execution_count": 31,
     "metadata": {},
     "output_type": "execute_result"
    }
   ],
   "source": [
    "np.concatenate((a,b) , axis=1)"
   ]
  },
  {
   "cell_type": "markdown",
   "id": "be2d9b86",
   "metadata": {},
   "source": [
    "**np.hstack: 가로 방향 연결**\n",
    "\n",
    "**np.vstack : 세로 방향 연결**"
   ]
  },
  {
   "cell_type": "code",
   "execution_count": 32,
   "id": "597b44da",
   "metadata": {},
   "outputs": [
    {
     "data": {
      "text/plain": [
       "array([[1],\n",
       "       [2],\n",
       "       [3],\n",
       "       [4],\n",
       "       [5],\n",
       "       [6]])"
      ]
     },
     "execution_count": 32,
     "metadata": {},
     "output_type": "execute_result"
    }
   ],
   "source": [
    "np.vstack((a,b))"
   ]
  },
  {
   "cell_type": "code",
   "execution_count": 33,
   "id": "5f310e59",
   "metadata": {},
   "outputs": [
    {
     "data": {
      "text/plain": [
       "array([[1, 4],\n",
       "       [2, 5],\n",
       "       [3, 6]])"
      ]
     },
     "execution_count": 33,
     "metadata": {},
     "output_type": "execute_result"
    }
   ],
   "source": [
    "np.hstack((a,b))"
   ]
  },
  {
   "cell_type": "markdown",
   "id": "38a2338a",
   "metadata": {},
   "source": [
    "**np.hsplit : 가로 방향 나누기**\n",
    "\n",
    "**np.vsplit : 세로 방향 나누기**"
   ]
  },
  {
   "cell_type": "code",
   "execution_count": 34,
   "id": "cb6f1cb4",
   "metadata": {},
   "outputs": [],
   "source": [
    "a = np.array([[10.,20.,30.],\n",
    "             [40.,50.,60.]])"
   ]
  },
  {
   "cell_type": "code",
   "execution_count": 36,
   "id": "b591f727",
   "metadata": {},
   "outputs": [
    {
     "data": {
      "text/plain": [
       "[array([[10.],\n",
       "        [40.]]),\n",
       " array([[20.],\n",
       "        [50.]]),\n",
       " array([[30.],\n",
       "        [60.]])]"
      ]
     },
     "execution_count": 36,
     "metadata": {},
     "output_type": "execute_result"
    }
   ],
   "source": [
    "np.hsplit(a,3)"
   ]
  },
  {
   "cell_type": "code",
   "execution_count": 37,
   "id": "2e4741e4",
   "metadata": {},
   "outputs": [
    {
     "data": {
      "text/plain": [
       "[array([[10., 20., 30.]]), array([[40., 50., 60.]])]"
      ]
     },
     "execution_count": 37,
     "metadata": {},
     "output_type": "execute_result"
    }
   ],
   "source": [
    "np.vsplit(a,2)"
   ]
  },
  {
   "cell_type": "markdown",
   "id": "53460307",
   "metadata": {},
   "source": [
    "**transpose() : 가로/세로를 바꿈**"
   ]
  },
  {
   "cell_type": "code",
   "execution_count": 38,
   "id": "7f965402",
   "metadata": {},
   "outputs": [
    {
     "data": {
      "text/plain": [
       "array([[10., 20., 30.],\n",
       "       [40., 50., 60.]])"
      ]
     },
     "execution_count": 38,
     "metadata": {},
     "output_type": "execute_result"
    }
   ],
   "source": [
    "a"
   ]
  },
  {
   "cell_type": "code",
   "execution_count": 39,
   "id": "0fe577cc",
   "metadata": {},
   "outputs": [
    {
     "data": {
      "text/plain": [
       "array([[10., 40.],\n",
       "       [20., 50.],\n",
       "       [30., 60.]])"
      ]
     },
     "execution_count": 39,
     "metadata": {},
     "output_type": "execute_result"
    }
   ],
   "source": [
    "a.transpose()"
   ]
  },
  {
   "cell_type": "markdown",
   "id": "ec7ea2c4",
   "metadata": {},
   "source": [
    "**ravel() : 2차원의 함수를 1차원으로 바꿈**"
   ]
  },
  {
   "cell_type": "code",
   "execution_count": 40,
   "id": "bd4e5f59",
   "metadata": {},
   "outputs": [
    {
     "data": {
      "text/plain": [
       "array([10., 20., 30., 40., 50., 60.])"
      ]
     },
     "execution_count": 40,
     "metadata": {},
     "output_type": "execute_result"
    }
   ],
   "source": [
    "a.ravel()"
   ]
  },
  {
   "cell_type": "code",
   "execution_count": 41,
   "id": "d00a9ec0",
   "metadata": {},
   "outputs": [
    {
     "data": {
      "text/plain": [
       "array([10., 20., 30., 40., 50., 60.])"
      ]
     },
     "execution_count": 41,
     "metadata": {},
     "output_type": "execute_result"
    }
   ],
   "source": [
    "a.reshape(-1)"
   ]
  },
  {
   "cell_type": "code",
   "execution_count": 43,
   "id": "b59a06af",
   "metadata": {},
   "outputs": [
    {
     "data": {
      "text/plain": [
       "array([10., 20., 30., 40., 50., 60.])"
      ]
     },
     "execution_count": 43,
     "metadata": {},
     "output_type": "execute_result"
    }
   ],
   "source": [
    "a.ravel(order='c') # c-style : row major : 가로방향 중심"
   ]
  },
  {
   "cell_type": "code",
   "execution_count": 45,
   "id": "358ea2aa",
   "metadata": {},
   "outputs": [
    {
     "data": {
      "text/plain": [
       "array([10., 40., 20., 50., 30., 60.])"
      ]
     },
     "execution_count": 45,
     "metadata": {},
     "output_type": "execute_result"
    }
   ],
   "source": [
    "a.ravel(order='f') # f-style : fortran-style : column major 세로방향 중심"
   ]
  },
  {
   "cell_type": "code",
   "execution_count": 47,
   "id": "72dd71f8",
   "metadata": {},
   "outputs": [
    {
     "data": {
      "text/plain": [
       "array([10., 20., 30., 40., 50., 60.])"
      ]
     },
     "execution_count": 47,
     "metadata": {},
     "output_type": "execute_result"
    }
   ],
   "source": [
    "# a.flatten() : 한줄로 바꾸기\n",
    "a.flatten()"
   ]
  },
  {
   "cell_type": "code",
   "execution_count": 53,
   "id": "790583a6",
   "metadata": {},
   "outputs": [
    {
     "data": {
      "text/plain": [
       "array([[1, 2, 3]])"
      ]
     },
     "execution_count": 53,
     "metadata": {},
     "output_type": "execute_result"
    }
   ],
   "source": [
    "# a.squeeze() : 필요한 차원만 남기고 압축\n",
    "a = np.array([[1,2,3]])\n",
    "a"
   ]
  },
  {
   "cell_type": "code",
   "execution_count": 54,
   "id": "8689538b",
   "metadata": {},
   "outputs": [],
   "source": [
    "b=a.squeeze()"
   ]
  },
  {
   "cell_type": "code",
   "execution_count": 55,
   "id": "e38123ef",
   "metadata": {},
   "outputs": [
    {
     "data": {
      "text/plain": [
       "array([1, 2, 3])"
      ]
     },
     "execution_count": 55,
     "metadata": {},
     "output_type": "execute_result"
    }
   ],
   "source": [
    "b"
   ]
  },
  {
   "cell_type": "code",
   "execution_count": 56,
   "id": "89a0bc2b",
   "metadata": {},
   "outputs": [],
   "source": [
    "# a.ndim : 2 / b.ndim : 1"
   ]
  },
  {
   "cell_type": "code",
   "execution_count": null,
   "id": "97dbd218",
   "metadata": {},
   "outputs": [],
   "source": []
  }
 ],
 "metadata": {
  "kernelspec": {
   "display_name": "Python 3",
   "language": "python",
   "name": "python3"
  },
  "language_info": {
   "codemirror_mode": {
    "name": "ipython",
    "version": 3
   },
   "file_extension": ".py",
   "mimetype": "text/x-python",
   "name": "python",
   "nbconvert_exporter": "python",
   "pygments_lexer": "ipython3",
   "version": "3.8.8"
  }
 },
 "nbformat": 4,
 "nbformat_minor": 5
}
