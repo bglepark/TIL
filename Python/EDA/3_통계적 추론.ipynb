{
 "cells": [
  {
   "cell_type": "markdown",
   "id": "4de25619",
   "metadata": {},
   "source": [
    "# 추정과 가설검정\n",
    "\n",
    "**통계적 추론**\n",
    "- 모집단에서 추출한 표본을 이용하여 모집단의 특성(모수)을 예측하는 과정\n",
    "- 추정과 가설검정을 포함\n",
    "\n",
    "**모수**\n",
    "- 모집단의 특성을 나타내는 수치\n",
    "\n",
    "**표본을 이용한 모수추론**\n",
    "- 모집단에서 추출한 표본을 분석하여 모수에 대한 정보를 얻음\n",
    "- 모집단의 일부인 표본만을 이용하여 추측하므로 불확실성을 내포하고 있음\n",
    "\n",
    "**표본추출방법**\n",
    "- 단순임의 추출법\n",
    "    - 모집단의 모든 원소가 표본으로 뽑힐 가능성이 같도록 표본을 추출하는 방법\n",
    "    - 랜덤표본\n",
    "        - 단순임의 추출법에 의해서 추출된 표본\n",
    "        - 복원추출 / 비복원 추출\n",
    "- 예) 1000명 학생이 재학 중인 학교에서 50명을 추출하여 졸업 후 진로에 대해 조사\n",
    "    - 표본 추출틀에서 추출된 번호에 해당하는 학생을 표본으로 이용\n",
    "    - numpy.random.choice()함수를 사용\n",
    "    \n",
    "**추정(estimation)**\n",
    "- 모집단에서 추출한 표본의 결과를 이용하여 모수를 추측하는 것\n",
    "- 점추정(point estimation)\n",
    "    - 모수를 하나의 값으로 추측하는 것\n",
    "- 구간추정(interval estimation)\n",
    "    - 모수를 포함하리라고 예상하는 값의 범위(구간)을 추측\n",
    "    \n",
    "- 추정에 대한 검정도 진행한다.\n",
    "\n",
    "**표본 평균의 분포**\n",
    "- 모집단에서 표본을 추출할 경우 한 번만 추출하지 않고 여러 번 추출한다고 가정\n",
    "    - 각 표본으로부터 얻은 표본 통계량(예.표본평균)은 달라질 것이다.\n",
    "    \n",
    "- 표본분포\n",
    "    - 각각의 표본에서 얻은 표본 통계량을 확률변수로 하는 확률 분포\n",
    "    \n",
    "**표본평균의 확률 분포의 특징**\n",
    "- 표본평균에 대한 확률분포의 평균은 모집단 평균과 일치함 u와 일치\n",
    "- 표본평균에 대한 확률분포의 분산은 모집단 분산을 표본크기 n으로 나누어준 값 : o^2/n\n",
    "- 표본평균의 표준편차 : 표준오차\n",
    "- 표준오차는 표본평균을 이용하여 모집단 평균을 추정할 경우 발생할 수 있는 오류의 크기를 나타내며, 표본의 크기가 커질수록 표준오차의 크기는 줄어든다.\n",
    "\n",
    "**표본 평균의 분포** (p.241)\n",
    "- 표본분포는 모집단에서 추출한 표본 통계량의 분포\n",
    "- 모집단이 어떤 분포를 하고 있는지에 따라 표본분포가 영향을 받는가?\n",
    "- 모집단 분포가 정규분포일 때\n",
    "    - 표본평균에 대한 확률분포는 표본의 크기에 관계없이 정규분포를 따름\n",
    "- 모집단 분포가 정규분포가 아닐 때\n",
    "    - 표본의 크기 n이 충분히 크다면 표본평균에 대한 확률분포는 정규분포를 따름\n",
    "    - 중심극한정리\n",
    "    \n",
    "- 표본평균에 대한 확률분포(표본분포)는 모집단 분포에 상관없이 정규분포를 따름\n",
    "\n",
    "**중심극한정리** (p.256)\n",
    "- 임의의 모집단에서 크기가 n인 표본을 추출할 때 n이 충분히 커진다면 모집단이 어떤 분포이든지 상관없이 표본평균의 분포는 정규분포를 따른다.\n",
    "\n",
    "**대수의 법칙** (p.258)\n",
    "- 큰 모집단에서 무작위로 뽑은 표본의 평균이 전체 모집단의 평균과 가까울 가능성이 높다"
   ]
  },
  {
   "cell_type": "markdown",
   "id": "4adfe691",
   "metadata": {},
   "source": [
    "## 점추정 (p.262)\n",
    "- 모수를 하나의 값으로 추정\n",
    "\n",
    "**추정량**\n",
    "- 모수를 추정하는데 이용하는 통계량\n",
    "\n",
    "**추정치**\n",
    "- 표본을 이용하여 계산된 추정량의 값\n",
    "\n",
    "- 예) 모평균 u에 대한 점추정\n",
    "- 추정량 : u = X\n",
    "- 추정치 x = 160.3930923\n",
    "\n",
    "- 점추정으로 얻은 추정량의 특징\n",
    "    - 추출된 표본에 따라 달라짐\n",
    "    - 추정하는 모수와 일치한다고 보장할 수 없음\n",
    "    \n",
    "- 추정량의 표준편차 : 표준오차\n",
    "    - 추정량이 모수에 얼마나 가까운지를 나타내기 위해서\n",
    "    \n",
    "- 표준오차가 작을수록 모수를 정확하게 추정할 수 있다."
   ]
  },
  {
   "cell_type": "markdown",
   "id": "6ebd6180",
   "metadata": {},
   "source": [
    "## 구간추정(p.262)\n",
    "\n",
    "- 모수를 포함할 것으로 기대되는 구간을 이용하여 모수를 추정\n",
    "\n",
    "- 신뢰구간\n",
    "    - 모수를 추정하는데 이용되는 구간\n",
    "    \n",
    "- 신뢰수준\n",
    "    - 신뢰구간이 모수를 포함할 확률\n",
    "    \n",
    "- 같은 신뢰수준에서는 길이가 짧은 신뢰구간이 더 좋다\n",
    "\n",
    "- 신뢰구간의 특징\n",
    "    - (1-a)가 작을 수록 , n이 클수록 신뢰구간의 길이가 짧아진다.\n",
    "    - (1-a)가 클수록, n이 작을수록 신뢰구간의 길이가 커진다.\n",
    "    \n",
    "**신뢰수준 95% 신뢰구간의 의미**\n",
    "- 표본을 여러 번 추출하여 같은 방법으로 신뢰구간을 구할 때, 이구간 중에서 모평균(모수)를 포함하는 구간의 비율이 95%에 가깝다\n",
    "- 100개의 신뢰구간 중에서 95개가 모집단 평균을 포함하는 구간이라는 의미\n",
    "\n",
    "\n"
   ]
  },
  {
   "cell_type": "markdown",
   "id": "90575b41",
   "metadata": {},
   "source": [
    "## t분포\n",
    "\n",
    "모집단 표준편차를 모르는 경우 사용"
   ]
  },
  {
   "cell_type": "code",
   "execution_count": 7,
   "id": "6f3195f8",
   "metadata": {},
   "outputs": [],
   "source": [
    "import numpy as np\n",
    "import pandas as pd\n",
    "from scipy import stats\n",
    "import matplotlib.pyplot as plt\n",
    "\n",
    "%precision 3\n",
    "np.random.seed(1111)"
   ]
  },
  {
   "cell_type": "code",
   "execution_count": 8,
   "id": "9a5ff094",
   "metadata": {},
   "outputs": [],
   "source": [
    "import matplotlib.pyplot as plt"
   ]
  },
  {
   "cell_type": "markdown",
   "id": "7ac84670",
   "metadata": {},
   "source": [
    "**모평균의 구간추정**\n",
    "\n",
    "\n",
    "표준정규분포로부터 뽑아 95% 신뢰구간을 구하는 것을 20번 반복했을 때 , 몇 개의 신뢰구간이 모평균을 포함할지 확인"
   ]
  },
  {
   "cell_type": "code",
   "execution_count": 10,
   "id": "fd81d34d",
   "metadata": {},
   "outputs": [
    {
     "data": {
      "text/plain": [
       "(69.53, 206.6691)"
      ]
     },
     "execution_count": 10,
     "metadata": {},
     "output_type": "execute_result"
    }
   ],
   "source": [
    "# 성적 데이터\n",
    "df = pd.read_csv('C:/Users/hspar/Desktop/HS_Park/멀티캠퍼스/data/ch4_scores400.csv')\n",
    "scores = np.array(df['score'])\n",
    "\n",
    "# 성적데이터 모집단의 평균과 분산 계산\n",
    "p_mean = np.mean(scores)\n",
    "p_var = np.var(scores)\n",
    "\n",
    "p_mean , p_var"
   ]
  },
  {
   "cell_type": "code",
   "execution_count": 13,
   "id": "28be8534",
   "metadata": {},
   "outputs": [
    {
     "data": {
      "text/plain": [
       "<function matplotlib.pyplot.show(close=None, block=None)>"
      ]
     },
     "execution_count": 13,
     "metadata": {},
     "output_type": "execute_result"
    },
    {
     "data": {
      "image/png": "[encoded data removed]",
      "text/plain": [
       "<Figure size 432x288 with 1 Axes>"
      ]
     },
     "metadata": {
      "needs_background": "light"
     },
     "output_type": "display_data"
    }
   ],
   "source": [
    "# 모집단의 분포 -> 우선 정규분포 그리기\n",
    "xs = np.arange(101)\n",
    "rv = stats.norm(p_mean , np.sqrt(p_var))\n",
    "plt.plot(xs , rv.pdf(xs) , color='gray') # 평균이 69.53 , 분산 : 206.6691 인 정규분포 그리기\n",
    "plt.hist(scores , bins=100 , range=(0,100) , density=True)\n",
    "plt.show"
   ]
  },
  {
   "cell_type": "code",
   "execution_count": 16,
   "id": "bdf4eccb",
   "metadata": {},
   "outputs": [
    {
     "data": {
      "text/plain": [
       "array([[67, 67, 65, ..., 61, 62, 58],\n",
       "       [56, 63, 77, ..., 68, 68, 79],\n",
       "       [66, 47, 57, ..., 63, 52, 71],\n",
       "       ...,\n",
       "       [65, 78, 77, ..., 47, 74, 55],\n",
       "       [77, 74, 82, ..., 90, 80, 73],\n",
       "       [64, 78, 57, ..., 63, 96, 73]], dtype=int64)"
      ]
     },
     "execution_count": 16,
     "metadata": {},
     "output_type": "execute_result"
    }
   ],
   "source": [
    "# sample 데이터 생성\n",
    "n_sam = 10000\n",
    "n = 20\n",
    "samples = np.random.choice(scores,(n_sam , n)) # 20개짜리 10000 세트 생성\n",
    "samples"
   ]
  },
  {
   "cell_type": "code",
   "execution_count": 18,
   "id": "bd450649",
   "metadata": {},
   "outputs": [
    {
     "data": {
      "text/plain": [
       "1.9599639845400545"
      ]
     },
     "execution_count": 18,
     "metadata": {},
     "output_type": "execute_result"
    }
   ],
   "source": [
    "# isf에 대한 설명\n",
    "rv = stats.norm()\n",
    "rv.isf(0.025) # 95% 신뢰구간의 경우 -> 양쪽은 2.5%이다"
   ]
  },
  {
   "cell_type": "code",
   "execution_count": 25,
   "id": "3b846b76",
   "metadata": {},
   "outputs": [
    {
     "data": {
      "image/png": "[encoded data removed]",
      "text/plain": [
       "<Figure size 432x288 with 1 Axes>"
      ]
     },
     "metadata": {
      "needs_background": "light"
     },
     "output_type": "display_data"
    }
   ],
   "source": [
    "# 모분산을 아는 경우 95% 신뢰구간 : 정규분포를 이용\n",
    "rv = stats.norm()\n",
    "n_samples = 20\n",
    "n = 20\n",
    "\n",
    "plt.vlines(p_mean , 0, 21)\n",
    "for i in range(n_samples):\n",
    "    sample_ = samples[i]\n",
    "    s_mean = np.mean(sample_)\n",
    "    #신뢰구간 설정\n",
    "    lcl = s_mean - rv.isf(0.025)*np.sqrt(p_var/n) # lcl\n",
    "    ucl = s_mean + rv.isf(0.025)*np.sqrt(p_var/n) # ucl -> s_mean - rv.insf(0.975)*np.sqrt(n_var/n_samples)\n",
    "    if lcl<=p_mean<=ucl:\n",
    "        plt.scatter(s_mean , n_samples - i , color = 'gray') # 구간 사이에 있을 경우\n",
    "        plt.hlines(n_samples - i , lcl , ucl , color = 'gray')\n",
    "    else:\n",
    "        plt.scatter(s_mean , n_samples - i , color = 'b') # 구간 사이에 없을 경우\n",
    "        plt.hlines(n_samples - i , lcl , ucl , color = 'b')\n",
    "        \n",
    "plt.xticks([p_mean])\n",
    "plt.xlabel('population')\n",
    "plt.show()"
   ]
  },
  {
   "cell_type": "markdown",
   "id": "84225d3c",
   "metadata": {},
   "source": [
    "**모분산을 모르는 경우 신뢰구간 구하기**\n",
    "- t분포 구하기"
   ]
  },
  {
   "cell_type": "code",
   "execution_count": 35,
   "id": "835fdb8a",
   "metadata": {},
   "outputs": [],
   "source": [
    "# 모분산을 모르는 경우 95% 신뢰구간 : t분포를 이용\n",
    "n = 20\n",
    "alpha = 0.025\n",
    "sample_ = samples[0]\n",
    "s_mean = np.mean(sample_)\n",
    "s_var = np.var(sample_)\n",
    "rv = stats.t(df=n-1)\n",
    "lcl = s_mean - rv.isf(alpha) * np.sqrt(s_var/n)\n",
    "ucl = s_mean + rv.isf(alpha) * np.sqrt(s_var/n)\n",
    "\n",
    "\n",
    "n_samples = 20\n",
    "n = 20\n"
   ]
  },
  {
   "cell_type": "code",
   "execution_count": 36,
   "id": "a9aaa535",
   "metadata": {},
   "outputs": [
    {
     "data": {
      "image/png": "[encoded data removed]",
      "text/plain": [
       "<Figure size 432x288 with 1 Axes>"
      ]
     },
     "metadata": {
      "needs_background": "light"
     },
     "output_type": "display_data"
    }
   ],
   "source": [
    "n_samples = 20\n",
    "n = 20\n",
    "alpha = 0.025\n",
    "rv = stats.t(df=n-1)\n",
    "\n",
    "\n",
    "plt.vlines(p_mean , 0, 21)\n",
    "for i in range(n_samples):\n",
    "    sample_ = samples[i]\n",
    "    s_mean = np.mean(sample_)\n",
    "    #신뢰구간 설정\n",
    "    lcl = s_mean - rv.isf(0.025)*np.sqrt(s_var/n) # lcl\n",
    "    ucl = s_mean + rv.isf(0.025)*np.sqrt(s_var/n) # ucl -> s_mean - rv.insf(0.975)*np.sqrt(n_var/n_samples)\n",
    "    if lcl<=p_mean<=ucl:\n",
    "        plt.scatter(s_mean , n_samples - i , color = 'gray') # 구간 사이에 있을 경우\n",
    "        plt.hlines(n_samples - i , lcl , ucl , color = 'gray')\n",
    "    else:\n",
    "        plt.scatter(s_mean , n_samples - i , color = 'b') # 구간 사이에 없을 경우\n",
    "        plt.hlines(n_samples - i , lcl , ucl , color = 'b')\n",
    "        \n",
    "plt.xticks([p_mean])\n",
    "plt.xlabel('population')\n",
    "plt.show()"
   ]
  },
  {
   "cell_type": "markdown",
   "id": "2cf986ea",
   "metadata": {},
   "source": [
    "**문제2**\n",
    "\n",
    "만 7세 어린이 중 부모의 동이를 얻은 학생 중 10명을 표본으로 추출.\n",
    "\n",
    "머리 둘레를 측정한 결과를 기준으로 모평균에 대한 95% 신뢰구간을 추정하시오."
   ]
  },
  {
   "cell_type": "code",
   "execution_count": 42,
   "id": "5bc663da",
   "metadata": {},
   "outputs": [
    {
     "data": {
      "text/plain": [
       "(504.9263746071301, 527.4736253928701)"
      ]
     },
     "execution_count": 42,
     "metadata": {},
     "output_type": "execute_result"
    }
   ],
   "source": [
    "# 표본 데이터\n",
    "data = [520, 498, 481, 515, 515, 542, 520 , 518 , 527 , 526]\n",
    "s_mean = np.mean(data)\n",
    "s_var = np.var(data)\n",
    "\n",
    "n = len(data)\n",
    "alpha = 0.025\n",
    "rv = stats.t(df=n-1)\n",
    "lcl = s_mean - rv.isf(alpha) * np.sqrt(s_var/n)\n",
    "ucl = s_mean + rv.isf(alpha) * np.sqrt(s_var/n)\n",
    "lcl, ucl\n",
    "# t분포를 이용할경우 구간이 더 넓다"
   ]
  },
  {
   "cell_type": "code",
   "execution_count": 43,
   "id": "ee1cc3a8",
   "metadata": {},
   "outputs": [
    {
     "data": {
      "text/plain": [
       "(506.4323763754556, 525.9676236245446)"
      ]
     },
     "execution_count": 43,
     "metadata": {},
     "output_type": "execute_result"
    }
   ],
   "source": [
    "rv = stats.norm() # 정규분포일 경우\n",
    "lcl = s_mean - rv.isf(alpha) * np.sqrt(s_var/n)\n",
    "ucl = s_mean + rv.isf(alpha) * np.sqrt(s_var/n)\n",
    "lcl, ucl"
   ]
  },
  {
   "cell_type": "markdown",
   "id": "4b62a8c0",
   "metadata": {},
   "source": [
    "## 통계적 가설검정(test)"
   ]
  },
  {
   "cell_type": "markdown",
   "id": "2cb44ff0",
   "metadata": {},
   "source": [
    "감자튀김 평균 130g인데 측정해보니 122.02g이다.\n",
    "\n",
    "그래서 2주간 매일 감튀를 사서 무게 측정함\n",
    "\n",
    "2주 후 구매한 14개 표본의 평균 결과 128.451g이 나옴\n",
    "\n",
    "14개 표본의 평균 무게가 130g보다 적다고 확신한 것에 대한 통계적 가설검정을 구하셈"
   ]
  },
  {
   "cell_type": "code",
   "execution_count": 44,
   "id": "540a39ea",
   "metadata": {},
   "outputs": [
    {
     "data": {
      "text/plain": [
       "array([122.02, 131.73, 130.6 , 131.82, 132.05, 126.12, 124.43, 132.89,\n",
       "       122.79, 129.95, 126.14, 134.45, 127.64, 125.68])"
      ]
     },
     "execution_count": 44,
     "metadata": {},
     "output_type": "execute_result"
    }
   ],
   "source": [
    "# 감자 무게 측정 데이터\n",
    "\n",
    "df = pd.read_csv('C:/Users/hspar/Desktop/HS_Park/멀티캠퍼스/data/ch11_potato.csv')\n",
    "sample = np.array(df['무게'])\n",
    "sample"
   ]
  },
  {
   "cell_type": "code",
   "execution_count": 45,
   "id": "d3cb6818",
   "metadata": {},
   "outputs": [
    {
     "data": {
      "text/plain": [
       "128.4507142857143"
      ]
     },
     "execution_count": 45,
     "metadata": {},
     "output_type": "execute_result"
    }
   ],
   "source": [
    "# 표본 평균 확인\n",
    "s_mean = np.mean(sample)\n",
    "s_mean"
   ]
  },
  {
   "cell_type": "code",
   "execution_count": 46,
   "id": "47aea0eb",
   "metadata": {},
   "outputs": [
    {
     "data": {
      "text/plain": [
       "14.735449489795883"
      ]
     },
     "execution_count": 46,
     "metadata": {},
     "output_type": "execute_result"
    }
   ],
   "source": [
    "# 표본 분산 확인\n",
    "s_var = np.var(sample)\n",
    "s_var"
   ]
  },
  {
   "cell_type": "code",
   "execution_count": 48,
   "id": "ed1a4ffd",
   "metadata": {},
   "outputs": [
    {
     "data": {
      "text/plain": [
       "128.68118313069039"
      ]
     },
     "execution_count": 48,
     "metadata": {},
     "output_type": "execute_result"
    }
   ],
   "source": [
    "# 모분산 = 9\n",
    "rv = stats.norm(130 , np.sqrt(9/14))\n",
    "rv.isf(0.95)"
   ]
  },
  {
   "cell_type": "markdown",
   "id": "2d193e94",
   "metadata": {},
   "source": [
    "P값은 누적분포 함수로 구할 수 있음\n",
    "\n",
    "- 검정통계량 z는 아래와 같이 설정하자\n",
    "    - 유의수준은 0.05(5%)로 설정"
   ]
  },
  {
   "cell_type": "code",
   "execution_count": 49,
   "id": "0b4b1991",
   "metadata": {},
   "outputs": [
    {
     "data": {
      "text/plain": [
       "-1.932298779026813"
      ]
     },
     "execution_count": 49,
     "metadata": {},
     "output_type": "execute_result"
    }
   ],
   "source": [
    "# 검정 통계량 Z\n",
    "Z = (s_mean-130)/np.sqrt(9/14)\n",
    "Z # 즉 p-value"
   ]
  },
  {
   "cell_type": "code",
   "execution_count": 50,
   "id": "6a9f7c4f",
   "metadata": {},
   "outputs": [
    {
     "data": {
      "text/plain": [
       "-1.6448536269514722"
      ]
     },
     "execution_count": 50,
     "metadata": {},
     "output_type": "execute_result"
    }
   ],
   "source": [
    "rv = stats.norm()\n",
    "rv.isf(0.95)\n",
    "# 유의수준"
   ]
  },
  {
   "cell_type": "code",
   "execution_count": 51,
   "id": "bcce49e8",
   "metadata": {},
   "outputs": [
    {
     "data": {
      "text/plain": [
       "(-1.959963984540054, 1.959963984540054)"
      ]
     },
     "execution_count": 51,
     "metadata": {},
     "output_type": "execute_result"
    }
   ],
   "source": [
    "# 양측검정, 임계값 : 표준 정규분포의 95% 구간에 따라 구할 수 있음\n",
    "rv = stats.norm()\n",
    "rv.interval(0.95) # 양측검정 구간값"
   ]
  },
  {
   "cell_type": "code",
   "execution_count": 55,
   "id": "f8968439",
   "metadata": {},
   "outputs": [
    {
     "data": {
      "text/plain": [
       "0.05332263904625327"
      ]
     },
     "execution_count": 55,
     "metadata": {},
     "output_type": "execute_result"
    }
   ],
   "source": [
    "# 양측검정의 p값\n",
    "rv.cdf(Z)*2 # 양측검정의 경우 *2를 해야함"
   ]
  },
  {
   "cell_type": "code",
   "execution_count": 71,
   "id": "9987cae0",
   "metadata": {},
   "outputs": [],
   "source": [
    "# 모분산을 아는 경우 모평균에 대한 양측검정을 위한 함수\n",
    "# 정규분포를 가정\n",
    "def pmean_test(sample, mean0, p_var, alpha=0.05):\n",
    "    s_mean = np.mean(sample)\n",
    "    n = len(sample)\n",
    "    rv = stats.norm()\n",
    "    interval = rv.interval(1-alpha)\n",
    "\n",
    "    z = (s_mean - mean0) / np.sqrt(p_var/n)\n",
    "    if interval[0] <= z <= interval[1]:\n",
    "        print('귀무가설을 채택')\n",
    "    else:\n",
    "        print('귀무가설을 기각')\n",
    "\n",
    "    if z < 0:\n",
    "        p = rv.cdf(z) * 2\n",
    "    else:\n",
    "        p = (1 - rv.cdf(z)) * 2\n",
    "    print(f'p값은 {p:.3f}')\n"
   ]
  },
  {
   "cell_type": "code",
   "execution_count": 72,
   "id": "083f8bd8",
   "metadata": {},
   "outputs": [
    {
     "name": "stdout",
     "output_type": "stream",
     "text": [
      "귀무가설을 채택\n",
      "p값은 0.053\n"
     ]
    }
   ],
   "source": [
    "pmean_test(sample, 130 , 9)"
   ]
  },
  {
   "cell_type": "code",
   "execution_count": 67,
   "id": "707c5e72",
   "metadata": {},
   "outputs": [],
   "source": [
    "# 모분산을 알지 못하는 경우 -> t분포를 이용 (양측검정)\n",
    "def pmean_test(sample, mean0, alpha=0.05):\n",
    "    s_mean = np.mean(sample)\n",
    "    u_var = np.var(sample, ddof=1)\n",
    "    n = len(sample)\n",
    "    rv = stats.t(df=n-1)\n",
    "    interval = rv.interval(1-alpha) # 임계값 계산\n",
    "\n",
    "    t = (s_mean - mean0) / np.sqrt(u_var/n)\n",
    "    if interval[0] <= t <= interval[1]:\n",
    "        print('귀무가설을 채택')\n",
    "    else:\n",
    "        print('귀무가설을 기각')\n",
    "\n",
    "    if t < 0:\n",
    "        p = rv.cdf(t) * 2\n",
    "    else:\n",
    "        p = (1 - rv.cdf(t)) * 2\n",
    "    print(f'p값은 {p:.3f}')\n"
   ]
  },
  {
   "cell_type": "code",
   "execution_count": 68,
   "id": "457aa021",
   "metadata": {},
   "outputs": [
    {
     "name": "stdout",
     "output_type": "stream",
     "text": [
      "귀무가설을 채택\n",
      "p값은 0.169\n"
     ]
    }
   ],
   "source": [
    "pmean_test(sample,130)"
   ]
  },
  {
   "cell_type": "code",
   "execution_count": 74,
   "id": "988609f2",
   "metadata": {},
   "outputs": [
    {
     "data": {
      "text/plain": [
       "(-1.4551960206404198, 0.16933464230414275)"
      ]
     },
     "execution_count": 74,
     "metadata": {},
     "output_type": "execute_result"
    }
   ],
   "source": [
    "# scipy.stats에서 바로 함수 사용\n",
    "t , p = stats.ttest_1samp(sample, 130)\n",
    "t , p # 통계량 , p-value"
   ]
  },
  {
   "cell_type": "markdown",
   "id": "07edcfec",
   "metadata": {},
   "source": [
    "p.314\n",
    "## 단일표본과 모집단의 평균 차이 검정\n",
    "- One sample Z-test(단일표본 Z검정)\n",
    "- One sample t-test(단일표본 t검정) : 정규성 가정\n",
    "\n",
    "## 평균 비교를 통한 두 집단 사이의 차이 검정\n",
    ": 두 집단 모두 정규분포를 하고 있다는 가정하에 분석 수행(정규성)\n",
    "- Paired sample t-test (대응표본 t검정)\n",
    "    - 정규성 만족 : stats.ttest_1samp(a,b,popmean=모집단평균)\n",
    "    - 정규성 만족하지 않는 경우 : Wilcoxon signed-rank test\n",
    "        - stats.wilcoxon\n",
    "- Two sample t-test (독립 이표본 t검정) : 두 개의 독립적인 데이터 세트인 경우 \n",
    "    - 정규성 , 등분산성 가정\n",
    "    - 등분산 stats.ttest_ind(a,b,equal_var=True)\n",
    "    - 이분산 stats.ttest_ind(a,b,equal_var=False)\n",
    "    - 정규성 만족하지 않는 경우 : Mann-Whitney rank test\n",
    "        - stats.mannwhitneyu(a,b)"
   ]
  },
  {
   "cell_type": "markdown",
   "id": "641ec78b",
   "metadata": {},
   "source": [
    "- 근력 운동 전후 집중력 비교\n",
    "- 귀무가설 : 전 후가 같다\n",
    "- 대립가설 : 전 후가 다르다"
   ]
  },
  {
   "cell_type": "code",
   "execution_count": 76,
   "id": "f4a806eb",
   "metadata": {},
   "outputs": [
    {
     "name": "stdout",
     "output_type": "stream",
     "text": [
      "(20, 2)\n"
     ]
    },
    {
     "data": {
      "text/html": [
       "<div>\n",
       "<style scoped>\n",
       "    .dataframe tbody tr th:only-of-type {\n",
       "        vertical-align: middle;\n",
       "    }\n",
       "\n",
       "    .dataframe tbody tr th {\n",
       "        vertical-align: top;\n",
       "    }\n",
       "\n",
       "    .dataframe thead th {\n",
       "        text-align: right;\n",
       "    }\n",
       "</style>\n",
       "<table border=\"1\" class=\"dataframe\">\n",
       "  <thead>\n",
       "    <tr style=\"text-align: right;\">\n",
       "      <th></th>\n",
       "      <th>전</th>\n",
       "      <th>후</th>\n",
       "    </tr>\n",
       "  </thead>\n",
       "  <tbody>\n",
       "    <tr>\n",
       "      <th>0</th>\n",
       "      <td>59</td>\n",
       "      <td>41</td>\n",
       "    </tr>\n",
       "    <tr>\n",
       "      <th>1</th>\n",
       "      <td>52</td>\n",
       "      <td>63</td>\n",
       "    </tr>\n",
       "    <tr>\n",
       "      <th>2</th>\n",
       "      <td>55</td>\n",
       "      <td>68</td>\n",
       "    </tr>\n",
       "    <tr>\n",
       "      <th>3</th>\n",
       "      <td>61</td>\n",
       "      <td>59</td>\n",
       "    </tr>\n",
       "    <tr>\n",
       "      <th>4</th>\n",
       "      <td>59</td>\n",
       "      <td>84</td>\n",
       "    </tr>\n",
       "  </tbody>\n",
       "</table>\n",
       "</div>"
      ],
      "text/plain": [
       "    전   후\n",
       "0  59  41\n",
       "1  52  63\n",
       "2  55  68\n",
       "3  61  59\n",
       "4  59  84"
      ]
     },
     "execution_count": 76,
     "metadata": {},
     "output_type": "execute_result"
    }
   ],
   "source": [
    "# 대응표본 샘플 데이터\n",
    "data = pd.read_csv('C:/Users/hspar/Desktop/HS_Park/멀티캠퍼스/data/ch11_training_rel.csv')\n",
    "print(data.shape)\n",
    "data.head()"
   ]
  },
  {
   "cell_type": "code",
   "execution_count": 78,
   "id": "e1d3be64",
   "metadata": {},
   "outputs": [
    {
     "data": {
      "text/html": [
       "<div>\n",
       "<style scoped>\n",
       "    .dataframe tbody tr th:only-of-type {\n",
       "        vertical-align: middle;\n",
       "    }\n",
       "\n",
       "    .dataframe tbody tr th {\n",
       "        vertical-align: top;\n",
       "    }\n",
       "\n",
       "    .dataframe thead th {\n",
       "        text-align: right;\n",
       "    }\n",
       "</style>\n",
       "<table border=\"1\" class=\"dataframe\">\n",
       "  <thead>\n",
       "    <tr style=\"text-align: right;\">\n",
       "      <th></th>\n",
       "      <th>전</th>\n",
       "      <th>후</th>\n",
       "    </tr>\n",
       "  </thead>\n",
       "  <tbody>\n",
       "    <tr>\n",
       "      <th>count</th>\n",
       "      <td>20.000000</td>\n",
       "      <td>20.000000</td>\n",
       "    </tr>\n",
       "    <tr>\n",
       "      <th>mean</th>\n",
       "      <td>52.850000</td>\n",
       "      <td>58.250000</td>\n",
       "    </tr>\n",
       "    <tr>\n",
       "      <th>std</th>\n",
       "      <td>4.295346</td>\n",
       "      <td>11.964311</td>\n",
       "    </tr>\n",
       "    <tr>\n",
       "      <th>min</th>\n",
       "      <td>45.000000</td>\n",
       "      <td>37.000000</td>\n",
       "    </tr>\n",
       "    <tr>\n",
       "      <th>25%</th>\n",
       "      <td>50.500000</td>\n",
       "      <td>51.750000</td>\n",
       "    </tr>\n",
       "    <tr>\n",
       "      <th>50%</th>\n",
       "      <td>52.000000</td>\n",
       "      <td>58.500000</td>\n",
       "    </tr>\n",
       "    <tr>\n",
       "      <th>75%</th>\n",
       "      <td>55.500000</td>\n",
       "      <td>65.750000</td>\n",
       "    </tr>\n",
       "    <tr>\n",
       "      <th>max</th>\n",
       "      <td>61.000000</td>\n",
       "      <td>84.000000</td>\n",
       "    </tr>\n",
       "  </tbody>\n",
       "</table>\n",
       "</div>"
      ],
      "text/plain": [
       "               전          후\n",
       "count  20.000000  20.000000\n",
       "mean   52.850000  58.250000\n",
       "std     4.295346  11.964311\n",
       "min    45.000000  37.000000\n",
       "25%    50.500000  51.750000\n",
       "50%    52.000000  58.500000\n",
       "75%    55.500000  65.750000\n",
       "max    61.000000  84.000000"
      ]
     },
     "execution_count": 78,
     "metadata": {},
     "output_type": "execute_result"
    }
   ],
   "source": [
    "# 기술통계\n",
    "data.describe()"
   ]
  },
  {
   "cell_type": "code",
   "execution_count": 80,
   "id": "72325bea",
   "metadata": {},
   "outputs": [
    {
     "data": {
      "image/png": "[encoded data removed]",
      "text/plain": [
       "<Figure size 432x288 with 1 Axes>"
      ]
     },
     "metadata": {
      "needs_background": "light"
     },
     "output_type": "display_data"
    }
   ],
   "source": [
    "# 데이터의 시각화 : 상자 그림표\n",
    "import matplotlib.pyplot as plt\n",
    "plt.boxplot(data)\n",
    "plt.show()"
   ]
  },
  {
   "cell_type": "code",
   "execution_count": 82,
   "id": "854b977c",
   "metadata": {},
   "outputs": [
    {
     "data": {
      "text/plain": [
       "ShapiroResult(statistic=0.9670043587684631, pvalue=0.6907904148101807)"
      ]
     },
     "execution_count": 82,
     "metadata": {},
     "output_type": "execute_result"
    }
   ],
   "source": [
    "# 정규성 검정\n",
    "stats.shapiro(data.전)"
   ]
  },
  {
   "cell_type": "code",
   "execution_count": 84,
   "id": "cdfd2b0e",
   "metadata": {},
   "outputs": [
    {
     "data": {
      "text/plain": [
       "ShapiroResult(statistic=0.9786623120307922, pvalue=0.9156785011291504)"
      ]
     },
     "execution_count": 84,
     "metadata": {},
     "output_type": "execute_result"
    }
   ],
   "source": [
    "stats.shapiro(data.후)"
   ]
  },
  {
   "cell_type": "code",
   "execution_count": 86,
   "id": "2327b664",
   "metadata": {},
   "outputs": [
    {
     "data": {
      "text/plain": [
       "0     18\n",
       "1    -11\n",
       "2    -13\n",
       "3      2\n",
       "4    -25\n",
       "5      8\n",
       "6     -5\n",
       "7     -3\n",
       "8    -19\n",
       "9    -18\n",
       "10    -6\n",
       "11    -8\n",
       "12     3\n",
       "13    13\n",
       "14    -2\n",
       "15    -6\n",
       "16   -16\n",
       "17   -16\n",
       "18    -2\n",
       "19    -2\n",
       "dtype: int64"
      ]
     },
     "execution_count": 86,
     "metadata": {},
     "output_type": "execute_result"
    }
   ],
   "source": [
    "diff = data.전 - data.후\n",
    "diff"
   ]
  },
  {
   "cell_type": "code",
   "execution_count": 87,
   "id": "66b2b3a7",
   "metadata": {},
   "outputs": [
    {
     "data": {
      "text/plain": [
       "ShapiroResult(statistic=0.9785391688346863, pvalue=0.9138697981834412)"
      ]
     },
     "execution_count": 87,
     "metadata": {},
     "output_type": "execute_result"
    }
   ],
   "source": [
    "stats.shapiro(diff)"
   ]
  },
  {
   "cell_type": "code",
   "execution_count": 89,
   "id": "7d1df003",
   "metadata": {},
   "outputs": [
    {
     "data": {
      "image/png": "[encoded data removed]",
      "text/plain": [
       "<Figure size 432x288 with 1 Axes>"
      ]
     },
     "metadata": {
      "needs_background": "light"
     },
     "output_type": "display_data"
    }
   ],
   "source": [
    "plt.boxplot(diff)\n",
    "plt.show()"
   ]
  },
  {
   "cell_type": "code",
   "execution_count": 92,
   "id": "0fa7129d",
   "metadata": {},
   "outputs": [
    {
     "data": {
      "text/plain": [
       "Ttest_1sampResult(statistic=-2.204154108716127, pvalue=0.04004419061842953)"
      ]
     },
     "execution_count": 92,
     "metadata": {},
     "output_type": "execute_result"
    }
   ],
   "source": [
    "# 대응표본 t검정 수행\n",
    "stats.ttest_1samp(diff,0)\n",
    "# p-value가 0.05보다 작기때문에 귀무가설을 기각할 수 있다.\n",
    "# 근력 운동 전 후로 집중력이 다르다 -> 근력운동이 집중력에 영향을 준다"
   ]
  },
  {
   "cell_type": "markdown",
   "id": "eac64a15",
   "metadata": {},
   "source": [
    "## 독립표본 t 검정\n",
    "- 선행조건\n",
    "    - 독립성 : 두 그룹은 서로 독립\n",
    "    - 정규선 : 정규분포를 따라야함\n",
    "    - 등분산성 : 두 그룹의 데이터에 대한 분산이 같아야한다\n",
    "    \n"
   ]
  },
  {
   "cell_type": "code",
   "execution_count": 95,
   "id": "3db70ae3",
   "metadata": {},
   "outputs": [
    {
     "data": {
      "text/html": [
       "<div>\n",
       "<style scoped>\n",
       "    .dataframe tbody tr th:only-of-type {\n",
       "        vertical-align: middle;\n",
       "    }\n",
       "\n",
       "    .dataframe tbody tr th {\n",
       "        vertical-align: top;\n",
       "    }\n",
       "\n",
       "    .dataframe thead th {\n",
       "        text-align: right;\n",
       "    }\n",
       "</style>\n",
       "<table border=\"1\" class=\"dataframe\">\n",
       "  <thead>\n",
       "    <tr style=\"text-align: right;\">\n",
       "      <th></th>\n",
       "      <th>A</th>\n",
       "      <th>B</th>\n",
       "    </tr>\n",
       "  </thead>\n",
       "  <tbody>\n",
       "    <tr>\n",
       "      <th>0</th>\n",
       "      <td>47</td>\n",
       "      <td>49</td>\n",
       "    </tr>\n",
       "    <tr>\n",
       "      <th>1</th>\n",
       "      <td>50</td>\n",
       "      <td>52</td>\n",
       "    </tr>\n",
       "    <tr>\n",
       "      <th>2</th>\n",
       "      <td>37</td>\n",
       "      <td>54</td>\n",
       "    </tr>\n",
       "    <tr>\n",
       "      <th>3</th>\n",
       "      <td>60</td>\n",
       "      <td>48</td>\n",
       "    </tr>\n",
       "    <tr>\n",
       "      <th>4</th>\n",
       "      <td>39</td>\n",
       "      <td>51</td>\n",
       "    </tr>\n",
       "  </tbody>\n",
       "</table>\n",
       "</div>"
      ],
      "text/plain": [
       "    A   B\n",
       "0  47  49\n",
       "1  50  52\n",
       "2  37  54\n",
       "3  60  48\n",
       "4  39  51"
      ]
     },
     "execution_count": 95,
     "metadata": {},
     "output_type": "execute_result"
    }
   ],
   "source": [
    "# 두 학급(A,B)에 근력운동을 수행하여 집중력 테스트\n",
    "# 귀무가설 : 두 학급의 집중력 차이가 없다\n",
    "# 대립가설 : 두 학급의 집중력 차이가 있다(양측검정)\n",
    "df = pd.read_csv('C:/Users/hspar/Desktop/HS_Park/멀티캠퍼스/data/ch11_training_ind.csv')\n",
    "df.head()"
   ]
  },
  {
   "cell_type": "code",
   "execution_count": 96,
   "id": "08c053c9",
   "metadata": {},
   "outputs": [
    {
     "data": {
      "text/html": [
       "<div>\n",
       "<style scoped>\n",
       "    .dataframe tbody tr th:only-of-type {\n",
       "        vertical-align: middle;\n",
       "    }\n",
       "\n",
       "    .dataframe tbody tr th {\n",
       "        vertical-align: top;\n",
       "    }\n",
       "\n",
       "    .dataframe thead th {\n",
       "        text-align: right;\n",
       "    }\n",
       "</style>\n",
       "<table border=\"1\" class=\"dataframe\">\n",
       "  <thead>\n",
       "    <tr style=\"text-align: right;\">\n",
       "      <th></th>\n",
       "      <th>A</th>\n",
       "      <th>B</th>\n",
       "    </tr>\n",
       "  </thead>\n",
       "  <tbody>\n",
       "    <tr>\n",
       "      <th>count</th>\n",
       "      <td>20.000000</td>\n",
       "      <td>20.000000</td>\n",
       "    </tr>\n",
       "    <tr>\n",
       "      <th>mean</th>\n",
       "      <td>48.750000</td>\n",
       "      <td>52.050000</td>\n",
       "    </tr>\n",
       "    <tr>\n",
       "      <th>std</th>\n",
       "      <td>6.711145</td>\n",
       "      <td>5.020746</td>\n",
       "    </tr>\n",
       "    <tr>\n",
       "      <th>min</th>\n",
       "      <td>37.000000</td>\n",
       "      <td>41.000000</td>\n",
       "    </tr>\n",
       "    <tr>\n",
       "      <th>25%</th>\n",
       "      <td>44.750000</td>\n",
       "      <td>49.000000</td>\n",
       "    </tr>\n",
       "    <tr>\n",
       "      <th>50%</th>\n",
       "      <td>48.500000</td>\n",
       "      <td>52.000000</td>\n",
       "    </tr>\n",
       "    <tr>\n",
       "      <th>75%</th>\n",
       "      <td>53.000000</td>\n",
       "      <td>54.250000</td>\n",
       "    </tr>\n",
       "    <tr>\n",
       "      <th>max</th>\n",
       "      <td>64.000000</td>\n",
       "      <td>64.000000</td>\n",
       "    </tr>\n",
       "  </tbody>\n",
       "</table>\n",
       "</div>"
      ],
      "text/plain": [
       "               A          B\n",
       "count  20.000000  20.000000\n",
       "mean   48.750000  52.050000\n",
       "std     6.711145   5.020746\n",
       "min    37.000000  41.000000\n",
       "25%    44.750000  49.000000\n",
       "50%    48.500000  52.000000\n",
       "75%    53.000000  54.250000\n",
       "max    64.000000  64.000000"
      ]
     },
     "execution_count": 96,
     "metadata": {},
     "output_type": "execute_result"
    }
   ],
   "source": [
    "df.describe()"
   ]
  },
  {
   "cell_type": "code",
   "execution_count": 97,
   "id": "9b37bb89",
   "metadata": {},
   "outputs": [
    {
     "data": {
      "image/png": "[encoded data removed]",
      "text/plain": [
       "<Figure size 432x288 with 1 Axes>"
      ]
     },
     "metadata": {
      "needs_background": "light"
     },
     "output_type": "display_data"
    }
   ],
   "source": [
    "plt.boxplot(df)\n",
    "plt.show()"
   ]
  },
  {
   "cell_type": "code",
   "execution_count": 100,
   "id": "4e8a19ed",
   "metadata": {},
   "outputs": [
    {
     "data": {
      "text/plain": [
       "ShapiroResult(statistic=0.9685941338539124, pvalue=0.7249506711959839)"
      ]
     },
     "execution_count": 100,
     "metadata": {},
     "output_type": "execute_result"
    }
   ],
   "source": [
    "# 두 그룹의 정규성 검정\n",
    "# => 두 학급의 데이터는 모두 정규성을 만족\n",
    "stats.shapiro(df.A)"
   ]
  },
  {
   "cell_type": "code",
   "execution_count": 101,
   "id": "d9dae491",
   "metadata": {},
   "outputs": [
    {
     "data": {
      "text/plain": [
       "ShapiroResult(statistic=0.9730017781257629, pvalue=0.8165717720985413)"
      ]
     },
     "execution_count": 101,
     "metadata": {},
     "output_type": "execute_result"
    }
   ],
   "source": [
    "stats.shapiro(df.B)"
   ]
  },
  {
   "cell_type": "code",
   "execution_count": 103,
   "id": "b1d243d4",
   "metadata": {},
   "outputs": [
    {
     "data": {
      "text/plain": [
       "LeveneResult(statistic=2.061573118077718, pvalue=0.15923550057222613)"
      ]
     },
     "execution_count": 103,
     "metadata": {},
     "output_type": "execute_result"
    }
   ],
   "source": [
    "# 등분산성 검정\n",
    "# - 귀무가설 : 두 집단의 분산이 같다(p-value가 0.05보다 크므로 기각하지 않음)\n",
    "stats.levene(df.A , df.B)"
   ]
  },
  {
   "cell_type": "code",
   "execution_count": 105,
   "id": "4ece4993",
   "metadata": {},
   "outputs": [
    {
     "data": {
      "text/plain": [
       "Ttest_indResult(statistic=-1.7608157246524712, pvalue=0.08631600572195147)"
      ]
     },
     "execution_count": 105,
     "metadata": {},
     "output_type": "execute_result"
    }
   ],
   "source": [
    "# 독립표본 t-검정\n",
    "# equal_var = False로 지정된 경우 웰치 방법 사용\n",
    "# p-value가 0.05보다 크므로 귀무가설을 기각하지 않는다\n",
    "stats.ttest_ind(df.A , df.B , equal_var=True)"
   ]
  },
  {
   "cell_type": "code",
   "execution_count": 107,
   "id": "5f18173a",
   "metadata": {},
   "outputs": [
    {
     "data": {
      "text/plain": [
       "Ttest_indResult(statistic=-1.760815724652471, pvalue=0.08695731107259361)"
      ]
     },
     "execution_count": 107,
     "metadata": {},
     "output_type": "execute_result"
    }
   ],
   "source": [
    "stats.ttest_ind(df.A , df.B , equal_var=False)\n",
    "# False로 해도 귀무가설 기각하지 않는다"
   ]
  },
  {
   "cell_type": "markdown",
   "id": "774502be",
   "metadata": {},
   "source": [
    "## 정규성을 만족하지 않는 경우\n",
    "\n",
    "1. 대응표본 t-test는 윌콕슨 부호순위검정을 적용\n",
    "    - stats.wilcoxon(전 , 후)\n",
    "    \n",
    "2. 독립표본 t-test 맨휘트니 U검정 적용\n",
    "    - stats.mannwhitneyu(A,B, alternative = 'two-sided)  #two-sided : 양측검정을 나타냄\n",
    "    "
   ]
  },
  {
   "cell_type": "code",
   "execution_count": null,
   "id": "5232b520",
   "metadata": {},
   "outputs": [],
   "source": []
  },
  {
   "cell_type": "markdown",
   "id": "695b483f",
   "metadata": {},
   "source": [
    "## 카이제곱 검정\n",
    "\n",
    "- 범주형 데이터에 대하여\n",
    "- 카이제곱 분포 근거\n",
    "\n",
    "\n",
    "1. 적합도 검정 : 한 표본데이터가 어떤 분포를 하는지\n",
    "2. 동질성 검정 : 두 범주형 데이터가 동일한 분포를 하는지?\n",
    "3. 독립성 검정 : 두 범주형 데이터가 서로 관련성 있는지?(독립)\n",
    "\n",
    "\n",
    "- 두 범주형 변수가 서로 독립인지 검정\n",
    "    - 귀무가설 : 두 변수가 서로 독립이다\n",
    "    - 대립가설 : 두 변수가 서로 종속이다\n",
    "    \n",
    "- 교차테이블로 시각화\n",
    "\n",
    "**카이제곱 통계량 = (관측값-기대값)^2 / 기대값**"
   ]
  },
  {
   "cell_type": "code",
   "execution_count": 109,
   "id": "bcac8b38",
   "metadata": {},
   "outputs": [
    {
     "name": "stdout",
     "output_type": "stream",
     "text": [
      "(1000, 2)\n"
     ]
    },
    {
     "data": {
      "text/html": [
       "<div>\n",
       "<style scoped>\n",
       "    .dataframe tbody tr th:only-of-type {\n",
       "        vertical-align: middle;\n",
       "    }\n",
       "\n",
       "    .dataframe tbody tr th {\n",
       "        vertical-align: top;\n",
       "    }\n",
       "\n",
       "    .dataframe thead th {\n",
       "        text-align: right;\n",
       "    }\n",
       "</style>\n",
       "<table border=\"1\" class=\"dataframe\">\n",
       "  <thead>\n",
       "    <tr style=\"text-align: right;\">\n",
       "      <th></th>\n",
       "      <th>광고</th>\n",
       "      <th>구입</th>\n",
       "    </tr>\n",
       "  </thead>\n",
       "  <tbody>\n",
       "    <tr>\n",
       "      <th>0</th>\n",
       "      <td>B</td>\n",
       "      <td>하지 않았다</td>\n",
       "    </tr>\n",
       "    <tr>\n",
       "      <th>1</th>\n",
       "      <td>B</td>\n",
       "      <td>하지 않았다</td>\n",
       "    </tr>\n",
       "    <tr>\n",
       "      <th>2</th>\n",
       "      <td>A</td>\n",
       "      <td>했다</td>\n",
       "    </tr>\n",
       "    <tr>\n",
       "      <th>3</th>\n",
       "      <td>A</td>\n",
       "      <td>했다</td>\n",
       "    </tr>\n",
       "    <tr>\n",
       "      <th>4</th>\n",
       "      <td>B</td>\n",
       "      <td>하지 않았다</td>\n",
       "    </tr>\n",
       "  </tbody>\n",
       "</table>\n",
       "</div>"
      ],
      "text/plain": [
       "  광고      구입\n",
       "0  B  하지 않았다\n",
       "1  B  하지 않았다\n",
       "2  A      했다\n",
       "3  A      했다\n",
       "4  B  하지 않았다"
      ]
     },
     "execution_count": 109,
     "metadata": {},
     "output_type": "execute_result"
    }
   ],
   "source": [
    "# 예제 데이터\n",
    "data = pd.read_csv('C:/Users/hspar/Desktop/HS_Park/멀티캠퍼스/data/ch11_ad.csv')\n",
    "print(data.shape)\n",
    "data.head()"
   ]
  },
  {
   "cell_type": "code",
   "execution_count": 110,
   "id": "496ecfeb",
   "metadata": {},
   "outputs": [
    {
     "data": {
      "text/html": [
       "<div>\n",
       "<style scoped>\n",
       "    .dataframe tbody tr th:only-of-type {\n",
       "        vertical-align: middle;\n",
       "    }\n",
       "\n",
       "    .dataframe tbody tr th {\n",
       "        vertical-align: top;\n",
       "    }\n",
       "\n",
       "    .dataframe thead th {\n",
       "        text-align: right;\n",
       "    }\n",
       "</style>\n",
       "<table border=\"1\" class=\"dataframe\">\n",
       "  <thead>\n",
       "    <tr style=\"text-align: right;\">\n",
       "      <th>구입</th>\n",
       "      <th>하지 않았다</th>\n",
       "      <th>했다</th>\n",
       "    </tr>\n",
       "    <tr>\n",
       "      <th>광고</th>\n",
       "      <th></th>\n",
       "      <th></th>\n",
       "    </tr>\n",
       "  </thead>\n",
       "  <tbody>\n",
       "    <tr>\n",
       "      <th>A</th>\n",
       "      <td>351</td>\n",
       "      <td>49</td>\n",
       "    </tr>\n",
       "    <tr>\n",
       "      <th>B</th>\n",
       "      <td>549</td>\n",
       "      <td>51</td>\n",
       "    </tr>\n",
       "  </tbody>\n",
       "</table>\n",
       "</div>"
      ],
      "text/plain": [
       "구입  하지 않았다  했다\n",
       "광고            \n",
       "A      351  49\n",
       "B      549  51"
      ]
     },
     "execution_count": 110,
     "metadata": {},
     "output_type": "execute_result"
    }
   ],
   "source": [
    "# 교차표 생성\n",
    "cross = pd.crosstab(data.광고 , data.구입)\n",
    "cross"
   ]
  },
  {
   "cell_type": "code",
   "execution_count": 115,
   "id": "fcf4e7c8",
   "metadata": {},
   "outputs": [],
   "source": [
    "# 카이제곱 독립성 검정\n",
    "stat , p , df , exp_tab = stats.chi2_contingency(cross , correction=False)\n",
    "# 카이제곱 검정 통계량\n",
    "# p-value\n",
    "# df(자유도)\n",
    "# 기대빈도"
   ]
  },
  {
   "cell_type": "code",
   "execution_count": 116,
   "id": "0c874ba3",
   "metadata": {},
   "outputs": [
    {
     "data": {
      "text/plain": [
       "3.75"
      ]
     },
     "execution_count": 116,
     "metadata": {},
     "output_type": "execute_result"
    }
   ],
   "source": [
    "stat"
   ]
  },
  {
   "cell_type": "code",
   "execution_count": 117,
   "id": "f9aafe12",
   "metadata": {},
   "outputs": [
    {
     "data": {
      "text/plain": [
       "0.052807511416113395"
      ]
     },
     "execution_count": 117,
     "metadata": {},
     "output_type": "execute_result"
    }
   ],
   "source": [
    "p"
   ]
  },
  {
   "cell_type": "code",
   "execution_count": 118,
   "id": "d749affe",
   "metadata": {},
   "outputs": [
    {
     "data": {
      "text/plain": [
       "1"
      ]
     },
     "execution_count": 118,
     "metadata": {},
     "output_type": "execute_result"
    }
   ],
   "source": [
    "df"
   ]
  },
  {
   "cell_type": "code",
   "execution_count": 119,
   "id": "3fa035e9",
   "metadata": {},
   "outputs": [
    {
     "data": {
      "text/plain": [
       "array([[360.,  40.],\n",
       "       [540.,  60.]])"
      ]
     },
     "execution_count": 119,
     "metadata": {},
     "output_type": "execute_result"
    }
   ],
   "source": [
    "exp_tab"
   ]
  },
  {
   "cell_type": "code",
   "execution_count": null,
   "id": "35f38803",
   "metadata": {},
   "outputs": [],
   "source": []
  }
 ],
 "metadata": {
  "kernelspec": {
   "display_name": "Python 3",
   "language": "python",
   "name": "python3"
  },
  "language_info": {
   "codemirror_mode": {
    "name": "ipython",
    "version": 3
   },
   "file_extension": ".py",
   "mimetype": "text/x-python",
   "name": "python",
   "nbconvert_exporter": "python",
   "pygments_lexer": "ipython3",
   "version": "3.8.8"
  }
 },
 "nbformat": 4,
 "nbformat_minor": 5
}
