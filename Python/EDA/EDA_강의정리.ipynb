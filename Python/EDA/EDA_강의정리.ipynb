{
 "cells": [
  {
   "cell_type": "markdown",
   "id": "82fafe43",
   "metadata": {},
   "source": [
    "## 변이통계량(measure of dispersion)\n",
    "\n",
    "- 데이터의 퍼짐 정도\n",
    "- 범위, 사분위간 범위, 표준편차 , 분산 , 변동계수"
   ]
  },
  {
   "cell_type": "code",
   "execution_count": 16,
   "id": "1e5d7a8b",
   "metadata": {},
   "outputs": [
    {
     "data": {
      "text/plain": [
       "'%.3f'"
      ]
     },
     "execution_count": 16,
     "metadata": {},
     "output_type": "execute_result"
    }
   ],
   "source": [
    "import numpy as np\n",
    "import pandas as pd\n",
    "from scipy.stats import *\n",
    "\n",
    "\n",
    "import numpy as np\n",
    "# numpy float 출력옵션 변경\n",
    "# np.set_printoptions(precision=3)\n",
    "# np.set_printoptions(precision=20, suppress=True)\n",
    "# pd.options.display.float_format = '{:.2f}'.format\n",
    "np.set_printoptions(formatter={'float_kind': lambda x: \"{0:0.3f}\".format(x)})\n",
    "\n",
    "\n",
    "from IPython.core.interactiveshell import InteractiveShell\n",
    "InteractiveShell.ast_node_interactivity=\"all\"\n",
    "\n",
    "# Jupyter Notebook의 출력을 소수점 이하 3자리로 제한\n",
    "%precision 3\n",
    "# Dataframe의 출력을 소수점 이하 3자리로 제한\n",
    "pd.set_option('precision', 3)"
   ]
  },
  {
   "cell_type": "markdown",
   "id": "c3a7f7e5",
   "metadata": {},
   "source": [
    "**범위(range)**\n",
    "- 데이터의 최대값과 최소값의 차이\n",
    "- 데이터가 퍼져 이쓴 정도를 나타내는 가장 간단한 방법\n",
    "- 범위가 클수록 산포가 크다고 말할 수 있지만 중앙값과 마찬가지로 극단적인 값에 영향을 받음\n",
    "- 데이터 중 2개의 정보(최대값 , 최소값)만을 이용하므로 적절한 척도로 사용하기 어려움"
   ]
  },
  {
   "cell_type": "markdown",
   "id": "c13b51c7",
   "metadata": {},
   "source": [
    "범위(R) = 최댓값 - 최솟값"
   ]
  },
  {
   "cell_type": "code",
   "execution_count": 2,
   "id": "688c0e3f",
   "metadata": {},
   "outputs": [
    {
     "data": {
      "text/plain": [
       "array([78.287, 119.947, 105.660, 69.874, 88.428, 133.029, 51.466, 91.422,\n",
       "       125.319, 82.665])"
      ]
     },
     "execution_count": 2,
     "metadata": {},
     "output_type": "execute_result"
    }
   ],
   "source": [
    "np.random.seed(123)\n",
    "data = np.random.normal(100,20,size=1000) #normal을 쓰면 정규화된 숫자로 출력\n",
    "data[:10]"
   ]
  },
  {
   "cell_type": "code",
   "execution_count": 3,
   "id": "4263dcdf",
   "metadata": {},
   "outputs": [
    {
     "data": {
      "text/plain": [
       "(35.37889984161376, 171.43158436052622)"
      ]
     },
     "execution_count": 3,
     "metadata": {},
     "output_type": "execute_result"
    }
   ],
   "source": [
    "np.min(data) , np.max(data)"
   ]
  },
  {
   "cell_type": "code",
   "execution_count": 5,
   "id": "41d49106",
   "metadata": {},
   "outputs": [
    {
     "data": {
      "text/plain": [
       "136.05268451891246"
      ]
     },
     "execution_count": 5,
     "metadata": {},
     "output_type": "execute_result"
    }
   ],
   "source": [
    "# 범위 = 최대값 - 최소값\n",
    "np.max(data)-np.min(data)"
   ]
  },
  {
   "cell_type": "markdown",
   "id": "fc95bf66",
   "metadata": {},
   "source": [
    "**ptp() 함수**"
   ]
  },
  {
   "cell_type": "code",
   "execution_count": 6,
   "id": "17bf668a",
   "metadata": {},
   "outputs": [
    {
     "data": {
      "text/plain": [
       "136.05268451891246"
      ]
     },
     "execution_count": 6,
     "metadata": {},
     "output_type": "execute_result"
    }
   ],
   "source": [
    "# numpy의 ptp 함수 이용하여 범위 계산\n",
    "np.ptp(data)"
   ]
  },
  {
   "cell_type": "code",
   "execution_count": 7,
   "id": "74276006",
   "metadata": {},
   "outputs": [
    {
     "data": {
      "text/plain": [
       "103.40524210106999"
      ]
     },
     "execution_count": 7,
     "metadata": {},
     "output_type": "execute_result"
    }
   ],
   "source": [
    "# 중간 범위 계산\n",
    "(np.max(data)+np.min(data))/2"
   ]
  },
  {
   "cell_type": "code",
   "execution_count": 8,
   "id": "715f90e0",
   "metadata": {},
   "outputs": [
    {
     "data": {
      "text/plain": [
       "(35.37889984161376, 171.43158436052622)"
      ]
     },
     "execution_count": 8,
     "metadata": {},
     "output_type": "execute_result"
    },
    {
     "data": {
      "text/plain": [
       "136.05268451891246"
      ]
     },
     "execution_count": 8,
     "metadata": {},
     "output_type": "execute_result"
    },
    {
     "data": {
      "text/plain": [
       "136.05268451891246"
      ]
     },
     "execution_count": 8,
     "metadata": {},
     "output_type": "execute_result"
    },
    {
     "data": {
      "text/plain": [
       "103.40524210106999"
      ]
     },
     "execution_count": 8,
     "metadata": {},
     "output_type": "execute_result"
    }
   ],
   "source": [
    "np.min(data) , np.max(data)\n",
    "\n",
    "# 범위 = 최대값 - 최소값\n",
    "np.max(data)-np.min(data)\n",
    "\n",
    "# numpy의 ptp 함수 이용하여 범위 계산\n",
    "np.ptp(data)\n",
    "\n",
    "# 중간 범위 계산\n",
    "(np.max(data)+np.min(data))/2"
   ]
  },
  {
   "cell_type": "markdown",
   "id": "6e1e555e",
   "metadata": {},
   "source": [
    "**사분위간 범위(IQR)**\n",
    "- IQR = Q3 - Q1 "
   ]
  },
  {
   "cell_type": "code",
   "execution_count": 10,
   "id": "0270b2f9",
   "metadata": {},
   "outputs": [
    {
     "data": {
      "text/plain": [
       "27.06844676167337"
      ]
     },
     "execution_count": 10,
     "metadata": {},
     "output_type": "execute_result"
    },
    {
     "data": {
      "text/plain": [
       "27.06844676167337"
      ]
     },
     "execution_count": 10,
     "metadata": {},
     "output_type": "execute_result"
    }
   ],
   "source": [
    "# numpy.quantile() 이용하여 IQR 계산\n",
    "np.quantile(data, 0.75) - np.quantile(data, 0.25) # quantile을 쓰면 소수점으로\n",
    "np.percentile(data, 75) - np.percentile(data, 25) # percentile을 쓰면 바로 숫자 입력"
   ]
  },
  {
   "cell_type": "code",
   "execution_count": 10,
   "id": "539ada7d",
   "metadata": {},
   "outputs": [
    {
     "data": {
      "text/plain": [
       "27.06844676167337"
      ]
     },
     "execution_count": 10,
     "metadata": {},
     "output_type": "execute_result"
    }
   ],
   "source": [
    "# scipy.stats.iqr 이용\n",
    "iqr(data)"
   ]
  },
  {
   "cell_type": "markdown",
   "id": "fc04dff3",
   "metadata": {},
   "source": [
    "사분위수 편차 = 사분위 범위 / 2"
   ]
  },
  {
   "cell_type": "code",
   "execution_count": 11,
   "id": "cf512c9c",
   "metadata": {},
   "outputs": [
    {
     "data": {
      "text/plain": [
       "13.534223380836686"
      ]
     },
     "execution_count": 11,
     "metadata": {},
     "output_type": "execute_result"
    }
   ],
   "source": [
    "# numpy.quantile() 이용하여 IQR 계산\n",
    "(np.quantile(data, 0.75) - np.quantile(data, 0.25))/2"
   ]
  },
  {
   "cell_type": "code",
   "execution_count": 11,
   "id": "98370ff2",
   "metadata": {},
   "outputs": [
    {
     "data": {
      "text/plain": [
       "13.534223380836686"
      ]
     },
     "execution_count": 11,
     "metadata": {},
     "output_type": "execute_result"
    }
   ],
   "source": [
    "# scipy.stats.iqr 이용\n",
    "iqr(data)/2"
   ]
  },
  {
   "cell_type": "code",
   "execution_count": null,
   "id": "46631a09",
   "metadata": {},
   "outputs": [],
   "source": [
    "# numpy.quantile() 이용하여 IQR 계산\n",
    "np.quantile(data, 0.75) - np.quantile(data, 0.25)\n",
    "\n",
    "# scipy.stats.iqr 이용\n",
    "iqr(data)"
   ]
  },
  {
   "cell_type": "markdown",
   "id": "b2d77b53",
   "metadata": {},
   "source": [
    "사분위수 편차 = 사분위 범위 / 2"
   ]
  },
  {
   "cell_type": "code",
   "execution_count": 13,
   "id": "9a66cde8",
   "metadata": {},
   "outputs": [
    {
     "data": {
      "text/plain": [
       "13.534223380836686"
      ]
     },
     "execution_count": 13,
     "metadata": {},
     "output_type": "execute_result"
    },
    {
     "data": {
      "text/plain": [
       "13.534223380836686"
      ]
     },
     "execution_count": 13,
     "metadata": {},
     "output_type": "execute_result"
    }
   ],
   "source": [
    "# numpy.quantile() 이용하여 IQR 계산\n",
    "(np.quantile(data, 0.75) - np.quantile(data, 0.25))/2\n",
    "\n",
    "# scipy.stats.iqr 이용\n",
    "iqr(data)/2"
   ]
  },
  {
   "cell_type": "code",
   "execution_count": 14,
   "id": "ec397139",
   "metadata": {},
   "outputs": [
    {
     "data": {
      "text/plain": [
       "array([-20.921, 20.738, 6.451, -29.335, -10.781, 33.820, -47.742, -7.787,\n",
       "       26.110, -16.544, -12.786, -1.103, 30.619, -11.987, -8.088, -7.896,\n",
       "       44.910, 44.527, 20.872, 8.515, 15.539, 30.606, -17.925, 24.308,\n",
       "       -24.286, -11.964, 18.933, -27.782, -2.010, -16.444, -4.321,\n",
       "       -55.180, -34.639, -13.206, 19.341, -2.681, 0.848, 14.556, -16.799,\n",
       "       6.464, -15.316, -33.762, -7.027, 12.267, 7.563, 0.555, 48.639,\n",
       "       9.050, 20.366, 45.554, -25.090, -19.984, 35.666, -15.170, 1.385,\n",
       "       22.178, 18.605, 35.889, 30.704, 22.179, -14.663, 16.689, 7.077,\n",
       "       -25.734, 29.137, 16.936, 1.701, -3.871, -23.175, 4.782, 10.160,\n",
       "       -15.832, 24.035, -21.153, -41.671, 21.586, -7.276, -1.729, -15.959,\n",
       "       -31.328, 25.896, -12.986, 34.010, 16.937, -5.504, -20.927, -13.858,\n",
       "       -23.459, 42.534, 4.080, 23.795, -24.556, 4.412, 24.349, -5.909,\n",
       "       21.414, -20.900, -26.478, 8.379, -6.792, 13.632, -38.766, 15.037,\n",
       "       52.757, 0.299, 1.474, 4.382, -36.448, 9.314, -31.317, -7.762,\n",
       "       25.649, -13.913, 10.816, 21.046, 6.366, -26.628, -5.858, 39.980,\n",
       "       -39.710, -4.724, -10.251, 3.206, 15.756, 32.965, -4.613, 17.038,\n",
       "       10.786, 10.278, -10.487, -19.155, -21.210, -14.337, 7.225, 16.010,\n",
       "       7.261, -10.188, 36.911, 31.169, -6.289, -15.677, 3.396, 26.137,\n",
       "       7.447, 11.922, -3.450, 9.917, 31.682, -4.002, 3.657, 5.868, 6.466,\n",
       "       -27.446, -36.746, -19.602, 4.150, 11.868, -9.822, 28.336, -2.072,\n",
       "       1.198, -3.088, 3.472, 14.881, 14.104, -17.177, 31.265, -21.109,\n",
       "       2.376, -4.697, -20.189, -0.711, -14.025, 2.249, 8.853, 30.230,\n",
       "       6.939, -11.433, -7.041, 3.591, 2.660, 29.983, 28.698, -6.387,\n",
       "       -10.182, -50.350, -10.187, -18.770, -6.305, 8.623, 4.335, 0.192,\n",
       "       4.783, -1.731, 4.732, -63.830, -4.595, -1.426, -6.034, -3.568,\n",
       "       14.857, -11.171, 44.805, 14.557, 0.665, -3.342, -0.939, -17.515,\n",
       "       -1.113, 6.365, 12.382, 12.385, -4.706, -27.530, -12.591, 33.035,\n",
       "       18.712, 8.184, -14.435, 0.864, -24.322, -10.247, -4.113, -6.442,\n",
       "       19.923, -27.583, -16.517, -26.702, -23.956, 3.272, -31.218, 15.869,\n",
       "       -4.145, 2.167, 7.243, -7.892, 21.441, -3.096, 12.673, -3.191,\n",
       "       6.609, 6.385, 5.791, -18.695, 9.509, -5.588, 13.401, -42.259,\n",
       "       -28.511, 8.060, 38.050, 17.492, -12.858, -33.050, 15.645, -0.820,\n",
       "       12.605, 3.097, 1.384, 59.964, 0.669, -2.394, -1.638, -10.879,\n",
       "       20.594, -6.284, 13.510, 6.483, 25.171, 9.195, -23.476, -25.738,\n",
       "       28.959, -11.383, -25.621, -12.601, 26.084, -27.613, -16.539,\n",
       "       -12.545, -24.233, -22.895, -29.571, -8.432, -6.307, -12.859,\n",
       "       -32.283, 25.858, -25.790, 6.352, -20.704, 14.158, 19.908, -16.761,\n",
       "       -37.683, 14.707, 38.307, 9.105, 4.002, 17.186, 16.092, -15.788,\n",
       "       -12.392, 13.014, -2.089, 27.123, -13.296, 15.803, 7.644, -1.737,\n",
       "       24.309, 14.393, -19.308, 13.596, 28.291, -1.818, -4.182, -12.602,\n",
       "       0.519, 14.515, -15.562, -26.136, -6.724, -26.803, 11.256, -7.743,\n",
       "       -34.317, -6.181, -3.061, 9.774, -2.116, 38.166, -9.583, -0.457,\n",
       "       -1.267, -4.861, 3.640, 11.616, 27.593, -30.594, -9.416, -8.164,\n",
       "       19.548, -6.342, -37.112, 2.546, 0.117, 4.386, -20.012, 35.172,\n",
       "       -5.686, -2.975, -17.209, -17.829, -23.663, -7.075, -18.360, 41.921,\n",
       "       -36.979, -21.775, -7.237, 14.261, -7.484, 14.311, -18.945, 1.977,\n",
       "       35.672, -18.564, 9.183, 4.930, -44.239, -10.988, 23.414, 3.493,\n",
       "       -23.454, 14.607, -8.791, 7.992, 8.330, -21.583, 16.588, -19.359,\n",
       "       -25.324, -16.865, -6.131, 2.979, -14.660, 15.688, 5.821, -13.105,\n",
       "       18.571, 24.013, -1.182, -3.508, -34.684, -7.359, -5.039, 5.699,\n",
       "       -2.577, 5.672, 31.473, -9.807, -9.028, -25.392, 0.618, 20.328,\n",
       "       -34.230, -12.526, 1.510, 17.793, 8.449, 7.301, -3.695, 10.429,\n",
       "       21.077, -33.389, 15.362, -1.184, -9.808, -48.070, -26.816, 34.752,\n",
       "       -12.980, -20.904, -8.337, -14.112, 3.278, 31.131, -10.941, 3.877,\n",
       "       -22.153, 31.195, 4.572, -20.845, 18.877, 24.791, 4.020, -31.997,\n",
       "       36.495, 6.994, 24.200, -10.227, -7.181, 3.000, 23.059, 3.651,\n",
       "       -24.345, 6.031, 33.382, 2.107, 3.379, -24.460, -27.268, -11.963,\n",
       "       -5.739, 2.872, 4.110, 32.829, 1.965, 22.080, 0.005, 29.769,\n",
       "       -36.617, -11.183, 20.452, -2.641, 19.422, 8.493, 19.709, 13.053,\n",
       "       14.264, 30.640, 20.521, 20.667, 1.200, -10.846, -12.400, 15.810,\n",
       "       -47.978, -25.352, -18.474, -4.161, -51.837, 25.966, 12.795, 40.483,\n",
       "       22.036, 21.399, 45.805, -10.628, -29.278, -3.856, -15.709, -4.346,\n",
       "       -20.213, 12.149, 11.051, 0.253, 7.023, -2.050, 15.832, 2.184,\n",
       "       -4.518, 19.383, 26.008, 27.540, -19.014, -9.898, -33.239, -3.980,\n",
       "       9.114, -1.865, 39.408, -7.326, -20.979, 12.161, 3.790, 11.784,\n",
       "       6.867, 5.667, -41.655, -13.731, -11.015, -6.168, -8.177, 9.048,\n",
       "       12.809, -21.842, 14.527, 12.507, 10.107, -27.567, 9.603, 2.443,\n",
       "       20.009, 36.478, 32.553, 3.044, 0.754, 13.430, -21.510, -28.222,\n",
       "       -8.659, 25.203, -5.831, 30.843, -54.971, -30.953, -1.682, 18.555,\n",
       "       -0.601, -1.122, -1.644, -34.467, 23.953, -12.864, 22.582, -0.619,\n",
       "       22.154, 7.656, -1.342, 5.317, -28.668, 0.912, 35.112, 26.955,\n",
       "       -18.909, 10.905, 5.751, 17.135, 2.674, -3.879, 27.404, 5.119,\n",
       "       25.901, 20.279, -5.698, -2.549, 39.388, 4.621, -14.381, -23.210,\n",
       "       20.274, 3.997, -15.051, 14.283, 3.986, -32.418, 12.565, 27.455,\n",
       "       51.988, 1.489, 5.444, 32.923, 4.166, 6.298, -11.821, -27.096,\n",
       "       19.045, -24.680, 23.604, -14.972, 6.096, -6.654, 24.283, 6.808,\n",
       "       39.973, -20.882, 9.069, 1.738, 6.390, 32.710, 12.498, -22.159,\n",
       "       11.461, -7.521, -8.676, 21.708, -11.256, -6.803, 1.439, 19.715,\n",
       "       12.423, -3.897, -4.652, -22.411, -14.405, -12.296, -2.195, 40.527,\n",
       "       -12.718, -5.125, -40.257, 12.803, -30.758, -17.341, 21.638,\n",
       "       -41.307, 2.710, 16.810, 31.300, -17.611, -11.689, 36.880, 0.290,\n",
       "       -13.934, -13.558, -18.660, -8.002, 22.556, 18.547, -22.694, 5.083,\n",
       "       -7.252, 16.440, -2.336, 8.222, -2.381, -42.950, 1.731, -24.644,\n",
       "       15.734, -12.805, -11.309, 0.613, 12.347, -2.604, 33.635, 33.768,\n",
       "       35.101, -3.895, -28.848, 25.193, -7.536, 1.555, 13.358, -31.297,\n",
       "       33.374, 18.291, 7.837, 18.610, 11.930, 3.128, -5.364, -13.992,\n",
       "       6.536, 8.015, 22.455, 4.804, -16.273, -30.733, -1.760, 0.242,\n",
       "       -1.171, -29.819, 22.281, 22.244, -15.674, 16.911, 19.848, 1.560,\n",
       "       -18.179, 33.059, 8.410, -4.229, 16.248, 33.235, -9.152, 14.620,\n",
       "       39.654, -21.540, -10.194, -11.166, -2.375, -3.408, 6.807, -15.616,\n",
       "       -11.662, 6.817, 3.890, 18.273, 8.978, 16.228, -22.068, -6.877,\n",
       "       37.759, 8.633, 15.739, 6.246, 9.298, -3.827, 72.223, -7.132, 0.025,\n",
       "       -47.705, 22.917, -10.254, -0.425, -9.770, -1.982, -4.894, -0.070,\n",
       "       -0.265, -2.293, -2.566, 26.962, 18.420, 18.540, -13.858, 25.928,\n",
       "       23.424, -10.277, 31.268, -12.873, -36.049, 22.822, -1.599, 20.330,\n",
       "       -14.293, -24.444, 25.429, -27.354, -30.429, -37.720, -55.098,\n",
       "       -19.991, -42.597, 0.079, -43.937, -21.094, 47.433, 7.694, 1.847,\n",
       "       -31.624, -4.121, 1.753, -31.312, 3.315, 24.616, -6.174, -3.153,\n",
       "       -40.051, -27.193, 21.945, -12.440, -17.803, -13.060, -0.358,\n",
       "       -22.377, 3.322, -26.409, 16.271, -20.350, 27.197, 0.591, -16.122,\n",
       "       19.020, -26.699, -10.150, 0.790, -1.632, -39.380, -17.622, 4.156,\n",
       "       -25.607, 26.120, 10.695, -9.494, -3.615, 38.023, 19.511, 8.396,\n",
       "       -27.519, 33.384, 21.839, -2.177, -10.203, -2.967, -23.247, -8.624,\n",
       "       16.054, -35.361, -5.490, 3.066, 2.863, -22.787, -22.852, 22.575,\n",
       "       -23.699, 20.964, -8.856, 22.387, -7.630, -22.538, 17.922, 0.443,\n",
       "       29.763, 18.635, -3.797, -8.202, 1.259, 4.595, -16.844, 17.630,\n",
       "       -7.156, -7.669, -10.022, 5.412, -13.050, 3.491, 56.123, -0.281,\n",
       "       -7.889, -32.563, 1.796, -21.393, -6.720, 3.823, -33.829, 3.941,\n",
       "       6.882, -25.151, -7.055, -35.822, 32.301, 7.403, -2.800, -2.477,\n",
       "       23.420, -1.092, 7.408, 31.164, -6.132, -21.061, -15.699, 29.365,\n",
       "       2.620, -9.255, 20.264, 20.750, -8.722, -18.647, -30.619, -35.086,\n",
       "       -4.508, -17.073, 37.961, 1.962, -38.052, 29.166, 4.025, 14.891,\n",
       "       14.432, 6.722, 11.258, 5.566, -21.336, 8.126, 21.269, -3.410,\n",
       "       11.817, 9.183, 37.104, -4.264, -5.049, -1.547, -1.257, -44.661,\n",
       "       -12.061, 6.789, 0.626, -15.196, -12.504, -6.321, -15.240, -9.470,\n",
       "       -9.997, 18.699, 21.119, 19.463, 9.325, -13.375, 19.988, -5.494,\n",
       "       1.252, 27.556, 2.471, 5.737, -27.464, 10.531, -18.809, 21.030,\n",
       "       -2.901, -43.932, -6.369, -3.769, 10.501, 14.202, -5.764, 21.049,\n",
       "       -62.550, -13.488, -21.456, -24.292, 19.985, 17.375, -14.724,\n",
       "       24.352, 2.821, -7.642, -13.067, -14.774, 10.247, 13.794, 5.561,\n",
       "       -40.213, 6.718, 12.099, -12.593, 1.656, -36.486, -23.808, -5.693,\n",
       "       -5.404, 7.825, -22.947, -6.033, -9.004, 11.351, 29.212, 35.210,\n",
       "       -30.578, -0.169, -21.459, -0.504, 9.250, 2.421, -0.189, 30.452,\n",
       "       15.211, -4.662, 1.276, 18.209, 12.987, -7.710, -34.714, -22.902,\n",
       "       3.711, -34.939, -2.257, -8.280, 20.776, -25.570, -37.844, -7.602,\n",
       "       13.487, 22.190, -17.395, 10.197, -21.437])"
      ]
     },
     "execution_count": 14,
     "metadata": {},
     "output_type": "execute_result"
    }
   ],
   "source": [
    "data - np.mean(data)"
   ]
  },
  {
   "cell_type": "code",
   "execution_count": 15,
   "id": "2f88ef51",
   "metadata": {},
   "outputs": [
    {
     "data": {
      "text/plain": [
       "-7.815970093361102e-12"
      ]
     },
     "execution_count": 15,
     "metadata": {},
     "output_type": "execute_result"
    }
   ],
   "source": [
    "# 편차의 합은 항상 0\n",
    "(data - np.mean(data)).sum()"
   ]
  },
  {
   "cell_type": "markdown",
   "id": "5a8744c8",
   "metadata": {},
   "source": [
    "**분산(variance)**\n",
    "- 산포도의 척도로 가장 널리 사용되는 방법\n",
    "- 평균을 중심으로 데이터가 퍼져 있는 정도의 측도\n",
    "\n",
    "- 각 데이터와 평균과의 차이를 제곱하여 합한 값의 평균\n",
    "    - 모분산 : n으로 나누어줌\n",
    "    - 표본분산 : n-1로 나누어줌"
   ]
  },
  {
   "cell_type": "markdown",
   "id": "0bb5a452",
   "metadata": {},
   "source": [
    "분산 계산 : var() 함수\n",
    "\n",
    "기본값은 0 -> 모집단 분산\n",
    "\n",
    "표본 분산의 경우 1로 설정 (ddof = 1)"
   ]
  },
  {
   "cell_type": "code",
   "execution_count": 20,
   "id": "a1c21381",
   "metadata": {},
   "outputs": [
    {
     "data": {
      "text/plain": [
       "2.5"
      ]
     },
     "execution_count": 20,
     "metadata": {},
     "output_type": "execute_result"
    },
    {
     "data": {
      "text/plain": [
       "2.0"
      ]
     },
     "execution_count": 20,
     "metadata": {},
     "output_type": "execute_result"
    },
    {
     "data": {
      "text/plain": [
       "2.0"
      ]
     },
     "execution_count": 20,
     "metadata": {},
     "output_type": "execute_result"
    },
    {
     "data": {
      "text/plain": [
       "pandas.core.series.Series"
      ]
     },
     "execution_count": 20,
     "metadata": {},
     "output_type": "execute_result"
    }
   ],
   "source": [
    "x = [1,2,3,4,5]\n",
    "\n",
    "# 표본분산이 항상 모분산보다 크게 나온다\n",
    "np.var(x, ddof = 1)\n",
    "\n",
    "# 모분산\n",
    "np.var(x)\n",
    "\n",
    "# 모분산\n",
    "np.array(x).var()\n",
    "pd.Series"
   ]
  },
  {
   "cell_type": "markdown",
   "id": "733d5d8f",
   "metadata": {},
   "source": [
    "**표준편차**\n",
    "\n",
    "계산된 분산의 제곱근으로 계산\n",
    "\n",
    "표준편차 계산 : std() 함수 사용\n",
    "- 데이터의 단위와 동일하게 만듬\n",
    "\n"
   ]
  },
  {
   "cell_type": "code",
   "execution_count": 24,
   "id": "994e0141",
   "metadata": {},
   "outputs": [
    {
     "data": {
      "text/plain": [
       "1.4142135623730951"
      ]
     },
     "execution_count": 24,
     "metadata": {},
     "output_type": "execute_result"
    }
   ],
   "source": [
    "np.std(x)"
   ]
  },
  {
   "cell_type": "code",
   "execution_count": 25,
   "id": "d03eb4db",
   "metadata": {},
   "outputs": [
    {
     "data": {
      "text/plain": [
       "1.5811388300841898"
      ]
     },
     "execution_count": 25,
     "metadata": {},
     "output_type": "execute_result"
    }
   ],
   "source": [
    "np.std(x , ddof=1) # 표본 표준편차"
   ]
  },
  {
   "cell_type": "markdown",
   "id": "ba2b5abb",
   "metadata": {},
   "source": [
    "변동계수\n",
    "\n",
    "표본 표준편차를 표본평균으로 나눈 값 또는 그 값에 100을 곱한 값"
   ]
  },
  {
   "cell_type": "markdown",
   "id": "407096d5",
   "metadata": {},
   "source": [
    "**변동계수 계산**\n",
    "scipy.stats.variation()\n",
    "np.std()/np.mean()"
   ]
  },
  {
   "cell_type": "code",
   "execution_count": 26,
   "id": "d7c2abf7",
   "metadata": {},
   "outputs": [
    {
     "name": "stdout",
     "output_type": "stream",
     "text": [
      "평균\n"
     ]
    },
    {
     "data": {
      "text/plain": [
       "72.0"
      ]
     },
     "execution_count": 26,
     "metadata": {},
     "output_type": "execute_result"
    },
    {
     "data": {
      "text/plain": [
       "49.0"
      ]
     },
     "execution_count": 26,
     "metadata": {},
     "output_type": "execute_result"
    },
    {
     "name": "stdout",
     "output_type": "stream",
     "text": [
      "표본표준편차\n"
     ]
    },
    {
     "data": {
      "text/plain": [
       "4.242640687119285"
      ]
     },
     "execution_count": 26,
     "metadata": {},
     "output_type": "execute_result"
    },
    {
     "data": {
      "text/plain": [
       "3.22490309931942"
      ]
     },
     "execution_count": 26,
     "metadata": {},
     "output_type": "execute_result"
    }
   ],
   "source": [
    "men = [72, 74 , 77 , 68 , 66 , 75]\n",
    "women = [45, 48, 52, 53 , 46, 50]\n",
    "\n",
    "print('평균')\n",
    "np.mean(men)\n",
    "np.mean(women)\n",
    "print('표본표준편차')\n",
    "np.std(men, ddof = 1)\n",
    "np.std(women, ddof = 1)\n"
   ]
  },
  {
   "cell_type": "code",
   "execution_count": 29,
   "id": "3669bcae",
   "metadata": {},
   "outputs": [
    {
     "name": "stdout",
     "output_type": "stream",
     "text": [
      "남자CV:  0.05892556509887895\n",
      "여자CV:  0.06581434896570246\n"
     ]
    }
   ],
   "source": [
    "# np.std() / np.mean(x) 이용\n",
    "print('남자CV: ' , np.std(men,ddof=1)/np.mean(men))\n",
    "print('여자CV: ' , np.std(women,ddof=1)/np.mean(women))"
   ]
  },
  {
   "cell_type": "code",
   "execution_count": 31,
   "id": "818c27b1",
   "metadata": {},
   "outputs": [
    {
     "name": "stdout",
     "output_type": "stream",
     "text": [
      "남자CV 0.053791435363991905\n",
      "여자CV 0.06008000589338671\n"
     ]
    }
   ],
   "source": [
    "# scipy.stats.variation() 이용\n",
    "\n",
    "print('남자CV' , variation(men))\n",
    "print('여자CV' , variation(women))"
   ]
  },
  {
   "cell_type": "markdown",
   "id": "af1db78b",
   "metadata": {},
   "source": [
    "스케일링(표준화)\n",
    "\n",
    "- 각 값들을 상대적인 값으로 변화시키는 기법\n",
    "- 국어 평균 95점 , 수학 평균 30점\n",
    "\n",
    "1. 표준 정규화\n",
    "    - 평균 : 0 , 표준편차 : 1이 됨\n",
    "2. min-max scaling\n",
    "    - 0~ 1 사이의 값으로 변환"
   ]
  },
  {
   "cell_type": "code",
   "execution_count": 44,
   "id": "40f2e931",
   "metadata": {},
   "outputs": [],
   "source": [
    "# 표준화 예제\n",
    "\n",
    "df = pd.read_csv('C:/Users/hspar/Desktop/HS_Park/멀티캠퍼스/data/ch2_scores_em.csv')"
   ]
  },
  {
   "cell_type": "code",
   "execution_count": 45,
   "id": "e9e868a5",
   "metadata": {},
   "outputs": [
    {
     "data": {
      "text/html": [
       "<div>\n",
       "<style scoped>\n",
       "    .dataframe tbody tr th:only-of-type {\n",
       "        vertical-align: middle;\n",
       "    }\n",
       "\n",
       "    .dataframe tbody tr th {\n",
       "        vertical-align: top;\n",
       "    }\n",
       "\n",
       "    .dataframe thead th {\n",
       "        text-align: right;\n",
       "    }\n",
       "</style>\n",
       "<table border=\"1\" class=\"dataframe\">\n",
       "  <thead>\n",
       "    <tr style=\"text-align: right;\">\n",
       "      <th></th>\n",
       "      <th>student number</th>\n",
       "      <th>english</th>\n",
       "      <th>mathematics</th>\n",
       "    </tr>\n",
       "  </thead>\n",
       "  <tbody>\n",
       "    <tr>\n",
       "      <th>0</th>\n",
       "      <td>1</td>\n",
       "      <td>42</td>\n",
       "      <td>65</td>\n",
       "    </tr>\n",
       "    <tr>\n",
       "      <th>1</th>\n",
       "      <td>2</td>\n",
       "      <td>69</td>\n",
       "      <td>80</td>\n",
       "    </tr>\n",
       "    <tr>\n",
       "      <th>2</th>\n",
       "      <td>3</td>\n",
       "      <td>56</td>\n",
       "      <td>63</td>\n",
       "    </tr>\n",
       "    <tr>\n",
       "      <th>3</th>\n",
       "      <td>4</td>\n",
       "      <td>41</td>\n",
       "      <td>63</td>\n",
       "    </tr>\n",
       "    <tr>\n",
       "      <th>4</th>\n",
       "      <td>5</td>\n",
       "      <td>57</td>\n",
       "      <td>76</td>\n",
       "    </tr>\n",
       "  </tbody>\n",
       "</table>\n",
       "</div>"
      ],
      "text/plain": [
       "   student number  english  mathematics\n",
       "0               1       42           65\n",
       "1               2       69           80\n",
       "2               3       56           63\n",
       "3               4       41           63\n",
       "4               5       57           76"
      ]
     },
     "execution_count": 45,
     "metadata": {},
     "output_type": "execute_result"
    }
   ],
   "source": [
    "df.head()"
   ]
  },
  {
   "cell_type": "code",
   "execution_count": 46,
   "id": "d756ca78",
   "metadata": {},
   "outputs": [
    {
     "data": {
      "text/plain": [
       "count    50.000000\n",
       "mean     58.380000\n",
       "std       9.799813\n",
       "min      37.000000\n",
       "25%      54.000000\n",
       "50%      57.500000\n",
       "75%      65.000000\n",
       "max      79.000000\n",
       "Name: english, dtype: float64"
      ]
     },
     "execution_count": 46,
     "metadata": {},
     "output_type": "execute_result"
    }
   ],
   "source": [
    "df['english'].describe()"
   ]
  },
  {
   "cell_type": "code",
   "execution_count": 47,
   "id": "b1493234",
   "metadata": {},
   "outputs": [
    {
     "data": {
      "text/plain": [
       "count    50.000000\n",
       "mean     78.880000\n",
       "std       8.414371\n",
       "min      57.000000\n",
       "25%      76.000000\n",
       "50%      80.000000\n",
       "75%      84.000000\n",
       "max      94.000000\n",
       "Name: mathematics, dtype: float64"
      ]
     },
     "execution_count": 47,
     "metadata": {},
     "output_type": "execute_result"
    }
   ],
   "source": [
    "df['mathematics'].describe()"
   ]
  },
  {
   "cell_type": "code",
   "execution_count": 48,
   "id": "663097e9",
   "metadata": {},
   "outputs": [
    {
     "name": "stdout",
     "output_type": "stream",
     "text": [
      "-2.1816743772942324 2.104121873704727\n",
      "-2.600313324789425 1.796925844187209\n"
     ]
    }
   ],
   "source": [
    "# Z 스케일링 = 평균이 0 표준편차가 1이 됨\n",
    "z1 = (df['english']-df['english'].mean())/df['english'].std()\n",
    "z2 = (df['mathematics']-df['mathematics'].mean())/df['mathematics'].std()\n",
    "\n",
    "print(z1.min() , z1.max())\n",
    "print(z2.min() , z2.max())\n",
    "# -3 ~ 3 사이의 값으로 분포됨\n",
    "      "
   ]
  },
  {
   "cell_type": "code",
   "execution_count": 49,
   "id": "059a11c4",
   "metadata": {},
   "outputs": [
    {
     "data": {
      "text/plain": [
       "(-2.3092638912203257e-16, 1.0)"
      ]
     },
     "execution_count": 49,
     "metadata": {},
     "output_type": "execute_result"
    }
   ],
   "source": [
    "z1.mean() , z1.std()"
   ]
  },
  {
   "cell_type": "code",
   "execution_count": 55,
   "id": "bef02797",
   "metadata": {},
   "outputs": [
    {
     "name": "stdout",
     "output_type": "stream",
     "text": [
      "eng:  0.0 1.0\n",
      "math 0.0 1.0\n"
     ]
    }
   ],
   "source": [
    "# min-max scaling\n",
    "s1 = (df['english']-df['english'].min())/(df['english'].max()-df['english'].min())\n",
    "s2 = (df['mathematics']-df['mathematics'].min())/(df['mathematics'].max()-df['mathematics'].min())\n",
    "print('eng: ' , s1.min() , s2.max())\n",
    "print('math' , s2.min() , s2.max())\n",
    "# -3 ~ 3 사이의 값으로 분포됨\n"
   ]
  },
  {
   "cell_type": "markdown",
   "id": "ae0e9141",
   "metadata": {},
   "source": [
    "**sklearn.preprocessing.MinMaxScaler 를 이용한 스케일링\n",
    "- 머신러닝을 위해 쓴느 경우가 대부분\n",
    "- df의 각 열에 대해서 스케일링하는데 적합함"
   ]
  },
  {
   "cell_type": "code",
   "execution_count": 57,
   "id": "1bfc1393",
   "metadata": {
    "scrolled": true
   },
   "outputs": [
    {
     "data": {
      "text/html": [
       "<div>\n",
       "<style scoped>\n",
       "    .dataframe tbody tr th:only-of-type {\n",
       "        vertical-align: middle;\n",
       "    }\n",
       "\n",
       "    .dataframe tbody tr th {\n",
       "        vertical-align: top;\n",
       "    }\n",
       "\n",
       "    .dataframe thead th {\n",
       "        text-align: right;\n",
       "    }\n",
       "</style>\n",
       "<table border=\"1\" class=\"dataframe\">\n",
       "  <thead>\n",
       "    <tr style=\"text-align: right;\">\n",
       "      <th></th>\n",
       "      <th>student number</th>\n",
       "      <th>english</th>\n",
       "      <th>mathematics</th>\n",
       "    </tr>\n",
       "  </thead>\n",
       "  <tbody>\n",
       "    <tr>\n",
       "      <th>0</th>\n",
       "      <td>0.000000</td>\n",
       "      <td>0.119048</td>\n",
       "      <td>0.216216</td>\n",
       "    </tr>\n",
       "    <tr>\n",
       "      <th>1</th>\n",
       "      <td>0.020408</td>\n",
       "      <td>0.761905</td>\n",
       "      <td>0.621622</td>\n",
       "    </tr>\n",
       "    <tr>\n",
       "      <th>2</th>\n",
       "      <td>0.040816</td>\n",
       "      <td>0.452381</td>\n",
       "      <td>0.162162</td>\n",
       "    </tr>\n",
       "    <tr>\n",
       "      <th>3</th>\n",
       "      <td>0.061224</td>\n",
       "      <td>0.095238</td>\n",
       "      <td>0.162162</td>\n",
       "    </tr>\n",
       "    <tr>\n",
       "      <th>4</th>\n",
       "      <td>0.081633</td>\n",
       "      <td>0.476190</td>\n",
       "      <td>0.513514</td>\n",
       "    </tr>\n",
       "  </tbody>\n",
       "</table>\n",
       "</div>"
      ],
      "text/plain": [
       "   student number   english  mathematics\n",
       "0        0.000000  0.119048     0.216216\n",
       "1        0.020408  0.761905     0.621622\n",
       "2        0.040816  0.452381     0.162162\n",
       "3        0.061224  0.095238     0.162162\n",
       "4        0.081633  0.476190     0.513514"
      ]
     },
     "execution_count": 57,
     "metadata": {},
     "output_type": "execute_result"
    }
   ],
   "source": [
    "from sklearn.preprocessing import MinMaxScaler\n",
    "\n",
    "scaler = MinMaxScaler()\n",
    "S = scaler.fit_transform(df)\n",
    "pd.DataFrame(S  , columns = df.columns , index = df.index).head()"
   ]
  },
  {
   "cell_type": "markdown",
   "id": "9607ba94",
   "metadata": {},
   "source": [
    "# 데이터 분석\n",
    "- 데이터 분석이란?\n",
    "    - 주어진 문제를 해결하기 위해 데이터를 다루는 과정\n",
    "    - 현상의 이해를 통해 미래를 예측하는 문제해결기법\n",
    "    - 인사이트를 도출하기 위해 알고리즘과 수학적 처리과정을 적용하여 해당 정보에 대한 결론을 도출하고 패턴을 찾는 과정\n",
    "    \n",
    "- 데이터 분석의 이해\n",
    "    - 다양한 내/외부 , 정형/비정형 데이터를 획득하여 새로운 통찰과 가치 창출\n",
    "    - 업무에 대한 문제해결 및 의사결정\n",
    "\n",
    "- 분석대상\n",
    "    - 데이터 분석 대상은 세상에 존재하는 다양한 유무형의 객체들이 가지고 있는 속성과 관계들\n",
    "- 분석과제 기획 방향\n",
    "    - 수요기반 분석과제 도출\n",
    "    - 데이터 기반 분석과제 도출\n",
    "    \n",
    "**기술통계**\n",
    "수집한 데이터를 요약 , 묘사 , 설명하는 기법\n",
    "\n",
    "**추측통계**\n",
    "수집한 데이터를 기반으로 모집단의 특성을 추론 예측하는 기법\n",
    "전체를 파악할 수 없을 정도의 큰 대상이나 아직 발생하지 않은 미래의 일에 대해 추측하는 기술\n",
    "확률이론 기반\n",
    "\n",
    "**데이터 마이닝**\n",
    "저장된 방대한 양의 데이터 안에서 자동으로 체계적이고 통계적인 규칙이나 패턴을 찾아내는 데이터베이스 파생기술\n",
    "\n",
    "## 데이터(data)\n",
    "- 정의\n",
    "    - 가치판단의 근거가 될 수 있는 것\n",
    "    - 현실 세계로부터의 단순한 관찰이나 측정을 ㅗㅌㅇ해 수집된 사실이나 값\n",
    "    - 대상물 또는 상황\n",
    "    - 원 자료(raw data) : 가공되지 않은 상태\n",
    "    - 분석의 원자재\n",
    "    \n",
    "* 독립변수 (설명변수 / 예측변수)\n",
    "* 종속변수 (반응변수 / 결과변수)\n",
    "\n",
    "\n",
    "** 기술 통계\n",
    "=> EDA\n",
    "- 수집된 자료의 특성을 쉽게 파악할 수 있도록 자료를 정리, 분석하여 해석하기 쉬운 형태로 만드는 것\n",
    "    - 도표나 차트로 표현\n",
    "    - 숫자(통계량)로 표현\n",
    "    \n",
    "** 추론 통계\n",
    "- 표본 정보(통계량)에 입각하여 모집단의 정보를 모으는 과정"
   ]
  },
  {
   "cell_type": "markdown",
   "id": "bbb6bfd4",
   "metadata": {},
   "source": [
    "참고 사이트\n",
    "\n",
    "scipy stats\n",
    "https://docs.scipy.org/doc/scipy/reference/stats.html\n",
    "\n",
    "numpy stats\n",
    "https://numpy.org/doc/stable/reference/routines.statistics.html\n",
    "\n",
    "math stats\n",
    "https://docs.python.org/ko/3/library/math.html#number-theoretic-and-representation-functions"
   ]
  },
  {
   "cell_type": "markdown",
   "id": "b4dfadd7",
   "metadata": {},
   "source": [
    "## 위치 통계량\n",
    "- 중심 경향성\n",
    "\n",
    "**평균**\n",
    "- 가장 많이 사용되는 대표값\n",
    "    - 모든 데이터의 합을 데이터의 개수로 나눈 값\n",
    "    \n",
    "- 특징\n",
    "    - 계산이 쉽고 수학적으로 활용하기 편함\n",
    "    - 데이터에 극단적인 값이 포함되어 평균이 왜곡될 경우 중앙값을 사용"
   ]
  },
  {
   "cell_type": "markdown",
   "id": "399cf2d8",
   "metadata": {},
   "source": [
    "**산술평균(arithmetic mean)**"
   ]
  },
  {
   "cell_type": "code",
   "execution_count": 21,
   "id": "af8c66ce",
   "metadata": {},
   "outputs": [
    {
     "data": {
      "text/plain": [
       "3.0"
      ]
     },
     "execution_count": 21,
     "metadata": {},
     "output_type": "execute_result"
    }
   ],
   "source": [
    "x = [1, 2, 3, 4, 5]\n",
    "np.mean(x)"
   ]
  },
  {
   "cell_type": "code",
   "execution_count": 22,
   "id": "3665b23d",
   "metadata": {},
   "outputs": [
    {
     "data": {
      "text/plain": [
       "3.0"
      ]
     },
     "execution_count": 22,
     "metadata": {},
     "output_type": "execute_result"
    }
   ],
   "source": [
    "np.array(x).mean()"
   ]
  },
  {
   "cell_type": "code",
   "execution_count": 23,
   "id": "d5e429c8",
   "metadata": {},
   "outputs": [
    {
     "data": {
      "text/plain": [
       "3.000"
      ]
     },
     "execution_count": 23,
     "metadata": {},
     "output_type": "execute_result"
    }
   ],
   "source": [
    "pd.Series(x).mean()"
   ]
  },
  {
   "cell_type": "code",
   "execution_count": 24,
   "id": "bc8e9fef",
   "metadata": {},
   "outputs": [
    {
     "data": {
      "text/html": [
       "<div>\n",
       "<style scoped>\n",
       "    .dataframe tbody tr th:only-of-type {\n",
       "        vertical-align: middle;\n",
       "    }\n",
       "\n",
       "    .dataframe tbody tr th {\n",
       "        vertical-align: top;\n",
       "    }\n",
       "\n",
       "    .dataframe thead th {\n",
       "        text-align: right;\n",
       "    }\n",
       "</style>\n",
       "<table border=\"1\" class=\"dataframe\">\n",
       "  <thead>\n",
       "    <tr style=\"text-align: right;\">\n",
       "      <th></th>\n",
       "      <th>english</th>\n",
       "      <th>mathematics</th>\n",
       "    </tr>\n",
       "    <tr>\n",
       "      <th>student number</th>\n",
       "      <th></th>\n",
       "      <th></th>\n",
       "    </tr>\n",
       "  </thead>\n",
       "  <tbody>\n",
       "    <tr>\n",
       "      <th>1</th>\n",
       "      <td>42</td>\n",
       "      <td>65</td>\n",
       "    </tr>\n",
       "    <tr>\n",
       "      <th>2</th>\n",
       "      <td>69</td>\n",
       "      <td>80</td>\n",
       "    </tr>\n",
       "    <tr>\n",
       "      <th>3</th>\n",
       "      <td>56</td>\n",
       "      <td>63</td>\n",
       "    </tr>\n",
       "    <tr>\n",
       "      <th>4</th>\n",
       "      <td>41</td>\n",
       "      <td>63</td>\n",
       "    </tr>\n",
       "    <tr>\n",
       "      <th>5</th>\n",
       "      <td>57</td>\n",
       "      <td>76</td>\n",
       "    </tr>\n",
       "  </tbody>\n",
       "</table>\n",
       "</div>"
      ],
      "text/plain": [
       "                english  mathematics\n",
       "student number                      \n",
       "1                    42           65\n",
       "2                    69           80\n",
       "3                    56           63\n",
       "4                    41           63\n",
       "5                    57           76"
      ]
     },
     "execution_count": 24,
     "metadata": {},
     "output_type": "execute_result"
    }
   ],
   "source": [
    "df = pd.read_csv('C:/Users/hspar/Desktop/HS_Park/멀티캠퍼스/data/ch2_scores_em.csv' ,\n",
    "                index_col='student number')\n",
    "df.head()"
   ]
  },
  {
   "cell_type": "code",
   "execution_count": 25,
   "id": "9347fe4e",
   "metadata": {},
   "outputs": [
    {
     "data": {
      "text/plain": [
       "(50, 2)"
      ]
     },
     "execution_count": 25,
     "metadata": {},
     "output_type": "execute_result"
    }
   ],
   "source": [
    "df.shape"
   ]
  },
  {
   "cell_type": "code",
   "execution_count": 26,
   "id": "f6d5b0b2",
   "metadata": {},
   "outputs": [
    {
     "data": {
      "text/plain": [
       "50"
      ]
     },
     "execution_count": 26,
     "metadata": {},
     "output_type": "execute_result"
    }
   ],
   "source": [
    "len(df)"
   ]
  },
  {
   "cell_type": "code",
   "execution_count": 27,
   "id": "cbb63fc6",
   "metadata": {},
   "outputs": [
    {
     "data": {
      "text/plain": [
       "58.380"
      ]
     },
     "execution_count": 27,
     "metadata": {},
     "output_type": "execute_result"
    }
   ],
   "source": [
    "# 영어 과목의 평균 계산\n",
    "sum(df['english'])/len(df['english'])"
   ]
  },
  {
   "cell_type": "code",
   "execution_count": 28,
   "id": "4ae5ae66",
   "metadata": {},
   "outputs": [
    {
     "data": {
      "text/plain": [
       "58.380"
      ]
     },
     "execution_count": 28,
     "metadata": {},
     "output_type": "execute_result"
    }
   ],
   "source": [
    "# numpy의 mean()함수 이용하여 산술평균 계산\n",
    "np.mean(df['english'])"
   ]
  },
  {
   "cell_type": "code",
   "execution_count": 29,
   "id": "11ffb2b6",
   "metadata": {},
   "outputs": [
    {
     "data": {
      "text/plain": [
       "58.380"
      ]
     },
     "execution_count": 29,
     "metadata": {},
     "output_type": "execute_result"
    }
   ],
   "source": [
    "# pandas의 데이터프레임에서 mean()함수 이용하여 산술평균 계산\n",
    "df['english'].mean()"
   ]
  },
  {
   "cell_type": "markdown",
   "id": "33c9633d",
   "metadata": {},
   "source": [
    "**기하평균**\n",
    "\n",
    "n개의 양수 값을 모두 곱한 것의 n제곱근\n",
    "\n",
    "성장률의 평균"
   ]
  },
  {
   "cell_type": "markdown",
   "id": "7e33b138",
   "metadata": {},
   "source": [
    "예. 회사의 연평균 매출 증가율\n",
    "- 1차년도에 200% , 2차년도에 800% , 3차년도에 300% 성장을 했다면 3개년도의 연평균 성장율은?"
   ]
  },
  {
   "cell_type": "code",
   "execution_count": 30,
   "id": "beb31955",
   "metadata": {},
   "outputs": [],
   "source": [
    "data = [2,8,3]"
   ]
  },
  {
   "cell_type": "code",
   "execution_count": 31,
   "id": "c582f989",
   "metadata": {},
   "outputs": [
    {
     "data": {
      "text/plain": [
       "4.333333333333333"
      ]
     },
     "execution_count": 31,
     "metadata": {},
     "output_type": "execute_result"
    }
   ],
   "source": [
    "# 산술 평균\n",
    "np.mean(data)"
   ]
  },
  {
   "cell_type": "markdown",
   "id": "5a6a9a13",
   "metadata": {},
   "source": [
    "매년 평균 430% 성장으로 나타남\n",
    "\n",
    "430 * 430 * 430 성장한게 된다면 실제 성장 200 * 800 * 300 과 차이가 많이 난다.\n",
    "\n",
    "곱하기를 해서 나오는 값에 대한 평균은 산술평균보다는 기하평균을 사용!!"
   ]
  },
  {
   "cell_type": "code",
   "execution_count": 32,
   "id": "729deaeb",
   "metadata": {},
   "outputs": [
    {
     "ename": "NameError",
     "evalue": "name 'math' is not defined",
     "output_type": "error",
     "traceback": [
      "\u001b[1;31m---------------------------------------------------------------------------\u001b[0m",
      "\u001b[1;31mNameError\u001b[0m                                 Traceback (most recent call last)",
      "\u001b[1;32m<ipython-input-32-32fa06fe5eb6>\u001b[0m in \u001b[0;36m<module>\u001b[1;34m\u001b[0m\n\u001b[0;32m      1\u001b[0m \u001b[1;31m# 기하 평균\u001b[0m\u001b[1;33m\u001b[0m\u001b[1;33m\u001b[0m\u001b[1;33m\u001b[0m\u001b[0m\n\u001b[1;32m----> 2\u001b[1;33m \u001b[0mmath\u001b[0m\u001b[1;33m.\u001b[0m\u001b[0mprod\u001b[0m\u001b[1;33m(\u001b[0m\u001b[0mdata\u001b[0m\u001b[1;33m)\u001b[0m\u001b[1;33m**\u001b[0m\u001b[1;33m(\u001b[0m\u001b[1;36m1\u001b[0m\u001b[1;33m/\u001b[0m\u001b[0mlen\u001b[0m\u001b[1;33m(\u001b[0m\u001b[0mdata\u001b[0m\u001b[1;33m)\u001b[0m\u001b[1;33m)\u001b[0m\u001b[1;33m\u001b[0m\u001b[1;33m\u001b[0m\u001b[0m\n\u001b[0m",
      "\u001b[1;31mNameError\u001b[0m: name 'math' is not defined"
     ]
    }
   ],
   "source": [
    "# 기하 평균\n",
    "math.prod(data)**(1/len(data))"
   ]
  },
  {
   "cell_type": "code",
   "execution_count": 33,
   "id": "6ea24fb7",
   "metadata": {},
   "outputs": [
    {
     "ename": "NameError",
     "evalue": "name 'sp' is not defined",
     "output_type": "error",
     "traceback": [
      "\u001b[1;31m---------------------------------------------------------------------------\u001b[0m",
      "\u001b[1;31mNameError\u001b[0m                                 Traceback (most recent call last)",
      "\u001b[1;32m<ipython-input-33-974d20ecf279>\u001b[0m in \u001b[0;36m<module>\u001b[1;34m\u001b[0m\n\u001b[0;32m      1\u001b[0m \u001b[1;31m# scipy.stats.gmean 기하평균 사용\u001b[0m\u001b[1;33m\u001b[0m\u001b[1;33m\u001b[0m\u001b[1;33m\u001b[0m\u001b[0m\n\u001b[1;32m----> 2\u001b[1;33m \u001b[0msp\u001b[0m\u001b[1;33m.\u001b[0m\u001b[0mstats\u001b[0m\u001b[1;33m.\u001b[0m\u001b[0mgmean\u001b[0m\u001b[1;33m(\u001b[0m\u001b[0mdata\u001b[0m\u001b[1;33m)\u001b[0m\u001b[1;33m\u001b[0m\u001b[1;33m\u001b[0m\u001b[0m\n\u001b[0m\u001b[0;32m      3\u001b[0m \u001b[0mgmean\u001b[0m\u001b[1;33m(\u001b[0m\u001b[0mdata\u001b[0m\u001b[1;33m)\u001b[0m\u001b[1;33m\u001b[0m\u001b[1;33m\u001b[0m\u001b[0m\n",
      "\u001b[1;31mNameError\u001b[0m: name 'sp' is not defined"
     ]
    }
   ],
   "source": [
    "# scipy.stats.gmean 기하평균 사용\n",
    "sp.stats.gmean(data)\n",
    "gmean(data)"
   ]
  },
  {
   "cell_type": "markdown",
   "id": "2c9d6c1b",
   "metadata": {},
   "source": [
    "**조화평균**"
   ]
  },
  {
   "cell_type": "markdown",
   "id": "ea6ad9d0",
   "metadata": {},
   "source": [
    "예.\n",
    "100km 떨어진 도시까지 차로 다녀오면서 가는 길에는 시속 80km , 오는 길은 시속 120km로 달렸을 때 평균 속력은?\n",
    "\n",
    "움직인 거리 : 200km\n",
    "\n",
    "움직인 시간 100/80 + 100/120"
   ]
  },
  {
   "cell_type": "code",
   "execution_count": 34,
   "id": "d2f3765b",
   "metadata": {},
   "outputs": [
    {
     "data": {
      "text/plain": [
       "array([0.013, 0.008])"
      ]
     },
     "execution_count": 34,
     "metadata": {},
     "output_type": "execute_result"
    },
    {
     "data": {
      "text/plain": [
       "95.99999999999999"
      ]
     },
     "execution_count": 34,
     "metadata": {},
     "output_type": "execute_result"
    }
   ],
   "source": [
    "# 조화평균 계산\n",
    "data = np.array([80,120])\n",
    "1/data\n",
    "len(data)/np.sum(1/data)"
   ]
  },
  {
   "cell_type": "code",
   "execution_count": 30,
   "id": "9d7a6659",
   "metadata": {},
   "outputs": [
    {
     "data": {
      "text/plain": [
       "95.99999999999999"
      ]
     },
     "execution_count": 30,
     "metadata": {},
     "output_type": "execute_result"
    }
   ],
   "source": [
    "# scipy.stat.hmean 조화평균 이용하여 계산\n",
    "hmean(data)"
   ]
  },
  {
   "cell_type": "markdown",
   "id": "00c01cf0",
   "metadata": {},
   "source": [
    "**가중평균**\n",
    "\n",
    "numpy.average 이용"
   ]
  },
  {
   "cell_type": "code",
   "execution_count": 34,
   "id": "1d67fb73",
   "metadata": {},
   "outputs": [
    {
     "data": {
      "text/plain": [
       "2.5"
      ]
     },
     "execution_count": 34,
     "metadata": {},
     "output_type": "execute_result"
    },
    {
     "data": {
      "text/plain": [
       "4.0"
      ]
     },
     "execution_count": 34,
     "metadata": {},
     "output_type": "execute_result"
    },
    {
     "data": {
      "text/plain": [
       "5.5"
      ]
     },
     "execution_count": 34,
     "metadata": {},
     "output_type": "execute_result"
    }
   ],
   "source": [
    "np.average(np.arange(1,5))\n",
    "np.average(np.arange(1,11) , weights = np.arange(10,0,-1)) # 가중평균\n",
    "np.mean(np.arange(1,11)) # 산술평균"
   ]
  },
  {
   "cell_type": "markdown",
   "id": "424d6b42",
   "metadata": {},
   "source": [
    "## 중앙값(median)\n",
    "\n",
    "- 극단적인 값에 영향을 잘 받지 않음"
   ]
  },
  {
   "cell_type": "code",
   "execution_count": 18,
   "id": "38371b4d",
   "metadata": {},
   "outputs": [
    {
     "ename": "NameError",
     "evalue": "name 'df' is not defined",
     "output_type": "error",
     "traceback": [
      "\u001b[1;31m---------------------------------------------------------------------------\u001b[0m",
      "\u001b[1;31mNameError\u001b[0m                                 Traceback (most recent call last)",
      "\u001b[1;32m<ipython-input-18-f9bd58d4567f>\u001b[0m in \u001b[0;36m<module>\u001b[1;34m\u001b[0m\n\u001b[1;32m----> 1\u001b[1;33m \u001b[0mscores\u001b[0m \u001b[1;33m=\u001b[0m \u001b[0mnp\u001b[0m\u001b[1;33m.\u001b[0m\u001b[0marray\u001b[0m\u001b[1;33m(\u001b[0m\u001b[0mdf\u001b[0m\u001b[1;33m[\u001b[0m\u001b[1;34m'english'\u001b[0m\u001b[1;33m]\u001b[0m\u001b[1;33m)\u001b[0m\u001b[1;33m\u001b[0m\u001b[1;33m\u001b[0m\u001b[0m\n\u001b[0m\u001b[0;32m      2\u001b[0m \u001b[0mscores\u001b[0m\u001b[1;33m\u001b[0m\u001b[1;33m\u001b[0m\u001b[0m\n",
      "\u001b[1;31mNameError\u001b[0m: name 'df' is not defined"
     ]
    }
   ],
   "source": [
    "scores = np.array(df['english'])\n",
    "scores"
   ]
  },
  {
   "cell_type": "code",
   "execution_count": 19,
   "id": "cc6f0469",
   "metadata": {},
   "outputs": [
    {
     "ename": "NameError",
     "evalue": "name 'scores' is not defined",
     "output_type": "error",
     "traceback": [
      "\u001b[1;31m---------------------------------------------------------------------------\u001b[0m",
      "\u001b[1;31mNameError\u001b[0m                                 Traceback (most recent call last)",
      "\u001b[1;32m<ipython-input-19-99729717ec82>\u001b[0m in \u001b[0;36m<module>\u001b[1;34m\u001b[0m\n\u001b[0;32m      1\u001b[0m \u001b[1;31m# 순서통계량\u001b[0m\u001b[1;33m\u001b[0m\u001b[1;33m\u001b[0m\u001b[1;33m\u001b[0m\u001b[0m\n\u001b[1;32m----> 2\u001b[1;33m \u001b[0msorted_scores\u001b[0m \u001b[1;33m=\u001b[0m \u001b[0mnp\u001b[0m\u001b[1;33m.\u001b[0m\u001b[0msort\u001b[0m\u001b[1;33m(\u001b[0m\u001b[0mscores\u001b[0m\u001b[1;33m)\u001b[0m\u001b[1;33m\u001b[0m\u001b[1;33m\u001b[0m\u001b[0m\n\u001b[0m\u001b[0;32m      3\u001b[0m \u001b[0msorted_scores\u001b[0m\u001b[1;33m\u001b[0m\u001b[1;33m\u001b[0m\u001b[0m\n",
      "\u001b[1;31mNameError\u001b[0m: name 'scores' is not defined"
     ]
    }
   ],
   "source": [
    "# 순서통계량\n",
    "sorted_scores = np.sort(scores)\n",
    "sorted_scores"
   ]
  },
  {
   "cell_type": "code",
   "execution_count": 20,
   "id": "7a22c053",
   "metadata": {},
   "outputs": [
    {
     "ename": "NameError",
     "evalue": "name 'sorted_scores' is not defined",
     "output_type": "error",
     "traceback": [
      "\u001b[1;31m---------------------------------------------------------------------------\u001b[0m",
      "\u001b[1;31mNameError\u001b[0m                                 Traceback (most recent call last)",
      "\u001b[1;32m<ipython-input-20-a66361b8be67>\u001b[0m in \u001b[0;36m<module>\u001b[1;34m\u001b[0m\n\u001b[0;32m      1\u001b[0m \u001b[1;31m# median 계산식\u001b[0m\u001b[1;33m\u001b[0m\u001b[1;33m\u001b[0m\u001b[1;33m\u001b[0m\u001b[0m\n\u001b[1;32m----> 2\u001b[1;33m \u001b[0mn\u001b[0m \u001b[1;33m=\u001b[0m \u001b[0mlen\u001b[0m\u001b[1;33m(\u001b[0m\u001b[0msorted_scores\u001b[0m\u001b[1;33m)\u001b[0m\u001b[1;33m\u001b[0m\u001b[1;33m\u001b[0m\u001b[0m\n\u001b[0m\u001b[0;32m      3\u001b[0m \u001b[1;32mif\u001b[0m \u001b[0mn\u001b[0m\u001b[1;33m%\u001b[0m\u001b[1;36m2\u001b[0m \u001b[1;33m==\u001b[0m\u001b[1;36m0\u001b[0m \u001b[1;33m:\u001b[0m\u001b[1;33m\u001b[0m\u001b[1;33m\u001b[0m\u001b[0m\n\u001b[0;32m      4\u001b[0m     \u001b[0mx1\u001b[0m \u001b[1;33m=\u001b[0m \u001b[0msorted_scores\u001b[0m\u001b[1;33m[\u001b[0m\u001b[0mn\u001b[0m\u001b[1;33m//\u001b[0m\u001b[1;36m2\u001b[0m\u001b[1;33m-\u001b[0m\u001b[1;36m1\u001b[0m\u001b[1;33m]\u001b[0m\u001b[1;33m\u001b[0m\u001b[1;33m\u001b[0m\u001b[0m\n\u001b[0;32m      5\u001b[0m     \u001b[0mx2\u001b[0m \u001b[1;33m=\u001b[0m \u001b[0msorted_scores\u001b[0m\u001b[1;33m[\u001b[0m\u001b[0mn\u001b[0m\u001b[1;33m//\u001b[0m\u001b[1;36m2\u001b[0m\u001b[1;33m]\u001b[0m\u001b[1;33m\u001b[0m\u001b[1;33m\u001b[0m\u001b[0m\n",
      "\u001b[1;31mNameError\u001b[0m: name 'sorted_scores' is not defined"
     ]
    }
   ],
   "source": [
    "# median 계산식\n",
    "n = len(sorted_scores)\n",
    "if n%2 ==0 :\n",
    "    x1 = sorted_scores[n//2-1]\n",
    "    x2 = sorted_scores[n//2]\n",
    "    median = (x1+x2)/2\n",
    "else:\n",
    "    median = sorted_scores[(n+1)//2-1]\n",
    "    \n",
    "median"
   ]
  },
  {
   "cell_type": "code",
   "execution_count": 40,
   "id": "37bf41b9",
   "metadata": {},
   "outputs": [
    {
     "data": {
      "text/plain": [
       "(57, 58)"
      ]
     },
     "execution_count": 40,
     "metadata": {},
     "output_type": "execute_result"
    }
   ],
   "source": [
    "sorted_scores[24] , sorted_scores[25]"
   ]
  },
  {
   "cell_type": "code",
   "execution_count": 41,
   "id": "701f9f3b",
   "metadata": {},
   "outputs": [
    {
     "data": {
      "text/plain": [
       "57.5"
      ]
     },
     "execution_count": 41,
     "metadata": {},
     "output_type": "execute_result"
    }
   ],
   "source": [
    "# numpy의 median() 함수\n",
    "np.median(scores)"
   ]
  },
  {
   "cell_type": "code",
   "execution_count": 42,
   "id": "5fea37ba",
   "metadata": {},
   "outputs": [
    {
     "data": {
      "text/plain": [
       "57.500"
      ]
     },
     "execution_count": 42,
     "metadata": {},
     "output_type": "execute_result"
    }
   ],
   "source": [
    "# pandas.DataFrame의 median() 함수\n",
    "df['english'].median()"
   ]
  },
  {
   "cell_type": "markdown",
   "id": "02751dcd",
   "metadata": {},
   "source": [
    "**절사 평균(trimmed mean)**\n",
    "\n",
    "평균의 장점과 중앙값의 장점을 갖는 대표값\n",
    "\n",
    "절사비율(%)\n",
    "전체 데이터의 개수에 대해 몇 %의 데이터(상위+하위)를 배제할 것인가를 결정\n",
    "\n",
    "예) 체조 , 다이빙  등 심판의 주관적인 편견을 배제, 보완하기 위해 제일 높은 점수와 제일 낮은 점수를 제외한 나머지 점수에 대한 평균\n"
   ]
  },
  {
   "cell_type": "markdown",
   "id": "ab3f268e",
   "metadata": {},
   "source": [
    "예) 평균이 2백만원, 표준편차 50만원인 정규 분포를 따르는 소득 데이터 100개 생성"
   ]
  },
  {
   "cell_type": "code",
   "execution_count": 45,
   "id": "ba071434",
   "metadata": {},
   "outputs": [
    {
     "data": {
      "text/plain": [
       "array([2894314.237, 2218254.925, 2048248.734, 1068253.648, 1861305.899,\n",
       "       1822620.51 , 1958629.259, 1686499.662, 1978090.916, 1761390.985])"
      ]
     },
     "execution_count": 45,
     "metadata": {},
     "output_type": "execute_result"
    }
   ],
   "source": [
    "np.random.seed(3)\n",
    "income = np.random.normal(2000000, 500000, 100)\n",
    "income[:10]"
   ]
  },
  {
   "cell_type": "code",
   "execution_count": 46,
   "id": "02b2adf7",
   "metadata": {},
   "outputs": [
    {
     "data": {
      "text/plain": [
       "1945681.4627969689"
      ]
     },
     "execution_count": 46,
     "metadata": {},
     "output_type": "execute_result"
    }
   ],
   "source": [
    "# 평균 소득\n",
    "np.mean(income)"
   ]
  },
  {
   "cell_type": "markdown",
   "id": "aff60804",
   "metadata": {},
   "source": [
    "*소득이 10억인 사람 추가*"
   ]
  },
  {
   "cell_type": "code",
   "execution_count": 47,
   "id": "dac44642",
   "metadata": {},
   "outputs": [],
   "source": [
    "income = np.append(income, 1000000000)"
   ]
  },
  {
   "cell_type": "code",
   "execution_count": 49,
   "id": "79ca3360",
   "metadata": {},
   "outputs": [
    {
     "data": {
      "text/plain": [
       "11827407.38890789"
      ]
     },
     "execution_count": 49,
     "metadata": {},
     "output_type": "execute_result"
    }
   ],
   "source": [
    "np.mean(income)"
   ]
  },
  {
   "cell_type": "code",
   "execution_count": 50,
   "id": "89ba57f4",
   "metadata": {},
   "outputs": [
    {
     "data": {
      "text/plain": [
       "1919743.318406538"
      ]
     },
     "execution_count": 50,
     "metadata": {},
     "output_type": "execute_result"
    }
   ],
   "source": [
    "np.median(income)"
   ]
  },
  {
   "cell_type": "markdown",
   "id": "dc334f32",
   "metadata": {},
   "source": [
    "**절사 평균 계산**\n",
    "\n",
    "- scipy.stats.trim_mean 이용"
   ]
  },
  {
   "cell_type": "code",
   "execution_count": 52,
   "id": "7219e687",
   "metadata": {},
   "outputs": [
    {
     "data": {
      "text/plain": [
       "1941471.0812132563"
      ]
     },
     "execution_count": 52,
     "metadata": {},
     "output_type": "execute_result"
    }
   ],
   "source": [
    "trim_mean(income , 0.2)"
   ]
  },
  {
   "cell_type": "markdown",
   "id": "6bcc6d44",
   "metadata": {},
   "source": [
    "**최빈값(mode)**\n",
    "\n",
    "자료 중 가장 많이 나타나는 관측치"
   ]
  },
  {
   "cell_type": "code",
   "execution_count": 53,
   "id": "60619129",
   "metadata": {},
   "outputs": [
    {
     "data": {
      "text/plain": [
       "array(['C', 'A', 'B', 'A', 'A', 'A', 'B', 'B', 'C', 'B'], dtype='<U1')"
      ]
     },
     "execution_count": 53,
     "metadata": {},
     "output_type": "execute_result"
    },
    {
     "data": {
      "text/plain": [
       "1000"
      ]
     },
     "execution_count": 53,
     "metadata": {},
     "output_type": "execute_result"
    }
   ],
   "source": [
    "np.random.seed(3)\n",
    "data = np.random.choice(['A' , 'B' , 'C'] , 1000)\n",
    "# A, B, C 라는 요소로 이루어진 데이터\n",
    "data[:10]\n",
    "len(data)"
   ]
  },
  {
   "cell_type": "markdown",
   "id": "4d0e7962",
   "metadata": {},
   "source": [
    "**scipy.stats.mode 함수 이용하여 최빈값 계산**\n",
    "\n",
    "- mode : 최빈값과 빈도 반환\n",
    "- mode().mode : 최빈값\n",
    "- mode().count : 빈도"
   ]
  },
  {
   "cell_type": "code",
   "execution_count": 54,
   "id": "b7507cac",
   "metadata": {},
   "outputs": [
    {
     "data": {
      "text/plain": [
       "ModeResult(mode=array(['A'], dtype='<U1'), count=array([350]))"
      ]
     },
     "execution_count": 54,
     "metadata": {},
     "output_type": "execute_result"
    }
   ],
   "source": [
    "mode(data)"
   ]
  },
  {
   "cell_type": "code",
   "execution_count": 58,
   "id": "44bceb2f",
   "metadata": {},
   "outputs": [
    {
     "data": {
      "text/plain": [
       "array(['A'], dtype='<U1')"
      ]
     },
     "execution_count": 58,
     "metadata": {},
     "output_type": "execute_result"
    }
   ],
   "source": [
    "# 최빈값\n",
    "mode(data).mode"
   ]
  },
  {
   "cell_type": "code",
   "execution_count": 59,
   "id": "d7fe6ac2",
   "metadata": {},
   "outputs": [
    {
     "data": {
      "text/plain": [
       "array([350])"
      ]
     },
     "execution_count": 59,
     "metadata": {},
     "output_type": "execute_result"
    }
   ],
   "source": [
    "mode(data).count"
   ]
  },
  {
   "cell_type": "markdown",
   "id": "a8124df1",
   "metadata": {},
   "source": [
    "**pandas.Series의 value_counts()를 이용하여 첫번째 결과가 최빈값**"
   ]
  },
  {
   "cell_type": "code",
   "execution_count": 56,
   "id": "1ea6b758",
   "metadata": {},
   "outputs": [
    {
     "data": {
      "text/plain": [
       "A    350\n",
       "B    328\n",
       "C    322\n",
       "dtype: int64"
      ]
     },
     "execution_count": 56,
     "metadata": {},
     "output_type": "execute_result"
    }
   ],
   "source": [
    "pd.Series(data).value_counts()"
   ]
  },
  {
   "cell_type": "code",
   "execution_count": 57,
   "id": "40627ee9",
   "metadata": {},
   "outputs": [
    {
     "data": {
      "text/plain": [
       "'A'"
      ]
     },
     "execution_count": 57,
     "metadata": {},
     "output_type": "execute_result"
    },
    {
     "data": {
      "text/plain": [
       "350"
      ]
     },
     "execution_count": 57,
     "metadata": {},
     "output_type": "execute_result"
    }
   ],
   "source": [
    "pd.Series(data).value_counts().index[0]\n",
    "pd.Series(data).value_counts()[0]"
   ]
  },
  {
   "cell_type": "markdown",
   "id": "b2d0b5c5",
   "metadata": {},
   "source": [
    "**예제 데이터 생성**"
   ]
  },
  {
   "cell_type": "code",
   "execution_count": 62,
   "id": "4ea15bf4",
   "metadata": {},
   "outputs": [
    {
     "data": {
      "text/plain": [
       "array([ 78.287, 119.947, 105.66 ,  69.874,  88.428, 133.029,  51.466,\n",
       "        91.422, 125.319,  82.665])"
      ]
     },
     "execution_count": 62,
     "metadata": {},
     "output_type": "execute_result"
    },
    {
     "data": {
      "text/plain": [
       "1000"
      ]
     },
     "execution_count": 62,
     "metadata": {},
     "output_type": "execute_result"
    }
   ],
   "source": [
    "np.random.seed(123)\n",
    "data = np.random.normal(100, 20 , size = 1000)\n",
    "data[:10]\n",
    "len(data)"
   ]
  },
  {
   "cell_type": "markdown",
   "id": "79fc87be",
   "metadata": {},
   "source": [
    "**최소값 , 최대값**"
   ]
  },
  {
   "cell_type": "code",
   "execution_count": 63,
   "id": "9fd4dbed",
   "metadata": {},
   "outputs": [
    {
     "data": {
      "text/plain": [
       "(35.37889984161376, 171.43158436052622)"
      ]
     },
     "execution_count": 63,
     "metadata": {},
     "output_type": "execute_result"
    }
   ],
   "source": [
    "sorted(data)[0] , sorted(data)[-1]"
   ]
  },
  {
   "cell_type": "code",
   "execution_count": 64,
   "id": "9c05f48e",
   "metadata": {},
   "outputs": [
    {
     "data": {
      "text/plain": [
       "35.37889984161376"
      ]
     },
     "execution_count": 64,
     "metadata": {},
     "output_type": "execute_result"
    },
    {
     "data": {
      "text/plain": [
       "171.43158436052622"
      ]
     },
     "execution_count": 64,
     "metadata": {},
     "output_type": "execute_result"
    }
   ],
   "source": [
    "# numpy의 min() , max() 함수 이용\n",
    "np.min(data)\n",
    "np.max(data)"
   ]
  },
  {
   "cell_type": "markdown",
   "id": "d9835e78",
   "metadata": {},
   "source": [
    "백분위수(percentile)\n",
    "- 크기 순으로 나열한 수들을 백등분하여 각각의 경계에 있는 수\n",
    "\n",
    "- 제1사분위수(Q1)\n",
    "    - 25%에 해당\n",
    "    \n",
    "- 제2사분위수(중위수 , Q2)\n",
    "    - 50%에 해당\n",
    "    \n",
    "- 제3사분위수(75% , Q3)"
   ]
  },
  {
   "cell_type": "markdown",
   "id": "ccf7e8d1",
   "metadata": {},
   "source": [
    "numpy.percentile 함수 이용하여 사분위수 , 백분위수 계산"
   ]
  },
  {
   "cell_type": "code",
   "execution_count": 66,
   "id": "617e1d5d",
   "metadata": {},
   "outputs": [
    {
     "data": {
      "text/plain": [
       "86.30886819268538"
      ]
     },
     "execution_count": 66,
     "metadata": {},
     "output_type": "execute_result"
    }
   ],
   "source": [
    "#제1사분위수 Q1\n",
    "np.percentile(data, 25)"
   ]
  },
  {
   "cell_type": "code",
   "execution_count": 67,
   "id": "5bdc7b8d",
   "metadata": {},
   "outputs": [
    {
     "data": {
      "text/plain": [
       "113.37731495435875"
      ]
     },
     "execution_count": 67,
     "metadata": {},
     "output_type": "execute_result"
    }
   ],
   "source": [
    "#제3사분위수 Q3\n",
    "np.percentile(data, 75)"
   ]
  },
  {
   "cell_type": "code",
   "execution_count": 68,
   "id": "9fa4191c",
   "metadata": {},
   "outputs": [
    {
     "data": {
      "text/plain": [
       "99.17628889574436"
      ]
     },
     "execution_count": 68,
     "metadata": {},
     "output_type": "execute_result"
    }
   ],
   "source": [
    "#제1사분위수 Q2\n",
    "np.percentile(data, 50)"
   ]
  },
  {
   "cell_type": "code",
   "execution_count": 69,
   "id": "6e754d49",
   "metadata": {},
   "outputs": [
    {
     "data": {
      "text/plain": [
       "{'whiskers': [<matplotlib.lines.Line2D at 0x1d8e454b5b0>,\n",
       "  <matplotlib.lines.Line2D at 0x1d8e454b8b0>],\n",
       " 'caps': [<matplotlib.lines.Line2D at 0x1d8e5b8d5b0>,\n",
       "  <matplotlib.lines.Line2D at 0x1d8e5b8ddf0>],\n",
       " 'boxes': [<matplotlib.lines.Line2D at 0x1d8e454b8e0>],\n",
       " 'medians': [<matplotlib.lines.Line2D at 0x1d8e4f435e0>],\n",
       " 'fliers': [<matplotlib.lines.Line2D at 0x1d8e4f43190>],\n",
       " 'means': []}"
      ]
     },
     "execution_count": 69,
     "metadata": {},
     "output_type": "execute_result"
    },
    {
     "data": {
      "image/png": "[encoded data removed]",
      "text/plain": [
       "<Figure size 432x288 with 1 Axes>"
      ]
     },
     "metadata": {
      "needs_background": "light"
     },
     "output_type": "display_data"
    }
   ],
   "source": [
    "import matplotlib.pyplot as plt\n",
    "\n",
    "plt.boxplot(data)"
   ]
  },
  {
   "cell_type": "markdown",
   "id": "51c0b0b3",
   "metadata": {},
   "source": [
    "**기술통계량 계산 함수 : describe()**"
   ]
  },
  {
   "cell_type": "code",
   "execution_count": 73,
   "id": "bfb157ca",
   "metadata": {},
   "outputs": [
    {
     "data": {
      "text/plain": [
       "DescribeResult(nobs=1000, minmax=(35.37889984161376, 171.43158436052622), mean=99.20871727838417, variance=401.03130940853094, skewness=-0.029040113501245676, kurtosis=-0.02543852877769215)"
      ]
     },
     "execution_count": 73,
     "metadata": {},
     "output_type": "execute_result"
    },
    {
     "data": {
      "text/plain": [
       "DescribeResult(nobs=50, minmax=(37, 79), mean=58.38, variance=96.03632653061224, skewness=-0.31679325324962426, kurtosis=-0.38870454364589113)"
      ]
     },
     "execution_count": 73,
     "metadata": {},
     "output_type": "execute_result"
    }
   ],
   "source": [
    "# scipy의 describe\n",
    "describe(data)\n",
    "describe(df['english']) # 표본 데이터의 기술 통계량\n"
   ]
  },
  {
   "cell_type": "code",
   "execution_count": 74,
   "id": "bd8f954e",
   "metadata": {},
   "outputs": [
    {
     "data": {
      "text/plain": [
       "count    50.00\n",
       "mean     58.38\n",
       "std       9.80\n",
       "min      37.00\n",
       "25%      54.00\n",
       "50%      57.50\n",
       "75%      65.00\n",
       "max      79.00\n",
       "Name: english, dtype: float64"
      ]
     },
     "execution_count": 74,
     "metadata": {},
     "output_type": "execute_result"
    }
   ],
   "source": [
    "df['english'].describe()"
   ]
  },
  {
   "cell_type": "code",
   "execution_count": 76,
   "id": "59ac8ed0",
   "metadata": {
    "scrolled": true
   },
   "outputs": [
    {
     "data": {
      "text/plain": [
       "DescribeResult(nobs=50, minmax=(37, 79), mean=58.38, variance=94.1156, skewness=-0.31679325324962426, kurtosis=-0.38870454364589113)"
      ]
     },
     "execution_count": 76,
     "metadata": {},
     "output_type": "execute_result"
    }
   ],
   "source": [
    "describe(df['english'] , ddof=0) # 모집단 데이터에 대한 기술통계량"
   ]
  },
  {
   "cell_type": "markdown",
   "id": "828f94c9",
   "metadata": {},
   "source": [
    "## 모양 통계량\n",
    "**왜도(SKEWNESS)**\n",
    "- 데이터의 비대칭정도\n",
    "- 왜도가 0에 가까운 값을 가지면 분포의 모양은 좌우 대칭\n",
    "- 왜도가 음수로 나타나면 오른쪽으로 치우친 분포(왼쪽 꼬리 모양)\n",
    "- 왜도가 양수로 나타나면 왼쪽으로 치우친 분포(오른쪽 꼬리 모양)"
   ]
  },
  {
   "cell_type": "markdown",
   "id": "0ebc0ffa",
   "metadata": {},
   "source": [
    "**왜도 계산**\n",
    "- 분포의 비대칭도\n",
    "- 왜도가 0이면 정규분포\n",
    "- 왜도의 절대값이 1.5이상이면 많이 치우쳤다고 봄\n",
    "\n",
    "- scipy.stats.skew()"
   ]
  },
  {
   "cell_type": "code",
   "execution_count": 7,
   "id": "994d9dae",
   "metadata": {},
   "outputs": [],
   "source": [
    "## 예제 데이터 생성\n",
    "from matplotlib import pyplot as plt\n",
    "%matplotlib inline\n",
    "\n",
    "# 오른쪽으로 꼬리가 긴 분포(right skewed , positive)\n",
    "x1 = [1]*30+[2]*20+[3]*20+[4]*15+[5]*15\n",
    "\n",
    "# 좌우대칭 분포\n",
    "x2 = [1]*15+[2]*20+[3]*30+[4]*20+[5]*15\n",
    "\n",
    "# 왼쪽으로 꼬리가 긴 분포(left skewed , negative)\n",
    "x3 = [1]*15+[2]*15+[3]*20+[4]*20+[5]*30"
   ]
  },
  {
   "cell_type": "code",
   "execution_count": 8,
   "id": "f2784a05",
   "metadata": {},
   "outputs": [
    {
     "data": {
      "text/plain": [
       "[1, 1, 1, 1, 1, 1, 1, 1, 1, 1]"
      ]
     },
     "execution_count": 8,
     "metadata": {},
     "output_type": "execute_result"
    }
   ],
   "source": [
    "x1[:10]"
   ]
  },
  {
   "cell_type": "code",
   "execution_count": 9,
   "id": "d439d2a4",
   "metadata": {},
   "outputs": [
    {
     "data": {
      "text/plain": [
       "1    30\n",
       "2    20\n",
       "3    20\n",
       "4    15\n",
       "5    15\n",
       "dtype: int64"
      ]
     },
     "execution_count": 9,
     "metadata": {},
     "output_type": "execute_result"
    }
   ],
   "source": [
    "pd.Series(x1).value_counts(sort=False)"
   ]
  },
  {
   "cell_type": "code",
   "execution_count": 10,
   "id": "eed51adb",
   "metadata": {},
   "outputs": [
    {
     "data": {
      "text/plain": [
       "<AxesSubplot:>"
      ]
     },
     "execution_count": 10,
     "metadata": {},
     "output_type": "execute_result"
    },
    {
     "data": {
      "image/png": "[encoded data removed]",
      "text/plain": [
       "<Figure size 432x288 with 1 Axes>"
      ]
     },
     "metadata": {
      "needs_background": "light"
     },
     "output_type": "display_data"
    }
   ],
   "source": [
    "pd.Series(x1).value_counts(sort=False).plot(kind='bar') # kind='bar' : 막대그래프"
   ]
  },
  {
   "cell_type": "code",
   "execution_count": 11,
   "id": "8e159730",
   "metadata": {},
   "outputs": [
    {
     "data": {
      "text/plain": [
       "<AxesSubplot:>"
      ]
     },
     "execution_count": 11,
     "metadata": {},
     "output_type": "execute_result"
    },
    {
     "data": {
      "image/png": "[encoded data removed]",
      "text/plain": [
       "<Figure size 432x288 with 1 Axes>"
      ]
     },
     "metadata": {
      "needs_background": "light"
     },
     "output_type": "display_data"
    }
   ],
   "source": [
    "pd.Series(x2).value_counts(sort=False).plot(kind='bar') # kind='bar' : 막대그래프"
   ]
  },
  {
   "cell_type": "code",
   "execution_count": 12,
   "id": "cb57a5bf",
   "metadata": {},
   "outputs": [
    {
     "data": {
      "text/plain": [
       "<AxesSubplot:>"
      ]
     },
     "execution_count": 12,
     "metadata": {},
     "output_type": "execute_result"
    },
    {
     "data": {
      "image/png": "[encoded data removed]",
      "text/plain": [
       "<Figure size 432x288 with 1 Axes>"
      ]
     },
     "metadata": {
      "needs_background": "light"
     },
     "output_type": "display_data"
    }
   ],
   "source": [
    "pd.Series(x3).value_counts(sort=False).plot(kind='bar') # kind='bar' : 막대그래프"
   ]
  },
  {
   "cell_type": "code",
   "execution_count": 14,
   "id": "ad0ea640",
   "metadata": {},
   "outputs": [
    {
     "name": "stdout",
     "output_type": "stream",
     "text": [
      "오른쪽으로 꼬리가 긴 분포의 왜도 :  0.3192801008486361\n",
      "좌우대칭 분포의 왜도 :  0.0\n",
      "왼쪽으로 꼬리가 긴 분포의 왜도 :  -0.31928010084863606\n"
     ]
    }
   ],
   "source": [
    "print('오른쪽으로 꼬리가 긴 분포의 왜도 : ' , skew(x1))\n",
    "print('좌우대칭 분포의 왜도 : ' , skew(x2))\n",
    "print('왼쪽으로 꼬리가 긴 분포의 왜도 : ' , skew(x3))"
   ]
  },
  {
   "cell_type": "markdown",
   "id": "923cb57d",
   "metadata": {},
   "source": [
    "## 첨도 (kurtosis)\n",
    "\n",
    "- 데이터의 뾰족한 정도\n",
    "- 분포가 대표값을 중심으로 얼마나 모여 있는가를 나타내는 척도\n",
    "- 정규분포(첨도=3)을 기준으로 비교\n",
    "    - 데이터가 대푯값을 중심으로 상당히 많이 몰려 있다면 분포 가운데 모양이 뾰족한 모양(첨도>3)"
   ]
  },
  {
   "cell_type": "markdown",
   "id": "2993aeef",
   "metadata": {},
   "source": [
    "**첨도 계산**\n",
    "- scipy.stats.kurtosis()\n",
    "    - 정규분포는 0 이 나옴\n",
    "    - 균일분포에 가까울수록 음수가 나옴"
   ]
  },
  {
   "cell_type": "code",
   "execution_count": 15,
   "id": "eab82c88",
   "metadata": {},
   "outputs": [],
   "source": [
    "# 균일분포(uniform dist)\n",
    "x1 = [1]*20+[2]*20+[3]*20+[4]*20+[5]*20\n",
    "\n",
    "# 좌우대칭 분포 (정규분포와 유사)\n",
    "x2 = [1]*10+[2]*20+[3]*40+[4]*20+[5]*10\n",
    "\n",
    "# 뾰족한 분포\n",
    "x3 = [1]*5+[2]*15+[3]*60+[4]*15+[5]*5"
   ]
  },
  {
   "cell_type": "code",
   "execution_count": 16,
   "id": "e95e97ae",
   "metadata": {},
   "outputs": [
    {
     "data": {
      "text/plain": [
       "<AxesSubplot:>"
      ]
     },
     "execution_count": 16,
     "metadata": {},
     "output_type": "execute_result"
    },
    {
     "data": {
      "image/png": "[encoded data removed]",
      "text/plain": [
       "<Figure size 432x288 with 1 Axes>"
      ]
     },
     "metadata": {
      "needs_background": "light"
     },
     "output_type": "display_data"
    }
   ],
   "source": [
    "pd.Series(x1).value_counts(sort=False).plot(kind='bar') # 균일 분포"
   ]
  },
  {
   "cell_type": "code",
   "execution_count": 17,
   "id": "84cb6dee",
   "metadata": {},
   "outputs": [
    {
     "data": {
      "text/plain": [
       "<AxesSubplot:>"
      ]
     },
     "execution_count": 17,
     "metadata": {},
     "output_type": "execute_result"
    },
    {
     "data": {
      "image/png": "[encoded data removed]",
      "text/plain": [
       "<Figure size 432x288 with 1 Axes>"
      ]
     },
     "metadata": {
      "needs_background": "light"
     },
     "output_type": "display_data"
    }
   ],
   "source": [
    "pd.Series(x2).value_counts(sort=False).plot(kind='bar') # 좌우대칭"
   ]
  },
  {
   "cell_type": "code",
   "execution_count": 18,
   "id": "5d4f60c0",
   "metadata": {},
   "outputs": [
    {
     "data": {
      "text/plain": [
       "<AxesSubplot:>"
      ]
     },
     "execution_count": 18,
     "metadata": {},
     "output_type": "execute_result"
    },
    {
     "data": {
      "image/png": "[encoded data removed]",
      "text/plain": [
       "<Figure size 432x288 with 1 Axes>"
      ]
     },
     "metadata": {
      "needs_background": "light"
     },
     "output_type": "display_data"
    }
   ],
   "source": [
    "pd.Series(x3).value_counts(sort=False).plot(kind='bar') # 뾰족한 분포"
   ]
  },
  {
   "cell_type": "code",
   "execution_count": 17,
   "id": "8bcaa835",
   "metadata": {
    "scrolled": true
   },
   "outputs": [
    {
     "ename": "NameError",
     "evalue": "name 'x1' is not defined",
     "output_type": "error",
     "traceback": [
      "\u001b[1;31m---------------------------------------------------------------------------\u001b[0m",
      "\u001b[1;31mNameError\u001b[0m                                 Traceback (most recent call last)",
      "\u001b[1;32m<ipython-input-17-d210b8272fe1>\u001b[0m in \u001b[0;36m<module>\u001b[1;34m\u001b[0m\n\u001b[1;32m----> 1\u001b[1;33m \u001b[0mprint\u001b[0m\u001b[1;33m(\u001b[0m\u001b[1;34m'평평할때 첨도 : '\u001b[0m \u001b[1;33m,\u001b[0m \u001b[0mkurtosis\u001b[0m\u001b[1;33m(\u001b[0m\u001b[0mx1\u001b[0m\u001b[1;33m)\u001b[0m\u001b[1;33m)\u001b[0m\u001b[1;33m\u001b[0m\u001b[1;33m\u001b[0m\u001b[0m\n\u001b[0m\u001b[0;32m      2\u001b[0m \u001b[0mprint\u001b[0m\u001b[1;33m(\u001b[0m\u001b[1;34m'조금 뾰족할 때 첨도 : '\u001b[0m \u001b[1;33m,\u001b[0m \u001b[0mkurtosis\u001b[0m\u001b[1;33m(\u001b[0m\u001b[0mx2\u001b[0m\u001b[1;33m)\u001b[0m\u001b[1;33m)\u001b[0m\u001b[1;33m\u001b[0m\u001b[1;33m\u001b[0m\u001b[0m\n\u001b[0;32m      3\u001b[0m \u001b[0mprint\u001b[0m\u001b[1;33m(\u001b[0m\u001b[1;34m'매우 뾰족한 첨도 : '\u001b[0m \u001b[1;33m,\u001b[0m \u001b[0mkurtosis\u001b[0m\u001b[1;33m(\u001b[0m\u001b[0mx3\u001b[0m\u001b[1;33m)\u001b[0m\u001b[1;33m)\u001b[0m\u001b[1;33m\u001b[0m\u001b[1;33m\u001b[0m\u001b[0m\n",
      "\u001b[1;31mNameError\u001b[0m: name 'x1' is not defined"
     ]
    }
   ],
   "source": [
    "print('평평할때 첨도 : ' , kurtosis(x1))\n",
    "print('조금 뾰족할 때 첨도 : ' , kurtosis(x2))\n",
    "print('매우 뾰족한 첨도 : ' , kurtosis(x3))"
   ]
  },
  {
   "cell_type": "markdown",
   "id": "fe98ed3e",
   "metadata": {},
   "source": [
    "## 데이터 시각화"
   ]
  },
  {
   "cell_type": "markdown",
   "id": "6677c619",
   "metadata": {},
   "source": [
    "https://blog.qlik.com/third-pillar-of-mapping-data-to-visualizations-usage\n",
    "\n",
    "데이터 시각화 참고자료\n",
    "\n",
    "수치형 데이터\n",
    "- 일변량\n",
    "    - 도수분포표 , 상자그림 , 히스토그램\n",
    "- 이변량\n",
    "    - 산점도, 선 그래프\n",
    "- 다변량\n",
    "    - 산점도 행렬, 방사선 차트 , 평행좌표\n",
    "    \n",
    "범주형데이터\n",
    "- 일변량\n",
    "    - 빈도표 , 파이차트 , 막대차트\n",
    "- 이변량\n",
    "    - 교차표, 스팩트컬럼차트\n",
    "- 다변량\n",
    "    - 모자익플롯"
   ]
  },
  {
   "cell_type": "code",
   "execution_count": 3,
   "id": "dfa9506b",
   "metadata": {},
   "outputs": [
    {
     "data": {
      "text/html": [
       "<div>\n",
       "<style scoped>\n",
       "    .dataframe tbody tr th:only-of-type {\n",
       "        vertical-align: middle;\n",
       "    }\n",
       "\n",
       "    .dataframe tbody tr th {\n",
       "        vertical-align: top;\n",
       "    }\n",
       "\n",
       "    .dataframe thead th {\n",
       "        text-align: right;\n",
       "    }\n",
       "</style>\n",
       "<table border=\"1\" class=\"dataframe\">\n",
       "  <thead>\n",
       "    <tr style=\"text-align: right;\">\n",
       "      <th></th>\n",
       "      <th>student number</th>\n",
       "      <th>english</th>\n",
       "      <th>mathematics</th>\n",
       "    </tr>\n",
       "  </thead>\n",
       "  <tbody>\n",
       "    <tr>\n",
       "      <th>0</th>\n",
       "      <td>1</td>\n",
       "      <td>42</td>\n",
       "      <td>65</td>\n",
       "    </tr>\n",
       "    <tr>\n",
       "      <th>1</th>\n",
       "      <td>2</td>\n",
       "      <td>69</td>\n",
       "      <td>80</td>\n",
       "    </tr>\n",
       "    <tr>\n",
       "      <th>2</th>\n",
       "      <td>3</td>\n",
       "      <td>56</td>\n",
       "      <td>63</td>\n",
       "    </tr>\n",
       "    <tr>\n",
       "      <th>3</th>\n",
       "      <td>4</td>\n",
       "      <td>41</td>\n",
       "      <td>63</td>\n",
       "    </tr>\n",
       "    <tr>\n",
       "      <th>4</th>\n",
       "      <td>5</td>\n",
       "      <td>57</td>\n",
       "      <td>76</td>\n",
       "    </tr>\n",
       "  </tbody>\n",
       "</table>\n",
       "</div>"
      ],
      "text/plain": [
       "   student number  english  mathematics\n",
       "0               1       42           65\n",
       "1               2       69           80\n",
       "2               3       56           63\n",
       "3               4       41           63\n",
       "4               5       57           76"
      ]
     },
     "execution_count": 3,
     "metadata": {},
     "output_type": "execute_result"
    }
   ],
   "source": [
    "df = pd.read_csv('C:/Users/hspar/Desktop/HS_Park/멀티캠퍼스/data/ch2_scores_em.csv')\n",
    "df.head()"
   ]
  },
  {
   "cell_type": "code",
   "execution_count": 36,
   "id": "883becb8",
   "metadata": {},
   "outputs": [
    {
     "data": {
      "text/plain": [
       "count    50.00\n",
       "mean     58.38\n",
       "std       9.80\n",
       "min      37.00\n",
       "25%      54.00\n",
       "50%      57.50\n",
       "75%      65.00\n",
       "max      79.00\n",
       "Name: english, dtype: float64"
      ]
     },
     "execution_count": 36,
     "metadata": {},
     "output_type": "execute_result"
    }
   ],
   "source": [
    "# 50명의 영어 점수 array\n",
    "eng = df['english']\n",
    "\n",
    "eng.describe()"
   ]
  },
  {
   "cell_type": "code",
   "execution_count": 38,
   "id": "f32c1520",
   "metadata": {},
   "outputs": [
    {
     "data": {
      "text/plain": [
       "array([ 0,  0,  0,  2,  8, 16, 18,  6,  0,  0], dtype=int64)"
      ]
     },
     "execution_count": 38,
     "metadata": {},
     "output_type": "execute_result"
    },
    {
     "data": {
      "text/plain": [
       "array([  0.,  10.,  20.,  30.,  40.,  50.,  60.,  70.,  80.,  90., 100.])"
      ]
     },
     "execution_count": 38,
     "metadata": {},
     "output_type": "execute_result"
    }
   ],
   "source": [
    "freq , a = np.histogram(eng , bins = 10 , range = (0,100))  # bins : 구간 , range : 범위  , freq(빈도)만 받음\n",
    "freq # 빈도\n",
    "a # 도수"
   ]
  },
  {
   "cell_type": "code",
   "execution_count": 9,
   "id": "fa9f3c08",
   "metadata": {},
   "outputs": [
    {
     "data": {
      "text/html": [
       "<div>\n",
       "<style scoped>\n",
       "    .dataframe tbody tr th:only-of-type {\n",
       "        vertical-align: middle;\n",
       "    }\n",
       "\n",
       "    .dataframe tbody tr th {\n",
       "        vertical-align: top;\n",
       "    }\n",
       "\n",
       "    .dataframe thead th {\n",
       "        text-align: right;\n",
       "    }\n",
       "</style>\n",
       "<table border=\"1\" class=\"dataframe\">\n",
       "  <thead>\n",
       "    <tr style=\"text-align: right;\">\n",
       "      <th></th>\n",
       "      <th>frequency</th>\n",
       "    </tr>\n",
       "    <tr>\n",
       "      <th>class</th>\n",
       "      <th></th>\n",
       "    </tr>\n",
       "  </thead>\n",
       "  <tbody>\n",
       "    <tr>\n",
       "      <th>0~10</th>\n",
       "      <td>0</td>\n",
       "    </tr>\n",
       "    <tr>\n",
       "      <th>10~20</th>\n",
       "      <td>0</td>\n",
       "    </tr>\n",
       "    <tr>\n",
       "      <th>20~30</th>\n",
       "      <td>0</td>\n",
       "    </tr>\n",
       "    <tr>\n",
       "      <th>30~40</th>\n",
       "      <td>2</td>\n",
       "    </tr>\n",
       "    <tr>\n",
       "      <th>40~50</th>\n",
       "      <td>8</td>\n",
       "    </tr>\n",
       "    <tr>\n",
       "      <th>50~60</th>\n",
       "      <td>16</td>\n",
       "    </tr>\n",
       "    <tr>\n",
       "      <th>60~70</th>\n",
       "      <td>18</td>\n",
       "    </tr>\n",
       "    <tr>\n",
       "      <th>70~80</th>\n",
       "      <td>6</td>\n",
       "    </tr>\n",
       "    <tr>\n",
       "      <th>80~90</th>\n",
       "      <td>0</td>\n",
       "    </tr>\n",
       "    <tr>\n",
       "      <th>90~100</th>\n",
       "      <td>0</td>\n",
       "    </tr>\n",
       "  </tbody>\n",
       "</table>\n",
       "</div>"
      ],
      "text/plain": [
       "        frequency\n",
       "class            \n",
       "0~10            0\n",
       "10~20           0\n",
       "20~30           0\n",
       "30~40           2\n",
       "40~50           8\n",
       "50~60          16\n",
       "60~70          18\n",
       "70~80           6\n",
       "80~90           0\n",
       "90~100          0"
      ]
     },
     "execution_count": 9,
     "metadata": {},
     "output_type": "execute_result"
    }
   ],
   "source": [
    "# 0~ 10 , 10~ 20 ,.... 이라는 문자열의 리스트를 작성\n",
    "freq_class = [f'{i}~{i+10}' for i in range(0,100,10)]\n",
    "\n",
    "# freq_class 를 인덱스로 DataFrame을 작성\n",
    "freq_dist_df = pd.DataFrame({'frequency' : freq} ,\n",
    "                          index = pd.Index(freq_class , name = 'class'))\n",
    "\n",
    "freq_dist_df"
   ]
  },
  {
   "cell_type": "markdown",
   "id": "b5cc64f1",
   "metadata": {},
   "source": [
    "**계급값**\n",
    "- 각 계급을 대표하는 값으로 계급의 중앙값이 이용"
   ]
  },
  {
   "cell_type": "code",
   "execution_count": 12,
   "id": "c4bfb767",
   "metadata": {},
   "outputs": [
    {
     "data": {
      "text/plain": [
       "[5, 15, 25, 35, 45, 55, 65, 75, 85, 95]"
      ]
     },
     "execution_count": 12,
     "metadata": {},
     "output_type": "execute_result"
    }
   ],
   "source": [
    "class_value = [(i+(i+10))//2 for i in range(0,100,10)]\n",
    "class_value"
   ]
  },
  {
   "cell_type": "markdown",
   "id": "d394cb0d",
   "metadata": {},
   "source": [
    "**상대도수**\n",
    "- 전체 데이터에 대해서 해당 계급의 데이터가 어느정도 비율을 차지하고 있는지를 나타냄"
   ]
  },
  {
   "cell_type": "code",
   "execution_count": 13,
   "id": "ea74b83f",
   "metadata": {},
   "outputs": [
    {
     "data": {
      "text/plain": [
       "array([0.  , 0.  , 0.  , 0.04, 0.16, 0.32, 0.36, 0.12, 0.  , 0.  ])"
      ]
     },
     "execution_count": 13,
     "metadata": {},
     "output_type": "execute_result"
    }
   ],
   "source": [
    "rel_freq = freq/freq.sum()\n",
    "rel_freq"
   ]
  },
  {
   "cell_type": "markdown",
   "id": "fe165296",
   "metadata": {},
   "source": [
    "**누적 상대도수**\n",
    "\n",
    "- 해당 계급까지의 상대도수의 합\n",
    "- 누적합 : np.cumsum()"
   ]
  },
  {
   "cell_type": "code",
   "execution_count": 14,
   "id": "fd6cd793",
   "metadata": {},
   "outputs": [
    {
     "data": {
      "text/plain": [
       "array([0.  , 0.  , 0.  , 0.04, 0.2 , 0.52, 0.88, 1.  , 1.  , 1.  ])"
      ]
     },
     "execution_count": 14,
     "metadata": {},
     "output_type": "execute_result"
    }
   ],
   "source": [
    "cum_rel_freq = np.cumsum(rel_freq)\n",
    "cum_rel_freq"
   ]
  },
  {
   "cell_type": "code",
   "execution_count": 18,
   "id": "9adeaa72",
   "metadata": {},
   "outputs": [
    {
     "data": {
      "text/html": [
       "<div>\n",
       "<style scoped>\n",
       "    .dataframe tbody tr th:only-of-type {\n",
       "        vertical-align: middle;\n",
       "    }\n",
       "\n",
       "    .dataframe tbody tr th {\n",
       "        vertical-align: top;\n",
       "    }\n",
       "\n",
       "    .dataframe thead th {\n",
       "        text-align: right;\n",
       "    }\n",
       "</style>\n",
       "<table border=\"1\" class=\"dataframe\">\n",
       "  <thead>\n",
       "    <tr style=\"text-align: right;\">\n",
       "      <th></th>\n",
       "      <th>frequency</th>\n",
       "      <th>class value</th>\n",
       "      <th>relative freq</th>\n",
       "      <th>cum. relative freq</th>\n",
       "    </tr>\n",
       "    <tr>\n",
       "      <th>class</th>\n",
       "      <th></th>\n",
       "      <th></th>\n",
       "      <th></th>\n",
       "      <th></th>\n",
       "    </tr>\n",
       "  </thead>\n",
       "  <tbody>\n",
       "    <tr>\n",
       "      <th>0~10</th>\n",
       "      <td>0</td>\n",
       "      <td>5</td>\n",
       "      <td>0.00</td>\n",
       "      <td>0.00</td>\n",
       "    </tr>\n",
       "    <tr>\n",
       "      <th>10~20</th>\n",
       "      <td>0</td>\n",
       "      <td>15</td>\n",
       "      <td>0.00</td>\n",
       "      <td>0.00</td>\n",
       "    </tr>\n",
       "    <tr>\n",
       "      <th>20~30</th>\n",
       "      <td>0</td>\n",
       "      <td>25</td>\n",
       "      <td>0.00</td>\n",
       "      <td>0.00</td>\n",
       "    </tr>\n",
       "    <tr>\n",
       "      <th>30~40</th>\n",
       "      <td>2</td>\n",
       "      <td>35</td>\n",
       "      <td>0.04</td>\n",
       "      <td>0.04</td>\n",
       "    </tr>\n",
       "    <tr>\n",
       "      <th>40~50</th>\n",
       "      <td>8</td>\n",
       "      <td>45</td>\n",
       "      <td>0.16</td>\n",
       "      <td>0.20</td>\n",
       "    </tr>\n",
       "    <tr>\n",
       "      <th>50~60</th>\n",
       "      <td>16</td>\n",
       "      <td>55</td>\n",
       "      <td>0.32</td>\n",
       "      <td>0.52</td>\n",
       "    </tr>\n",
       "    <tr>\n",
       "      <th>60~70</th>\n",
       "      <td>18</td>\n",
       "      <td>65</td>\n",
       "      <td>0.36</td>\n",
       "      <td>0.88</td>\n",
       "    </tr>\n",
       "    <tr>\n",
       "      <th>70~80</th>\n",
       "      <td>6</td>\n",
       "      <td>75</td>\n",
       "      <td>0.12</td>\n",
       "      <td>1.00</td>\n",
       "    </tr>\n",
       "    <tr>\n",
       "      <th>80~90</th>\n",
       "      <td>0</td>\n",
       "      <td>85</td>\n",
       "      <td>0.00</td>\n",
       "      <td>1.00</td>\n",
       "    </tr>\n",
       "    <tr>\n",
       "      <th>90~100</th>\n",
       "      <td>0</td>\n",
       "      <td>95</td>\n",
       "      <td>0.00</td>\n",
       "      <td>1.00</td>\n",
       "    </tr>\n",
       "  </tbody>\n",
       "</table>\n",
       "</div>"
      ],
      "text/plain": [
       "        frequency  class value  relative freq  cum. relative freq\n",
       "class                                                            \n",
       "0~10            0            5           0.00                0.00\n",
       "10~20           0           15           0.00                0.00\n",
       "20~30           0           25           0.00                0.00\n",
       "30~40           2           35           0.04                0.04\n",
       "40~50           8           45           0.16                0.20\n",
       "50~60          16           55           0.32                0.52\n",
       "60~70          18           65           0.36                0.88\n",
       "70~80           6           75           0.12                1.00\n",
       "80~90           0           85           0.00                1.00\n",
       "90~100          0           95           0.00                1.00"
      ]
     },
     "execution_count": 18,
     "metadata": {},
     "output_type": "execute_result"
    }
   ],
   "source": [
    "# 도수 분포표 확장\n",
    "freq_dist_df['class value'] = class_value\n",
    "freq_dist_df['relative freq'] = rel_freq\n",
    "freq_dist_df['cum. relative freq'] = cum_rel_freq\n",
    "freq_dist_df"
   ]
  },
  {
   "cell_type": "markdown",
   "id": "0a912338",
   "metadata": {},
   "source": [
    "도수 분포표 예제"
   ]
  },
  {
   "cell_type": "code",
   "execution_count": 19,
   "id": "88de3254",
   "metadata": {},
   "outputs": [
    {
     "data": {
      "text/html": [
       "<div>\n",
       "<style scoped>\n",
       "    .dataframe tbody tr th:only-of-type {\n",
       "        vertical-align: middle;\n",
       "    }\n",
       "\n",
       "    .dataframe tbody tr th {\n",
       "        vertical-align: top;\n",
       "    }\n",
       "\n",
       "    .dataframe thead th {\n",
       "        text-align: right;\n",
       "    }\n",
       "</style>\n",
       "<table border=\"1\" class=\"dataframe\">\n",
       "  <thead>\n",
       "    <tr style=\"text-align: right;\">\n",
       "      <th></th>\n",
       "      <th>Attendance</th>\n",
       "      <th>Obtained Marks</th>\n",
       "    </tr>\n",
       "  </thead>\n",
       "  <tbody>\n",
       "    <tr>\n",
       "      <th>0</th>\n",
       "      <td>60</td>\n",
       "      <td>90</td>\n",
       "    </tr>\n",
       "    <tr>\n",
       "      <th>1</th>\n",
       "      <td>100</td>\n",
       "      <td>75</td>\n",
       "    </tr>\n",
       "    <tr>\n",
       "      <th>2</th>\n",
       "      <td>80</td>\n",
       "      <td>82</td>\n",
       "    </tr>\n",
       "    <tr>\n",
       "      <th>3</th>\n",
       "      <td>78</td>\n",
       "      <td>64</td>\n",
       "    </tr>\n",
       "    <tr>\n",
       "      <th>4</th>\n",
       "      <td>95</td>\n",
       "      <td>45</td>\n",
       "    </tr>\n",
       "  </tbody>\n",
       "</table>\n",
       "</div>"
      ],
      "text/plain": [
       "   Attendance  Obtained Marks\n",
       "0          60              90\n",
       "1         100              75\n",
       "2          80              82\n",
       "3          78              64\n",
       "4          95              45"
      ]
     },
     "execution_count": 19,
     "metadata": {},
     "output_type": "execute_result"
    }
   ],
   "source": [
    "import pandas as pd\n",
    "\n",
    "dataframe=pd.DataFrame({'Attendance': {0: 60, 1: 100, 2: 80,3: 78,4: 95},\n",
    "                        'Obtained Marks': {0: 90, 1: 75, 2: 82, 3: 64, 4: 45}})\n",
    "dataframe\n"
   ]
  },
  {
   "cell_type": "code",
   "execution_count": 21,
   "id": "f9503f46",
   "metadata": {},
   "outputs": [
    {
     "data": {
      "text/plain": [
       "Attendance        1\n",
       "Obtained Marks    0\n",
       "dtype: int64"
      ]
     },
     "execution_count": 21,
     "metadata": {},
     "output_type": "execute_result"
    }
   ],
   "source": [
    "series = dataframe.idxmax()\n",
    "series\n",
    "\n",
    "# 가장 높은 값을 갖고 있는 index를 나타냄"
   ]
  },
  {
   "cell_type": "code",
   "execution_count": 22,
   "id": "8fb35c5c",
   "metadata": {},
   "outputs": [
    {
     "data": {
      "text/plain": [
       "Attendance        0\n",
       "Obtained Marks    4\n",
       "dtype: int64"
      ]
     },
     "execution_count": 22,
     "metadata": {},
     "output_type": "execute_result"
    }
   ],
   "source": [
    "series = dataframe.idxmin()\n",
    "series"
   ]
  },
  {
   "cell_type": "markdown",
   "id": "54c0a464",
   "metadata": {},
   "source": [
    "**도수 분포표 최빈 값**"
   ]
  },
  {
   "cell_type": "code",
   "execution_count": 26,
   "id": "6a9c2ef7",
   "metadata": {},
   "outputs": [
    {
     "data": {
      "text/plain": [
       "'60~70'"
      ]
     },
     "execution_count": 26,
     "metadata": {},
     "output_type": "execute_result"
    }
   ],
   "source": [
    "fre_dist_df['frequency'].idxmax()\n"
   ]
  },
  {
   "cell_type": "code",
   "execution_count": 27,
   "id": "1fcd5fad",
   "metadata": {},
   "outputs": [
    {
     "data": {
      "text/plain": [
       "65"
      ]
     },
     "execution_count": 27,
     "metadata": {},
     "output_type": "execute_result"
    }
   ],
   "source": [
    "freq_dist_df.loc[fre_dist_df['frequency'].idxmax() , 'class value']"
   ]
  },
  {
   "cell_type": "markdown",
   "id": "ab425cd7",
   "metadata": {},
   "source": [
    "**백분위수 및 사분위수 계산**"
   ]
  },
  {
   "cell_type": "code",
   "execution_count": 28,
   "id": "272b2981",
   "metadata": {},
   "outputs": [
    {
     "data": {
      "text/plain": [
       "array([ 1,  2,  3,  4,  5,  6,  7,  8,  9, 10, 11])"
      ]
     },
     "execution_count": 28,
     "metadata": {},
     "output_type": "execute_result"
    }
   ],
   "source": [
    "x = np.arange(1,12 ,1)\n",
    "x"
   ]
  },
  {
   "cell_type": "code",
   "execution_count": 32,
   "id": "2b390799",
   "metadata": {},
   "outputs": [
    {
     "name": "stdout",
     "output_type": "stream",
     "text": [
      "2.0\n",
      "2.0\n"
     ]
    }
   ],
   "source": [
    "print(np.percentile(x , 10)) # 백분위수\n",
    "print(np.quantile(x , 0.1))  # 0~1 사이의 값 입력"
   ]
  },
  {
   "cell_type": "code",
   "execution_count": 33,
   "id": "284f7284",
   "metadata": {},
   "outputs": [
    {
     "name": "stdout",
     "output_type": "stream",
     "text": [
      "3.5\n",
      "3.5\n"
     ]
    }
   ],
   "source": [
    "print(np.percentile(x , 25)) # 25%\n",
    "print(np.quantile(x , 0.25))  # 4 사분위수"
   ]
  },
  {
   "cell_type": "markdown",
   "id": "4f6d0997",
   "metadata": {},
   "source": [
    "## 히스토그램"
   ]
  },
  {
   "cell_type": "code",
   "execution_count": 34,
   "id": "d0a7e196",
   "metadata": {},
   "outputs": [],
   "source": [
    "import matplotlib.pyplot as plt"
   ]
  },
  {
   "cell_type": "code",
   "execution_count": 36,
   "id": "0d8d4972",
   "metadata": {},
   "outputs": [
    {
     "data": {
      "image/png": "[encoded data removed]",
      "text/plain": [
       "<Figure size 432x288 with 1 Axes>"
      ]
     },
     "metadata": {
      "needs_background": "light"
     },
     "output_type": "display_data"
    }
   ],
   "source": [
    "plt.hist(eng , bins=25 , range=(0,100))\n",
    "plt.show()"
   ]
  },
  {
   "cell_type": "markdown",
   "id": "2ca1a6ad",
   "metadata": {},
   "source": [
    "## 상자그림"
   ]
  },
  {
   "cell_type": "code",
   "execution_count": 39,
   "id": "16fcd9be",
   "metadata": {
    "scrolled": true
   },
   "outputs": [
    {
     "ename": "NameError",
     "evalue": "name 'plt' is not defined",
     "output_type": "error",
     "traceback": [
      "\u001b[1;31m---------------------------------------------------------------------------\u001b[0m",
      "\u001b[1;31mNameError\u001b[0m                                 Traceback (most recent call last)",
      "\u001b[1;32m<ipython-input-39-a7ebb46d8679>\u001b[0m in \u001b[0;36m<module>\u001b[1;34m\u001b[0m\n\u001b[1;32m----> 1\u001b[1;33m \u001b[0mplt\u001b[0m\u001b[1;33m.\u001b[0m\u001b[0mboxplot\u001b[0m\u001b[1;33m(\u001b[0m\u001b[0meng\u001b[0m\u001b[1;33m,\u001b[0m \u001b[0mlabels\u001b[0m \u001b[1;33m=\u001b[0m \u001b[1;33m[\u001b[0m\u001b[1;34m'english'\u001b[0m\u001b[1;33m]\u001b[0m\u001b[1;33m)\u001b[0m\u001b[1;33m\u001b[0m\u001b[1;33m\u001b[0m\u001b[0m\n\u001b[0m\u001b[0;32m      2\u001b[0m \u001b[0mplt\u001b[0m\u001b[1;33m.\u001b[0m\u001b[0mshow\u001b[0m\u001b[1;33m(\u001b[0m\u001b[1;33m)\u001b[0m\u001b[1;33m\u001b[0m\u001b[1;33m\u001b[0m\u001b[0m\n",
      "\u001b[1;31mNameError\u001b[0m: name 'plt' is not defined"
     ]
    }
   ],
   "source": [
    "plt.boxplot(eng, labels = ['english'])\n",
    "plt.show()"
   ]
  },
  {
   "cell_type": "markdown",
   "id": "5f111115",
   "metadata": {},
   "source": [
    "# 2차원 데이터 정리"
   ]
  },
  {
   "cell_type": "markdown",
   "id": "d2b69958",
   "metadata": {},
   "source": [
    "## 두 데이터 사이의 관계를 나타내느 지표"
   ]
  },
  {
   "cell_type": "markdown",
   "id": "a88fb0a7",
   "metadata": {},
   "source": [
    "**두 변수 사이의 관계 측도**\n",
    "- 수치형 변수간의 관계 : 피어슨 사오간계수\n",
    "- 순서형 변수간의 관계 : Kendall's tau, Spearman correlation\n",
    "- 범주형 변수간의 관계 : 카이제곱검정 - Chi correlation"
   ]
  },
  {
   "cell_type": "code",
   "execution_count": 2,
   "id": "2ae54574",
   "metadata": {},
   "outputs": [
    {
     "data": {
      "text/html": [
       "<div>\n",
       "<style scoped>\n",
       "    .dataframe tbody tr th:only-of-type {\n",
       "        vertical-align: middle;\n",
       "    }\n",
       "\n",
       "    .dataframe tbody tr th {\n",
       "        vertical-align: top;\n",
       "    }\n",
       "\n",
       "    .dataframe thead th {\n",
       "        text-align: right;\n",
       "    }\n",
       "</style>\n",
       "<table border=\"1\" class=\"dataframe\">\n",
       "  <thead>\n",
       "    <tr style=\"text-align: right;\">\n",
       "      <th></th>\n",
       "      <th>english</th>\n",
       "      <th>mathematics</th>\n",
       "    </tr>\n",
       "    <tr>\n",
       "      <th>student number</th>\n",
       "      <th></th>\n",
       "      <th></th>\n",
       "    </tr>\n",
       "  </thead>\n",
       "  <tbody>\n",
       "    <tr>\n",
       "      <th>1</th>\n",
       "      <td>42</td>\n",
       "      <td>65</td>\n",
       "    </tr>\n",
       "    <tr>\n",
       "      <th>2</th>\n",
       "      <td>69</td>\n",
       "      <td>80</td>\n",
       "    </tr>\n",
       "    <tr>\n",
       "      <th>3</th>\n",
       "      <td>56</td>\n",
       "      <td>63</td>\n",
       "    </tr>\n",
       "    <tr>\n",
       "      <th>4</th>\n",
       "      <td>41</td>\n",
       "      <td>63</td>\n",
       "    </tr>\n",
       "    <tr>\n",
       "      <th>5</th>\n",
       "      <td>57</td>\n",
       "      <td>76</td>\n",
       "    </tr>\n",
       "  </tbody>\n",
       "</table>\n",
       "</div>"
      ],
      "text/plain": [
       "                english  mathematics\n",
       "student number                      \n",
       "1                    42           65\n",
       "2                    69           80\n",
       "3                    56           63\n",
       "4                    41           63\n",
       "5                    57           76"
      ]
     },
     "execution_count": 2,
     "metadata": {},
     "output_type": "execute_result"
    }
   ],
   "source": [
    "df = pd.read_csv('C:/Users/hspar/Desktop/HS_Park/멀티캠퍼스/data/ch2_scores_em.csv' ,\n",
    "                index_col='student number')\n",
    "df.head()"
   ]
  },
  {
   "cell_type": "code",
   "execution_count": 4,
   "id": "81781bb4",
   "metadata": {},
   "outputs": [
    {
     "data": {
      "image/png": "[encoded data removed]",
      "text/plain": [
       "<Figure size 432x288 with 1 Axes>"
      ]
     },
     "metadata": {
      "needs_background": "light"
     },
     "output_type": "display_data"
    }
   ],
   "source": [
    "import matplotlib.pyplot as plt\n",
    "\n",
    "plt.scatter(df['english'], df['mathematics'])\n",
    "plt.xlabel('english score')\n",
    "plt.ylabel('mathematics score')\n",
    "\n",
    "plt.axhline(y=df['mathematics'].mean(), color='r',\n",
    "            linewidth=1,linestyle=':')\n",
    "plt.axvline(x=df['english'].mean(), color='r',\n",
    "            linewidth=1,linestyle=':')\n",
    "plt.show()\n"
   ]
  },
  {
   "cell_type": "markdown",
   "id": "e9516b2c",
   "metadata": {},
   "source": [
    "## 공분산\n",
    "- 교재 p.74\n",
    "- 두 변수 사이의 관계성 척도\n"
   ]
  },
  {
   "cell_type": "code",
   "execution_count": 6,
   "id": "4006029a",
   "metadata": {},
   "outputs": [
    {
     "data": {
      "text/html": [
       "<div>\n",
       "<style scoped>\n",
       "    .dataframe tbody tr th:only-of-type {\n",
       "        vertical-align: middle;\n",
       "    }\n",
       "\n",
       "    .dataframe tbody tr th {\n",
       "        vertical-align: top;\n",
       "    }\n",
       "\n",
       "    .dataframe thead th {\n",
       "        text-align: right;\n",
       "    }\n",
       "</style>\n",
       "<table border=\"1\" class=\"dataframe\">\n",
       "  <thead>\n",
       "    <tr style=\"text-align: right;\">\n",
       "      <th></th>\n",
       "      <th>english</th>\n",
       "      <th>mathematics</th>\n",
       "      <th>eng_dev.</th>\n",
       "      <th>math_dev.</th>\n",
       "      <th>productOfDev.</th>\n",
       "    </tr>\n",
       "    <tr>\n",
       "      <th>student number</th>\n",
       "      <th></th>\n",
       "      <th></th>\n",
       "      <th></th>\n",
       "      <th></th>\n",
       "      <th></th>\n",
       "    </tr>\n",
       "  </thead>\n",
       "  <tbody>\n",
       "    <tr>\n",
       "      <th>1</th>\n",
       "      <td>42</td>\n",
       "      <td>65</td>\n",
       "      <td>-16.38</td>\n",
       "      <td>-13.88</td>\n",
       "      <td>227.354</td>\n",
       "    </tr>\n",
       "    <tr>\n",
       "      <th>2</th>\n",
       "      <td>69</td>\n",
       "      <td>80</td>\n",
       "      <td>10.62</td>\n",
       "      <td>1.12</td>\n",
       "      <td>11.894</td>\n",
       "    </tr>\n",
       "    <tr>\n",
       "      <th>3</th>\n",
       "      <td>56</td>\n",
       "      <td>63</td>\n",
       "      <td>-2.38</td>\n",
       "      <td>-15.88</td>\n",
       "      <td>37.794</td>\n",
       "    </tr>\n",
       "    <tr>\n",
       "      <th>4</th>\n",
       "      <td>41</td>\n",
       "      <td>63</td>\n",
       "      <td>-17.38</td>\n",
       "      <td>-15.88</td>\n",
       "      <td>275.994</td>\n",
       "    </tr>\n",
       "    <tr>\n",
       "      <th>5</th>\n",
       "      <td>57</td>\n",
       "      <td>76</td>\n",
       "      <td>-1.38</td>\n",
       "      <td>-2.88</td>\n",
       "      <td>3.974</td>\n",
       "    </tr>\n",
       "  </tbody>\n",
       "</table>\n",
       "</div>"
      ],
      "text/plain": [
       "                english  mathematics  eng_dev.  math_dev.  productOfDev.\n",
       "student number                                                          \n",
       "1                    42           65    -16.38     -13.88        227.354\n",
       "2                    69           80     10.62       1.12         11.894\n",
       "3                    56           63     -2.38     -15.88         37.794\n",
       "4                    41           63    -17.38     -15.88        275.994\n",
       "5                    57           76     -1.38      -2.88          3.974"
      ]
     },
     "execution_count": 6,
     "metadata": {},
     "output_type": "execute_result"
    }
   ],
   "source": [
    "# 각 과목의 편차 및 과목간 공분산\n",
    "\n",
    "summary_df = df.copy()\n",
    "summary_df['eng_dev.'] =\\\n",
    "    summary_df['english'] - summary_df['english'].mean()\n",
    "summary_df['math_dev.'] =\\\n",
    "    summary_df['mathematics'] - summary_df['mathematics'].mean()\n",
    "summary_df['productOfDev.'] =\\\n",
    "    summary_df['eng_dev.'] * summary_df['math_dev.']\n",
    "summary_df.head()\n"
   ]
  },
  {
   "cell_type": "code",
   "execution_count": 8,
   "id": "bacd9cf0",
   "metadata": {},
   "outputs": [
    {
     "data": {
      "text/plain": [
       "58.486"
      ]
     },
     "execution_count": 8,
     "metadata": {},
     "output_type": "execute_result"
    }
   ],
   "source": [
    "summary_df['productOfDev.'].mean()\n",
    "# 각 학생별 영어와 수학의 공분산 평균이 58.486 이므로 영어와 수학은 양의 상관관계"
   ]
  },
  {
   "cell_type": "markdown",
   "id": "f5436aeb",
   "metadata": {},
   "source": [
    "**numpy의 공분산 함수 : cov(data1, data2 , ddof= )**\n",
    "- 반환값 : 공분산 행렬\n",
    "- 반환 행렬 중 [0,1] 과 [1,0]의 원소가 공분산 값"
   ]
  },
  {
   "cell_type": "code",
   "execution_count": 10,
   "id": "8fd0be0b",
   "metadata": {},
   "outputs": [
    {
     "data": {
      "text/plain": [
       "array([[94.116, 58.486],\n",
       "       [58.486, 69.386]])"
      ]
     },
     "execution_count": 10,
     "metadata": {},
     "output_type": "execute_result"
    }
   ],
   "source": [
    "cov_mat = np.cov(df['english'] , df['mathematics'], ddof=0)\n",
    "cov_mat"
   ]
  },
  {
   "cell_type": "code",
   "execution_count": 11,
   "id": "b31c730e",
   "metadata": {},
   "outputs": [
    {
     "data": {
      "text/plain": [
       "(58.4856, 58.4856)"
      ]
     },
     "execution_count": 11,
     "metadata": {},
     "output_type": "execute_result"
    }
   ],
   "source": [
    "cov_mat[0,1] , cov_mat[1,0]"
   ]
  },
  {
   "cell_type": "code",
   "execution_count": 12,
   "id": "5493fc1d",
   "metadata": {},
   "outputs": [
    {
     "data": {
      "text/plain": [
       "94.1156"
      ]
     },
     "execution_count": 12,
     "metadata": {},
     "output_type": "execute_result"
    }
   ],
   "source": [
    "cov_mat[0,0] # 영어 과목의 분산"
   ]
  },
  {
   "cell_type": "code",
   "execution_count": 13,
   "id": "bb5f9b24",
   "metadata": {},
   "outputs": [
    {
     "data": {
      "text/plain": [
       "69.3856"
      ]
     },
     "execution_count": 13,
     "metadata": {},
     "output_type": "execute_result"
    }
   ],
   "source": [
    "cov_mat[1,1] # 수학 과목의 분산"
   ]
  },
  {
   "cell_type": "code",
   "execution_count": 15,
   "id": "f4711bd4",
   "metadata": {},
   "outputs": [
    {
     "data": {
      "text/plain": [
       "(94.116, 69.386)"
      ]
     },
     "execution_count": 15,
     "metadata": {},
     "output_type": "execute_result"
    }
   ],
   "source": [
    "np.var(df['english'] , ddof=0) , np.var(df['mathematics'] , ddof= 0 )"
   ]
  },
  {
   "cell_type": "markdown",
   "id": "1d3d6597",
   "metadata": {},
   "source": [
    "**상관계수**\n",
    "- 공분산은 단위의 제곱으로 표현되어 직관적으로 이해하기 어려움\n",
    "- 상관계수는 단위에 의존하지 않는 상관성을 나타내는 지표\n",
    "- 양의 상관은 1에 가까워지고, 음의 상관은 -1에 가까워지고 무상관은 0"
   ]
  },
  {
   "cell_type": "code",
   "execution_count": 16,
   "id": "3961458d",
   "metadata": {},
   "outputs": [
    {
     "data": {
      "text/plain": [
       "0.7237414863069244"
      ]
     },
     "execution_count": 16,
     "metadata": {},
     "output_type": "execute_result"
    }
   ],
   "source": [
    "# 수식으로 상관계수 계산\n",
    "np.cov(df['english'], df['mathematics'], ddof=0)[0, 1] /\\\n",
    "    (np.std(df['english']) * np.std(df['mathematics']))\n"
   ]
  },
  {
   "cell_type": "markdown",
   "id": "cf1e6012",
   "metadata": {},
   "source": [
    "**상관계수 함수(np.corrcoef(x,y) / df.corr())**"
   ]
  },
  {
   "cell_type": "code",
   "execution_count": 17,
   "id": "51f2b0eb",
   "metadata": {},
   "outputs": [
    {
     "data": {
      "text/plain": [
       "array([[1.   , 0.724],\n",
       "       [0.724, 1.   ]])"
      ]
     },
     "execution_count": 17,
     "metadata": {},
     "output_type": "execute_result"
    }
   ],
   "source": [
    "np.corrcoef(df['english'] , df['mathematics'])"
   ]
  },
  {
   "cell_type": "code",
   "execution_count": 18,
   "id": "16748818",
   "metadata": {},
   "outputs": [
    {
     "data": {
      "text/html": [
       "<div>\n",
       "<style scoped>\n",
       "    .dataframe tbody tr th:only-of-type {\n",
       "        vertical-align: middle;\n",
       "    }\n",
       "\n",
       "    .dataframe tbody tr th {\n",
       "        vertical-align: top;\n",
       "    }\n",
       "\n",
       "    .dataframe thead th {\n",
       "        text-align: right;\n",
       "    }\n",
       "</style>\n",
       "<table border=\"1\" class=\"dataframe\">\n",
       "  <thead>\n",
       "    <tr style=\"text-align: right;\">\n",
       "      <th></th>\n",
       "      <th>english</th>\n",
       "      <th>mathematics</th>\n",
       "    </tr>\n",
       "  </thead>\n",
       "  <tbody>\n",
       "    <tr>\n",
       "      <th>english</th>\n",
       "      <td>1.000</td>\n",
       "      <td>0.724</td>\n",
       "    </tr>\n",
       "    <tr>\n",
       "      <th>mathematics</th>\n",
       "      <td>0.724</td>\n",
       "      <td>1.000</td>\n",
       "    </tr>\n",
       "  </tbody>\n",
       "</table>\n",
       "</div>"
      ],
      "text/plain": [
       "             english  mathematics\n",
       "english        1.000        0.724\n",
       "mathematics    0.724        1.000"
      ]
     },
     "execution_count": 18,
     "metadata": {},
     "output_type": "execute_result"
    }
   ],
   "source": [
    "# pandas.DataFrame.corr() 함수 적용\n",
    "df.corr()"
   ]
  },
  {
   "cell_type": "markdown",
   "id": "86999dfe",
   "metadata": {},
   "source": [
    "## 2차원 데이터의 시각화"
   ]
  },
  {
   "cell_type": "markdown",
   "id": "202e5011",
   "metadata": {},
   "source": [
    "**산점도**"
   ]
  },
  {
   "cell_type": "code",
   "execution_count": 20,
   "id": "98a32741",
   "metadata": {},
   "outputs": [],
   "source": [
    "import matplotlib.pyplot as plt\n",
    "%matplotlib inline"
   ]
  },
  {
   "cell_type": "code",
   "execution_count": 22,
   "id": "b1129b29",
   "metadata": {},
   "outputs": [
    {
     "data": {
      "image/png": "[encoded data removed]",
      "text/plain": [
       "<Figure size 432x288 with 1 Axes>"
      ]
     },
     "metadata": {
      "needs_background": "light"
     },
     "output_type": "display_data"
    }
   ],
   "source": [
    "plt.scatter(df['english'],df['mathematics'] )\n",
    "plt.xlabel('english')\n",
    "plt.ylabel('mathematics')\n",
    "plt.show()\n"
   ]
  },
  {
   "cell_type": "markdown",
   "id": "e92e2a98",
   "metadata": {},
   "source": [
    "**회귀직선**"
   ]
  },
  {
   "cell_type": "code",
   "execution_count": 24,
   "id": "bd3bbd6f",
   "metadata": {},
   "outputs": [
    {
     "data": {
      "image/png": "[encoded data removed]",
      "text/plain": [
       "<Figure size 432x288 with 1 Axes>"
      ]
     },
     "metadata": {
      "needs_background": "light"
     },
     "output_type": "display_data"
    }
   ],
   "source": [
    "# 계수β_0와β_1를 구한다(기울기와 절편)\n",
    "poly_fit = np.polyfit(df['english'],df['mathematics'], 1)\n",
    "\n",
    "# β_0+β_1 x를 반환하는 함수를 작성\n",
    "poly_1d = np.poly1d(poly_fit)\n",
    "\n",
    "# 직선을 그리기 위한 x좌표\n",
    "xs = np.linspace(df['english'].min(), df['english'].max())\n",
    "\n",
    "# xs에 대응하는 y좌표\n",
    "ys = poly_1d(xs)\n",
    "\n",
    "plt.xlabel('english')\n",
    "plt.ylabel('mathematics')\n",
    "plt.scatter(df['english'],df['mathematics'], label='score')\n",
    "plt.plot(xs, ys, color='gray',\n",
    "        label=f'{poly_fit[1]:.2f}+{poly_fit[0]:.2f}x')\n",
    "\n",
    "# 범례의 표시\n",
    "plt.legend(loc='upper left')\n",
    "\n",
    "plt.show()\n"
   ]
  },
  {
   "cell_type": "markdown",
   "id": "7dff111a",
   "metadata": {},
   "source": [
    "**히트맵**\n",
    "\n",
    "- 히스토그램의 2차원 버전으로 색을 이용해 표현하는 그래프\n",
    "- 영어 점수 35점부터 80점, 수학 점수 55점부터 95점까지 5점 간격\n",
    "- 교재 p.83"
   ]
  },
  {
   "cell_type": "code",
   "execution_count": 32,
   "id": "63687f99",
   "metadata": {
    "scrolled": true
   },
   "outputs": [
    {
     "data": {
      "image/png": "[encoded data removed]",
      "text/plain": [
       "<Figure size 432x288 with 2 Axes>"
      ]
     },
     "metadata": {
      "needs_background": "light"
     },
     "output_type": "display_data"
    }
   ],
   "source": [
    "c= plt.hist2d(df['english'] , df['mathematics'], bins = (9,8) , range=[(35,80) , (55,95)])\n",
    "c[3]\n",
    "\n",
    "plt.xlabel('english')\n",
    "plt.ylabel('mathematics')\n",
    "plt.xticks(c[1])\n",
    "plt.yticks(c[2])\n",
    "\n",
    "plt.colorbar(c[3])\n",
    "plt.show()\n"
   ]
  }
 ],
 "metadata": {
  "kernelspec": {
   "display_name": "Python 3",
   "language": "python",
   "name": "python3"
  },
  "language_info": {
   "codemirror_mode": {
    "name": "ipython",
    "version": 3
   },
   "file_extension": ".py",
   "mimetype": "text/x-python",
   "name": "python",
   "nbconvert_exporter": "python",
   "pygments_lexer": "ipython3",
   "version": "3.8.8"
  }
 },
 "nbformat": 4,
 "nbformat_minor": 5
}
